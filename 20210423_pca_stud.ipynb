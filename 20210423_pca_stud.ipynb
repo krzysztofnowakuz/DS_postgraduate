{
  "nbformat": 4,
  "nbformat_minor": 0,
  "metadata": {
    "colab": {
      "name": "20210423_pca_stud.ipynb",
      "provenance": []
    },
    "kernelspec": {
      "name": "python3",
      "display_name": "Python 3"
    },
    "language_info": {
      "name": "python"
    }
  },
  "cells": [
    {
      "cell_type": "markdown",
      "metadata": {
        "id": "rqZX6ZMd2KnJ"
      },
      "source": [
        "# Redukcja wymiarów wprowadzenie "
      ]
    },
    {
      "cell_type": "markdown",
      "metadata": {
        "id": "DPXnxmTx2Pms"
      },
      "source": [
        "Często w wypadku analiz danych możemy spotkać się z dużą liczbą zmiennych opisujących nasze obserwacje. Dużo danych nie znaczy jednak dużo informacji i taki stan rzeczy może naszą analizę tylko utrudniać. W takich wypadkach na pomoc przychodzą techniki związane z redukcją wymiarów.\n",
        "\n",
        "W ich ramach staramy się zredukować liczbę zmiennych w zbiorze, lub stworzyć nowe, sysntetyczne zmienne, które zawierąją w sobie jak najwięcej informacji ze zmiennych pierwotnych.\n",
        "\n",
        "Takie podejście jest pomocne:\n",
        "- w radzeniu sobie z wieloliniowościę (multicolinerity)\n",
        "- w zarządzaniu przeklęstwem wielowymiarowości\n",
        "- w budowaniu lepszych skupień\n",
        "- w wizulizacji danych w ramach EDA\n",
        "- w wnioskowaniu z danych"
      ]
    },
    {
      "cell_type": "markdown",
      "metadata": {
        "id": "G9OT1jnC4Ltr"
      },
      "source": [
        "# Analiza głównych skladowych (PCA)"
      ]
    },
    {
      "cell_type": "markdown",
      "metadata": {
        "id": "V-h9kfnt4Qqx"
      },
      "source": [
        "Najbardziej popularną z metod redukcji wymiarów jest Principal Component Analysis. Jej główną idą jest mapowanie naszych zmiennych na nowy układ współrzędnych, takich że, wzdłuż pierwszego wymiary zawiera się najwięcej wariancji naszych danych, wzdłuż drugiego mniej, ale więcej niż wzdłuż trzeciego etc.\n",
        "\n",
        "Wartości punktów w nowym układzie współrzędnych nazywane są głównymi składowymi. Widzieć je możemy też jako kombinacje liniowe pierwotnych zmiennych.\n",
        "\n",
        "W procesie analizy pozbywamy się najczęsciej składowych położonych najniżej w \"rankingu\" osi. Nowym osią możemy nadać też intrpetacje odnoszące się do pierwotnych zmiennych.\n",
        "\n",
        "Zobaczmy to wizualnie:\n",
        "https://setosa.io/ev/principal-component-analysis/#:~:text=Principal%20component%20analysis%20(PCA)%20is,easy%20to%20explore%20and%20visualize."
      ]
    },
    {
      "cell_type": "markdown",
      "metadata": {
        "id": "8i9jxlNJ81UC"
      },
      "source": [
        "# Zobaczmy jak to działa na irysach"
      ]
    },
    {
      "cell_type": "markdown",
      "metadata": {
        "id": "Bf_XxmOu-KVH"
      },
      "source": [
        "Ładowanie danych"
      ]
    },
    {
      "cell_type": "code",
      "metadata": {
        "id": "JMIsBszc85TQ"
      },
      "source": [
        "from sklearn.datasets import load_iris\n",
        "import pandas as pd\n",
        "import numpy as np"
      ],
      "execution_count": null,
      "outputs": []
    },
    {
      "cell_type": "code",
      "metadata": {
        "id": "Gub4DEi18-cZ"
      },
      "source": [
        "iris = load_iris()\n",
        "\n",
        "df= pd.DataFrame(data= np.c_[iris['data'], iris['target']],\n",
        "                 columns= iris['feature_names'] + ['target'])\n",
        "\n",
        "df['species'] = pd.Categorical.from_codes(iris.target, iris.target_names)"
      ],
      "execution_count": null,
      "outputs": []
    },
    {
      "cell_type": "markdown",
      "metadata": {
        "id": "usWAFduc-Nph"
      },
      "source": [
        "## Wizualizacje"
      ]
    },
    {
      "cell_type": "code",
      "metadata": {
        "colab": {
          "base_uri": "https://localhost:8080/",
          "height": 542
        },
        "id": "MZSrxWuH-Z9w",
        "outputId": "2f325dd3-8896-4777-b0f9-5effdfdb2fa0"
      },
      "source": [
        "import plotly.express as px\n",
        "\n",
        "features = [\"sepal width (cm)\", \"sepal length (cm)\", \"petal width (cm)\", \"petal length (cm)\"]\n",
        "\n",
        "fig = px.scatter_matrix(\n",
        "    df,\n",
        "    dimensions=features,\n",
        "    color=\"species\"\n",
        ")\n",
        "fig.update_traces(diagonal_visible=False)\n",
        "fig.show()"
      ],
      "execution_count": null,
      "outputs": [
        {
          "output_type": "display_data",
          "data": {
            "text/html": [
              "<html>\n",
              "<head><meta charset=\"utf-8\" /></head>\n",
              "<body>\n",
              "    <div>\n",
              "            <script src=\"https://cdnjs.cloudflare.com/ajax/libs/mathjax/2.7.5/MathJax.js?config=TeX-AMS-MML_SVG\"></script><script type=\"text/javascript\">if (window.MathJax) {MathJax.Hub.Config({SVG: {font: \"STIX-Web\"}});}</script>\n",
              "                <script type=\"text/javascript\">window.PlotlyConfig = {MathJaxConfig: 'local'};</script>\n",
              "        <script src=\"https://cdn.plot.ly/plotly-latest.min.js\"></script>    \n",
              "            <div id=\"aa3eb064-7f72-4e08-a6fe-aa171abe3219\" class=\"plotly-graph-div\" style=\"height:525px; width:100%;\"></div>\n",
              "            <script type=\"text/javascript\">\n",
              "                \n",
              "                    window.PLOTLYENV=window.PLOTLYENV || {};\n",
              "                    \n",
              "                if (document.getElementById(\"aa3eb064-7f72-4e08-a6fe-aa171abe3219\")) {\n",
              "                    Plotly.newPlot(\n",
              "                        'aa3eb064-7f72-4e08-a6fe-aa171abe3219',\n",
              "                        [{\"diagonal\": {\"visible\": false}, \"dimensions\": [{\"axis\": {\"matches\": true}, \"label\": \"sepal width (cm)\", \"values\": [3.5, 3.0, 3.2, 3.1, 3.6, 3.9, 3.4, 3.4, 2.9, 3.1, 3.7, 3.4, 3.0, 3.0, 4.0, 4.4, 3.9, 3.5, 3.8, 3.8, 3.4, 3.7, 3.6, 3.3, 3.4, 3.0, 3.4, 3.5, 3.4, 3.2, 3.1, 3.4, 4.1, 4.2, 3.1, 3.2, 3.5, 3.6, 3.0, 3.4, 3.5, 2.3, 3.2, 3.5, 3.8, 3.0, 3.8, 3.2, 3.7, 3.3]}, {\"axis\": {\"matches\": true}, \"label\": \"sepal length (cm)\", \"values\": [5.1, 4.9, 4.7, 4.6, 5.0, 5.4, 4.6, 5.0, 4.4, 4.9, 5.4, 4.8, 4.8, 4.3, 5.8, 5.7, 5.4, 5.1, 5.7, 5.1, 5.4, 5.1, 4.6, 5.1, 4.8, 5.0, 5.0, 5.2, 5.2, 4.7, 4.8, 5.4, 5.2, 5.5, 4.9, 5.0, 5.5, 4.9, 4.4, 5.1, 5.0, 4.5, 4.4, 5.0, 5.1, 4.8, 5.1, 4.6, 5.3, 5.0]}, {\"axis\": {\"matches\": true}, \"label\": \"petal width (cm)\", \"values\": [0.2, 0.2, 0.2, 0.2, 0.2, 0.4, 0.3, 0.2, 0.2, 0.1, 0.2, 0.2, 0.1, 0.1, 0.2, 0.4, 0.4, 0.3, 0.3, 0.3, 0.2, 0.4, 0.2, 0.5, 0.2, 0.2, 0.4, 0.2, 0.2, 0.2, 0.2, 0.4, 0.1, 0.2, 0.2, 0.2, 0.2, 0.1, 0.2, 0.2, 0.3, 0.3, 0.2, 0.6, 0.4, 0.3, 0.2, 0.2, 0.2, 0.2]}, {\"axis\": {\"matches\": true}, \"label\": \"petal length (cm)\", \"values\": [1.4, 1.4, 1.3, 1.5, 1.4, 1.7, 1.4, 1.5, 1.4, 1.5, 1.5, 1.6, 1.4, 1.1, 1.2, 1.5, 1.3, 1.4, 1.7, 1.5, 1.7, 1.5, 1.0, 1.7, 1.9, 1.6, 1.6, 1.5, 1.4, 1.6, 1.6, 1.5, 1.5, 1.4, 1.5, 1.2, 1.3, 1.4, 1.3, 1.5, 1.3, 1.3, 1.3, 1.6, 1.9, 1.4, 1.6, 1.4, 1.5, 1.4]}], \"hoverlabel\": {\"namelength\": 0}, \"hovertemplate\": \"species=setosa<br>%{xaxis.title.text}=%{x}<br>%{yaxis.title.text}=%{y}\", \"legendgroup\": \"species=setosa\", \"marker\": {\"color\": \"#636efa\", \"symbol\": \"circle\"}, \"name\": \"species=setosa\", \"showlegend\": true, \"type\": \"splom\"}, {\"diagonal\": {\"visible\": false}, \"dimensions\": [{\"axis\": {\"matches\": true}, \"label\": \"sepal width (cm)\", \"values\": [3.2, 3.2, 3.1, 2.3, 2.8, 2.8, 3.3, 2.4, 2.9, 2.7, 2.0, 3.0, 2.2, 2.9, 2.9, 3.1, 3.0, 2.7, 2.2, 2.5, 3.2, 2.8, 2.5, 2.8, 2.9, 3.0, 2.8, 3.0, 2.9, 2.6, 2.4, 2.4, 2.7, 2.7, 3.0, 3.4, 3.1, 2.3, 3.0, 2.5, 2.6, 3.0, 2.6, 2.3, 2.7, 3.0, 2.9, 2.9, 2.5, 2.8]}, {\"axis\": {\"matches\": true}, \"label\": \"sepal length (cm)\", \"values\": [7.0, 6.4, 6.9, 5.5, 6.5, 5.7, 6.3, 4.9, 6.6, 5.2, 5.0, 5.9, 6.0, 6.1, 5.6, 6.7, 5.6, 5.8, 6.2, 5.6, 5.9, 6.1, 6.3, 6.1, 6.4, 6.6, 6.8, 6.7, 6.0, 5.7, 5.5, 5.5, 5.8, 6.0, 5.4, 6.0, 6.7, 6.3, 5.6, 5.5, 5.5, 6.1, 5.8, 5.0, 5.6, 5.7, 5.7, 6.2, 5.1, 5.7]}, {\"axis\": {\"matches\": true}, \"label\": \"petal width (cm)\", \"values\": [1.4, 1.5, 1.5, 1.3, 1.5, 1.3, 1.6, 1.0, 1.3, 1.4, 1.0, 1.5, 1.0, 1.4, 1.3, 1.4, 1.5, 1.0, 1.5, 1.1, 1.8, 1.3, 1.5, 1.2, 1.3, 1.4, 1.4, 1.7, 1.5, 1.0, 1.1, 1.0, 1.2, 1.6, 1.5, 1.6, 1.5, 1.3, 1.3, 1.3, 1.2, 1.4, 1.2, 1.0, 1.3, 1.2, 1.3, 1.3, 1.1, 1.3]}, {\"axis\": {\"matches\": true}, \"label\": \"petal length (cm)\", \"values\": [4.7, 4.5, 4.9, 4.0, 4.6, 4.5, 4.7, 3.3, 4.6, 3.9, 3.5, 4.2, 4.0, 4.7, 3.6, 4.4, 4.5, 4.1, 4.5, 3.9, 4.8, 4.0, 4.9, 4.7, 4.3, 4.4, 4.8, 5.0, 4.5, 3.5, 3.8, 3.7, 3.9, 5.1, 4.5, 4.5, 4.7, 4.4, 4.1, 4.0, 4.4, 4.6, 4.0, 3.3, 4.2, 4.2, 4.2, 4.3, 3.0, 4.1]}], \"hoverlabel\": {\"namelength\": 0}, \"hovertemplate\": \"species=versicolor<br>%{xaxis.title.text}=%{x}<br>%{yaxis.title.text}=%{y}\", \"legendgroup\": \"species=versicolor\", \"marker\": {\"color\": \"#EF553B\", \"symbol\": \"circle\"}, \"name\": \"species=versicolor\", \"showlegend\": true, \"type\": \"splom\"}, {\"diagonal\": {\"visible\": false}, \"dimensions\": [{\"axis\": {\"matches\": true}, \"label\": \"sepal width (cm)\", \"values\": [3.3, 2.7, 3.0, 2.9, 3.0, 3.0, 2.5, 2.9, 2.5, 3.6, 3.2, 2.7, 3.0, 2.5, 2.8, 3.2, 3.0, 3.8, 2.6, 2.2, 3.2, 2.8, 2.8, 2.7, 3.3, 3.2, 2.8, 3.0, 2.8, 3.0, 2.8, 3.8, 2.8, 2.8, 2.6, 3.0, 3.4, 3.1, 3.0, 3.1, 3.1, 3.1, 2.7, 3.2, 3.3, 3.0, 2.5, 3.0, 3.4, 3.0]}, {\"axis\": {\"matches\": true}, \"label\": \"sepal length (cm)\", \"values\": [6.3, 5.8, 7.1, 6.3, 6.5, 7.6, 4.9, 7.3, 6.7, 7.2, 6.5, 6.4, 6.8, 5.7, 5.8, 6.4, 6.5, 7.7, 7.7, 6.0, 6.9, 5.6, 7.7, 6.3, 6.7, 7.2, 6.2, 6.1, 6.4, 7.2, 7.4, 7.9, 6.4, 6.3, 6.1, 7.7, 6.3, 6.4, 6.0, 6.9, 6.7, 6.9, 5.8, 6.8, 6.7, 6.7, 6.3, 6.5, 6.2, 5.9]}, {\"axis\": {\"matches\": true}, \"label\": \"petal width (cm)\", \"values\": [2.5, 1.9, 2.1, 1.8, 2.2, 2.1, 1.7, 1.8, 1.8, 2.5, 2.0, 1.9, 2.1, 2.0, 2.4, 2.3, 1.8, 2.2, 2.3, 1.5, 2.3, 2.0, 2.0, 1.8, 2.1, 1.8, 1.8, 1.8, 2.1, 1.6, 1.9, 2.0, 2.2, 1.5, 1.4, 2.3, 2.4, 1.8, 1.8, 2.1, 2.4, 2.3, 1.9, 2.3, 2.5, 2.3, 1.9, 2.0, 2.3, 1.8]}, {\"axis\": {\"matches\": true}, \"label\": \"petal length (cm)\", \"values\": [6.0, 5.1, 5.9, 5.6, 5.8, 6.6, 4.5, 6.3, 5.8, 6.1, 5.1, 5.3, 5.5, 5.0, 5.1, 5.3, 5.5, 6.7, 6.9, 5.0, 5.7, 4.9, 6.7, 4.9, 5.7, 6.0, 4.8, 4.9, 5.6, 5.8, 6.1, 6.4, 5.6, 5.1, 5.6, 6.1, 5.6, 5.5, 4.8, 5.4, 5.6, 5.1, 5.1, 5.9, 5.7, 5.2, 5.0, 5.2, 5.4, 5.1]}], \"hoverlabel\": {\"namelength\": 0}, \"hovertemplate\": \"species=virginica<br>%{xaxis.title.text}=%{x}<br>%{yaxis.title.text}=%{y}\", \"legendgroup\": \"species=virginica\", \"marker\": {\"color\": \"#00cc96\", \"symbol\": \"circle\"}, \"name\": \"species=virginica\", \"showlegend\": true, \"type\": \"splom\"}],\n",
              "                        {\"dragmode\": \"select\", \"legend\": {\"tracegroupgap\": 0}, \"margin\": {\"t\": 60}, \"template\": {\"data\": {\"bar\": [{\"error_x\": {\"color\": \"#2a3f5f\"}, \"error_y\": {\"color\": \"#2a3f5f\"}, \"marker\": {\"line\": {\"color\": \"#E5ECF6\", \"width\": 0.5}}, \"type\": \"bar\"}], \"barpolar\": [{\"marker\": {\"line\": {\"color\": \"#E5ECF6\", \"width\": 0.5}}, \"type\": \"barpolar\"}], \"carpet\": [{\"aaxis\": {\"endlinecolor\": \"#2a3f5f\", \"gridcolor\": \"white\", \"linecolor\": \"white\", \"minorgridcolor\": \"white\", \"startlinecolor\": \"#2a3f5f\"}, \"baxis\": {\"endlinecolor\": \"#2a3f5f\", \"gridcolor\": \"white\", \"linecolor\": \"white\", \"minorgridcolor\": \"white\", \"startlinecolor\": \"#2a3f5f\"}, \"type\": \"carpet\"}], \"choropleth\": [{\"colorbar\": {\"outlinewidth\": 0, \"ticks\": \"\"}, \"type\": \"choropleth\"}], \"contour\": [{\"colorbar\": {\"outlinewidth\": 0, \"ticks\": \"\"}, \"colorscale\": [[0.0, \"#0d0887\"], [0.1111111111111111, \"#46039f\"], [0.2222222222222222, \"#7201a8\"], [0.3333333333333333, \"#9c179e\"], [0.4444444444444444, \"#bd3786\"], [0.5555555555555556, \"#d8576b\"], [0.6666666666666666, \"#ed7953\"], [0.7777777777777778, \"#fb9f3a\"], [0.8888888888888888, \"#fdca26\"], [1.0, \"#f0f921\"]], \"type\": \"contour\"}], \"contourcarpet\": [{\"colorbar\": {\"outlinewidth\": 0, \"ticks\": \"\"}, \"type\": \"contourcarpet\"}], \"heatmap\": [{\"colorbar\": {\"outlinewidth\": 0, \"ticks\": \"\"}, \"colorscale\": [[0.0, \"#0d0887\"], [0.1111111111111111, \"#46039f\"], [0.2222222222222222, \"#7201a8\"], [0.3333333333333333, \"#9c179e\"], [0.4444444444444444, \"#bd3786\"], [0.5555555555555556, \"#d8576b\"], [0.6666666666666666, \"#ed7953\"], [0.7777777777777778, \"#fb9f3a\"], [0.8888888888888888, \"#fdca26\"], [1.0, \"#f0f921\"]], \"type\": \"heatmap\"}], \"heatmapgl\": [{\"colorbar\": {\"outlinewidth\": 0, \"ticks\": \"\"}, \"colorscale\": [[0.0, \"#0d0887\"], [0.1111111111111111, \"#46039f\"], [0.2222222222222222, \"#7201a8\"], [0.3333333333333333, \"#9c179e\"], [0.4444444444444444, \"#bd3786\"], [0.5555555555555556, \"#d8576b\"], [0.6666666666666666, \"#ed7953\"], [0.7777777777777778, \"#fb9f3a\"], [0.8888888888888888, \"#fdca26\"], [1.0, \"#f0f921\"]], \"type\": \"heatmapgl\"}], \"histogram\": [{\"marker\": {\"colorbar\": {\"outlinewidth\": 0, \"ticks\": \"\"}}, \"type\": \"histogram\"}], \"histogram2d\": [{\"colorbar\": {\"outlinewidth\": 0, \"ticks\": \"\"}, \"colorscale\": [[0.0, \"#0d0887\"], [0.1111111111111111, \"#46039f\"], [0.2222222222222222, \"#7201a8\"], [0.3333333333333333, \"#9c179e\"], [0.4444444444444444, \"#bd3786\"], [0.5555555555555556, \"#d8576b\"], [0.6666666666666666, \"#ed7953\"], [0.7777777777777778, \"#fb9f3a\"], [0.8888888888888888, \"#fdca26\"], [1.0, \"#f0f921\"]], \"type\": \"histogram2d\"}], \"histogram2dcontour\": [{\"colorbar\": {\"outlinewidth\": 0, \"ticks\": \"\"}, \"colorscale\": [[0.0, \"#0d0887\"], [0.1111111111111111, \"#46039f\"], [0.2222222222222222, \"#7201a8\"], [0.3333333333333333, \"#9c179e\"], [0.4444444444444444, \"#bd3786\"], [0.5555555555555556, \"#d8576b\"], [0.6666666666666666, \"#ed7953\"], [0.7777777777777778, \"#fb9f3a\"], [0.8888888888888888, \"#fdca26\"], [1.0, \"#f0f921\"]], \"type\": \"histogram2dcontour\"}], \"mesh3d\": [{\"colorbar\": {\"outlinewidth\": 0, \"ticks\": \"\"}, \"type\": \"mesh3d\"}], \"parcoords\": [{\"line\": {\"colorbar\": {\"outlinewidth\": 0, \"ticks\": \"\"}}, \"type\": \"parcoords\"}], \"pie\": [{\"automargin\": true, \"type\": \"pie\"}], \"scatter\": [{\"marker\": {\"colorbar\": {\"outlinewidth\": 0, \"ticks\": \"\"}}, \"type\": \"scatter\"}], \"scatter3d\": [{\"line\": {\"colorbar\": {\"outlinewidth\": 0, \"ticks\": \"\"}}, \"marker\": {\"colorbar\": {\"outlinewidth\": 0, \"ticks\": \"\"}}, \"type\": \"scatter3d\"}], \"scattercarpet\": [{\"marker\": {\"colorbar\": {\"outlinewidth\": 0, \"ticks\": \"\"}}, \"type\": \"scattercarpet\"}], \"scattergeo\": [{\"marker\": {\"colorbar\": {\"outlinewidth\": 0, \"ticks\": \"\"}}, \"type\": \"scattergeo\"}], \"scattergl\": [{\"marker\": {\"colorbar\": {\"outlinewidth\": 0, \"ticks\": \"\"}}, \"type\": \"scattergl\"}], \"scattermapbox\": [{\"marker\": {\"colorbar\": {\"outlinewidth\": 0, \"ticks\": \"\"}}, \"type\": \"scattermapbox\"}], \"scatterpolar\": [{\"marker\": {\"colorbar\": {\"outlinewidth\": 0, \"ticks\": \"\"}}, \"type\": \"scatterpolar\"}], \"scatterpolargl\": [{\"marker\": {\"colorbar\": {\"outlinewidth\": 0, \"ticks\": \"\"}}, \"type\": \"scatterpolargl\"}], \"scatterternary\": [{\"marker\": {\"colorbar\": {\"outlinewidth\": 0, \"ticks\": \"\"}}, \"type\": \"scatterternary\"}], \"surface\": [{\"colorbar\": {\"outlinewidth\": 0, \"ticks\": \"\"}, \"colorscale\": [[0.0, \"#0d0887\"], [0.1111111111111111, \"#46039f\"], [0.2222222222222222, \"#7201a8\"], [0.3333333333333333, \"#9c179e\"], [0.4444444444444444, \"#bd3786\"], [0.5555555555555556, \"#d8576b\"], [0.6666666666666666, \"#ed7953\"], [0.7777777777777778, \"#fb9f3a\"], [0.8888888888888888, \"#fdca26\"], [1.0, \"#f0f921\"]], \"type\": \"surface\"}], \"table\": [{\"cells\": {\"fill\": {\"color\": \"#EBF0F8\"}, \"line\": {\"color\": \"white\"}}, \"header\": {\"fill\": {\"color\": \"#C8D4E3\"}, \"line\": {\"color\": \"white\"}}, \"type\": \"table\"}]}, \"layout\": {\"annotationdefaults\": {\"arrowcolor\": \"#2a3f5f\", \"arrowhead\": 0, \"arrowwidth\": 1}, \"coloraxis\": {\"colorbar\": {\"outlinewidth\": 0, \"ticks\": \"\"}}, \"colorscale\": {\"diverging\": [[0, \"#8e0152\"], [0.1, \"#c51b7d\"], [0.2, \"#de77ae\"], [0.3, \"#f1b6da\"], [0.4, \"#fde0ef\"], [0.5, \"#f7f7f7\"], [0.6, \"#e6f5d0\"], [0.7, \"#b8e186\"], [0.8, \"#7fbc41\"], [0.9, \"#4d9221\"], [1, \"#276419\"]], \"sequential\": [[0.0, \"#0d0887\"], [0.1111111111111111, \"#46039f\"], [0.2222222222222222, \"#7201a8\"], [0.3333333333333333, \"#9c179e\"], [0.4444444444444444, \"#bd3786\"], [0.5555555555555556, \"#d8576b\"], [0.6666666666666666, \"#ed7953\"], [0.7777777777777778, \"#fb9f3a\"], [0.8888888888888888, \"#fdca26\"], [1.0, \"#f0f921\"]], \"sequentialminus\": [[0.0, \"#0d0887\"], [0.1111111111111111, \"#46039f\"], [0.2222222222222222, \"#7201a8\"], [0.3333333333333333, \"#9c179e\"], [0.4444444444444444, \"#bd3786\"], [0.5555555555555556, \"#d8576b\"], [0.6666666666666666, \"#ed7953\"], [0.7777777777777778, \"#fb9f3a\"], [0.8888888888888888, \"#fdca26\"], [1.0, \"#f0f921\"]]}, \"colorway\": [\"#636efa\", \"#EF553B\", \"#00cc96\", \"#ab63fa\", \"#FFA15A\", \"#19d3f3\", \"#FF6692\", \"#B6E880\", \"#FF97FF\", \"#FECB52\"], \"font\": {\"color\": \"#2a3f5f\"}, \"geo\": {\"bgcolor\": \"white\", \"lakecolor\": \"white\", \"landcolor\": \"#E5ECF6\", \"showlakes\": true, \"showland\": true, \"subunitcolor\": \"white\"}, \"hoverlabel\": {\"align\": \"left\"}, \"hovermode\": \"closest\", \"mapbox\": {\"style\": \"light\"}, \"paper_bgcolor\": \"white\", \"plot_bgcolor\": \"#E5ECF6\", \"polar\": {\"angularaxis\": {\"gridcolor\": \"white\", \"linecolor\": \"white\", \"ticks\": \"\"}, \"bgcolor\": \"#E5ECF6\", \"radialaxis\": {\"gridcolor\": \"white\", \"linecolor\": \"white\", \"ticks\": \"\"}}, \"scene\": {\"xaxis\": {\"backgroundcolor\": \"#E5ECF6\", \"gridcolor\": \"white\", \"gridwidth\": 2, \"linecolor\": \"white\", \"showbackground\": true, \"ticks\": \"\", \"zerolinecolor\": \"white\"}, \"yaxis\": {\"backgroundcolor\": \"#E5ECF6\", \"gridcolor\": \"white\", \"gridwidth\": 2, \"linecolor\": \"white\", \"showbackground\": true, \"ticks\": \"\", \"zerolinecolor\": \"white\"}, \"zaxis\": {\"backgroundcolor\": \"#E5ECF6\", \"gridcolor\": \"white\", \"gridwidth\": 2, \"linecolor\": \"white\", \"showbackground\": true, \"ticks\": \"\", \"zerolinecolor\": \"white\"}}, \"shapedefaults\": {\"line\": {\"color\": \"#2a3f5f\"}}, \"ternary\": {\"aaxis\": {\"gridcolor\": \"white\", \"linecolor\": \"white\", \"ticks\": \"\"}, \"baxis\": {\"gridcolor\": \"white\", \"linecolor\": \"white\", \"ticks\": \"\"}, \"bgcolor\": \"#E5ECF6\", \"caxis\": {\"gridcolor\": \"white\", \"linecolor\": \"white\", \"ticks\": \"\"}}, \"title\": {\"x\": 0.05}, \"xaxis\": {\"automargin\": true, \"gridcolor\": \"white\", \"linecolor\": \"white\", \"ticks\": \"\", \"title\": {\"standoff\": 15}, \"zerolinecolor\": \"white\", \"zerolinewidth\": 2}, \"yaxis\": {\"automargin\": true, \"gridcolor\": \"white\", \"linecolor\": \"white\", \"ticks\": \"\", \"title\": {\"standoff\": 15}, \"zerolinecolor\": \"white\", \"zerolinewidth\": 2}}}},\n",
              "                        {\"responsive\": true}\n",
              "                    ).then(function(){\n",
              "                            \n",
              "var gd = document.getElementById('aa3eb064-7f72-4e08-a6fe-aa171abe3219');\n",
              "var x = new MutationObserver(function (mutations, observer) {{\n",
              "        var display = window.getComputedStyle(gd).display;\n",
              "        if (!display || display === 'none') {{\n",
              "            console.log([gd, 'removed!']);\n",
              "            Plotly.purge(gd);\n",
              "            observer.disconnect();\n",
              "        }}\n",
              "}});\n",
              "\n",
              "// Listen for the removal of the full notebook cells\n",
              "var notebookContainer = gd.closest('#notebook-container');\n",
              "if (notebookContainer) {{\n",
              "    x.observe(notebookContainer, {childList: true});\n",
              "}}\n",
              "\n",
              "// Listen for the clearing of the current output cell\n",
              "var outputEl = gd.closest('.output');\n",
              "if (outputEl) {{\n",
              "    x.observe(outputEl, {childList: true});\n",
              "}}\n",
              "\n",
              "                        })\n",
              "                };\n",
              "                \n",
              "            </script>\n",
              "        </div>\n",
              "</body>\n",
              "</html>"
            ]
          },
          "metadata": {
            "tags": []
          }
        }
      ]
    },
    {
      "cell_type": "code",
      "metadata": {
        "colab": {
          "base_uri": "https://localhost:8080/",
          "height": 542
        },
        "id": "dY9_ftri-vRe",
        "outputId": "71fc7590-0f99-4ad2-c276-bb4bce6bb824"
      },
      "source": [
        "import plotly.graph_objs as go\n",
        "\n",
        "corr = df[features].corr()\n",
        "\n",
        "trace = go.Heatmap(z=corr.values,\n",
        "           x=corr.index.values,\n",
        "           y=corr.columns.values)\n",
        "\n",
        "go.Figure(trace)"
      ],
      "execution_count": null,
      "outputs": [
        {
          "output_type": "display_data",
          "data": {
            "text/html": [
              "<html>\n",
              "<head><meta charset=\"utf-8\" /></head>\n",
              "<body>\n",
              "    <div>\n",
              "            <script src=\"https://cdnjs.cloudflare.com/ajax/libs/mathjax/2.7.5/MathJax.js?config=TeX-AMS-MML_SVG\"></script><script type=\"text/javascript\">if (window.MathJax) {MathJax.Hub.Config({SVG: {font: \"STIX-Web\"}});}</script>\n",
              "                <script type=\"text/javascript\">window.PlotlyConfig = {MathJaxConfig: 'local'};</script>\n",
              "        <script src=\"https://cdn.plot.ly/plotly-latest.min.js\"></script>    \n",
              "            <div id=\"0fc0fd23-4609-406f-a939-e72822bb862f\" class=\"plotly-graph-div\" style=\"height:525px; width:100%;\"></div>\n",
              "            <script type=\"text/javascript\">\n",
              "                \n",
              "                    window.PLOTLYENV=window.PLOTLYENV || {};\n",
              "                    \n",
              "                if (document.getElementById(\"0fc0fd23-4609-406f-a939-e72822bb862f\")) {\n",
              "                    Plotly.newPlot(\n",
              "                        '0fc0fd23-4609-406f-a939-e72822bb862f',\n",
              "                        [{\"type\": \"heatmap\", \"x\": [\"sepal width (cm)\", \"sepal length (cm)\", \"petal width (cm)\", \"petal length (cm)\"], \"y\": [\"sepal width (cm)\", \"sepal length (cm)\", \"petal width (cm)\", \"petal length (cm)\"], \"z\": [[1.0, -0.11756978413300205, -0.3661259325364395, -0.42844010433054003], [-0.11756978413300205, 1.0, 0.8179411262715759, 0.8717537758865828], [-0.3661259325364395, 0.8179411262715759, 1.0, 0.9628654314027955], [-0.42844010433054003, 0.8717537758865828, 0.9628654314027955, 1.0]]}],\n",
              "                        {\"template\": {\"data\": {\"bar\": [{\"error_x\": {\"color\": \"#2a3f5f\"}, \"error_y\": {\"color\": \"#2a3f5f\"}, \"marker\": {\"line\": {\"color\": \"#E5ECF6\", \"width\": 0.5}}, \"type\": \"bar\"}], \"barpolar\": [{\"marker\": {\"line\": {\"color\": \"#E5ECF6\", \"width\": 0.5}}, \"type\": \"barpolar\"}], \"carpet\": [{\"aaxis\": {\"endlinecolor\": \"#2a3f5f\", \"gridcolor\": \"white\", \"linecolor\": \"white\", \"minorgridcolor\": \"white\", \"startlinecolor\": \"#2a3f5f\"}, \"baxis\": {\"endlinecolor\": \"#2a3f5f\", \"gridcolor\": \"white\", \"linecolor\": \"white\", \"minorgridcolor\": \"white\", \"startlinecolor\": \"#2a3f5f\"}, \"type\": \"carpet\"}], \"choropleth\": [{\"colorbar\": {\"outlinewidth\": 0, \"ticks\": \"\"}, \"type\": \"choropleth\"}], \"contour\": [{\"colorbar\": {\"outlinewidth\": 0, \"ticks\": \"\"}, \"colorscale\": [[0.0, \"#0d0887\"], [0.1111111111111111, \"#46039f\"], [0.2222222222222222, \"#7201a8\"], [0.3333333333333333, \"#9c179e\"], [0.4444444444444444, \"#bd3786\"], [0.5555555555555556, \"#d8576b\"], [0.6666666666666666, \"#ed7953\"], [0.7777777777777778, \"#fb9f3a\"], [0.8888888888888888, \"#fdca26\"], [1.0, \"#f0f921\"]], \"type\": \"contour\"}], \"contourcarpet\": [{\"colorbar\": {\"outlinewidth\": 0, \"ticks\": \"\"}, \"type\": \"contourcarpet\"}], \"heatmap\": [{\"colorbar\": {\"outlinewidth\": 0, \"ticks\": \"\"}, \"colorscale\": [[0.0, \"#0d0887\"], [0.1111111111111111, \"#46039f\"], [0.2222222222222222, \"#7201a8\"], [0.3333333333333333, \"#9c179e\"], [0.4444444444444444, \"#bd3786\"], [0.5555555555555556, \"#d8576b\"], [0.6666666666666666, \"#ed7953\"], [0.7777777777777778, \"#fb9f3a\"], [0.8888888888888888, \"#fdca26\"], [1.0, \"#f0f921\"]], \"type\": \"heatmap\"}], \"heatmapgl\": [{\"colorbar\": {\"outlinewidth\": 0, \"ticks\": \"\"}, \"colorscale\": [[0.0, \"#0d0887\"], [0.1111111111111111, \"#46039f\"], [0.2222222222222222, \"#7201a8\"], [0.3333333333333333, \"#9c179e\"], [0.4444444444444444, \"#bd3786\"], [0.5555555555555556, \"#d8576b\"], [0.6666666666666666, \"#ed7953\"], [0.7777777777777778, \"#fb9f3a\"], [0.8888888888888888, \"#fdca26\"], [1.0, \"#f0f921\"]], \"type\": \"heatmapgl\"}], \"histogram\": [{\"marker\": {\"colorbar\": {\"outlinewidth\": 0, \"ticks\": \"\"}}, \"type\": \"histogram\"}], \"histogram2d\": [{\"colorbar\": {\"outlinewidth\": 0, \"ticks\": \"\"}, \"colorscale\": [[0.0, \"#0d0887\"], [0.1111111111111111, \"#46039f\"], [0.2222222222222222, \"#7201a8\"], [0.3333333333333333, \"#9c179e\"], [0.4444444444444444, \"#bd3786\"], [0.5555555555555556, \"#d8576b\"], [0.6666666666666666, \"#ed7953\"], [0.7777777777777778, \"#fb9f3a\"], [0.8888888888888888, \"#fdca26\"], [1.0, \"#f0f921\"]], \"type\": \"histogram2d\"}], \"histogram2dcontour\": [{\"colorbar\": {\"outlinewidth\": 0, \"ticks\": \"\"}, \"colorscale\": [[0.0, \"#0d0887\"], [0.1111111111111111, \"#46039f\"], [0.2222222222222222, \"#7201a8\"], [0.3333333333333333, \"#9c179e\"], [0.4444444444444444, \"#bd3786\"], [0.5555555555555556, \"#d8576b\"], [0.6666666666666666, \"#ed7953\"], [0.7777777777777778, \"#fb9f3a\"], [0.8888888888888888, \"#fdca26\"], [1.0, \"#f0f921\"]], \"type\": \"histogram2dcontour\"}], \"mesh3d\": [{\"colorbar\": {\"outlinewidth\": 0, \"ticks\": \"\"}, \"type\": \"mesh3d\"}], \"parcoords\": [{\"line\": {\"colorbar\": {\"outlinewidth\": 0, \"ticks\": \"\"}}, \"type\": \"parcoords\"}], \"pie\": [{\"automargin\": true, \"type\": \"pie\"}], \"scatter\": [{\"marker\": {\"colorbar\": {\"outlinewidth\": 0, \"ticks\": \"\"}}, \"type\": \"scatter\"}], \"scatter3d\": [{\"line\": {\"colorbar\": {\"outlinewidth\": 0, \"ticks\": \"\"}}, \"marker\": {\"colorbar\": {\"outlinewidth\": 0, \"ticks\": \"\"}}, \"type\": \"scatter3d\"}], \"scattercarpet\": [{\"marker\": {\"colorbar\": {\"outlinewidth\": 0, \"ticks\": \"\"}}, \"type\": \"scattercarpet\"}], \"scattergeo\": [{\"marker\": {\"colorbar\": {\"outlinewidth\": 0, \"ticks\": \"\"}}, \"type\": \"scattergeo\"}], \"scattergl\": [{\"marker\": {\"colorbar\": {\"outlinewidth\": 0, \"ticks\": \"\"}}, \"type\": \"scattergl\"}], \"scattermapbox\": [{\"marker\": {\"colorbar\": {\"outlinewidth\": 0, \"ticks\": \"\"}}, \"type\": \"scattermapbox\"}], \"scatterpolar\": [{\"marker\": {\"colorbar\": {\"outlinewidth\": 0, \"ticks\": \"\"}}, \"type\": \"scatterpolar\"}], \"scatterpolargl\": [{\"marker\": {\"colorbar\": {\"outlinewidth\": 0, \"ticks\": \"\"}}, \"type\": \"scatterpolargl\"}], \"scatterternary\": [{\"marker\": {\"colorbar\": {\"outlinewidth\": 0, \"ticks\": \"\"}}, \"type\": \"scatterternary\"}], \"surface\": [{\"colorbar\": {\"outlinewidth\": 0, \"ticks\": \"\"}, \"colorscale\": [[0.0, \"#0d0887\"], [0.1111111111111111, \"#46039f\"], [0.2222222222222222, \"#7201a8\"], [0.3333333333333333, \"#9c179e\"], [0.4444444444444444, \"#bd3786\"], [0.5555555555555556, \"#d8576b\"], [0.6666666666666666, \"#ed7953\"], [0.7777777777777778, \"#fb9f3a\"], [0.8888888888888888, \"#fdca26\"], [1.0, \"#f0f921\"]], \"type\": \"surface\"}], \"table\": [{\"cells\": {\"fill\": {\"color\": \"#EBF0F8\"}, \"line\": {\"color\": \"white\"}}, \"header\": {\"fill\": {\"color\": \"#C8D4E3\"}, \"line\": {\"color\": \"white\"}}, \"type\": \"table\"}]}, \"layout\": {\"annotationdefaults\": {\"arrowcolor\": \"#2a3f5f\", \"arrowhead\": 0, \"arrowwidth\": 1}, \"coloraxis\": {\"colorbar\": {\"outlinewidth\": 0, \"ticks\": \"\"}}, \"colorscale\": {\"diverging\": [[0, \"#8e0152\"], [0.1, \"#c51b7d\"], [0.2, \"#de77ae\"], [0.3, \"#f1b6da\"], [0.4, \"#fde0ef\"], [0.5, \"#f7f7f7\"], [0.6, \"#e6f5d0\"], [0.7, \"#b8e186\"], [0.8, \"#7fbc41\"], [0.9, \"#4d9221\"], [1, \"#276419\"]], \"sequential\": [[0.0, \"#0d0887\"], [0.1111111111111111, \"#46039f\"], [0.2222222222222222, \"#7201a8\"], [0.3333333333333333, \"#9c179e\"], [0.4444444444444444, \"#bd3786\"], [0.5555555555555556, \"#d8576b\"], [0.6666666666666666, \"#ed7953\"], [0.7777777777777778, \"#fb9f3a\"], [0.8888888888888888, \"#fdca26\"], [1.0, \"#f0f921\"]], \"sequentialminus\": [[0.0, \"#0d0887\"], [0.1111111111111111, \"#46039f\"], [0.2222222222222222, \"#7201a8\"], [0.3333333333333333, \"#9c179e\"], [0.4444444444444444, \"#bd3786\"], [0.5555555555555556, \"#d8576b\"], [0.6666666666666666, \"#ed7953\"], [0.7777777777777778, \"#fb9f3a\"], [0.8888888888888888, \"#fdca26\"], [1.0, \"#f0f921\"]]}, \"colorway\": [\"#636efa\", \"#EF553B\", \"#00cc96\", \"#ab63fa\", \"#FFA15A\", \"#19d3f3\", \"#FF6692\", \"#B6E880\", \"#FF97FF\", \"#FECB52\"], \"font\": {\"color\": \"#2a3f5f\"}, \"geo\": {\"bgcolor\": \"white\", \"lakecolor\": \"white\", \"landcolor\": \"#E5ECF6\", \"showlakes\": true, \"showland\": true, \"subunitcolor\": \"white\"}, \"hoverlabel\": {\"align\": \"left\"}, \"hovermode\": \"closest\", \"mapbox\": {\"style\": \"light\"}, \"paper_bgcolor\": \"white\", \"plot_bgcolor\": \"#E5ECF6\", \"polar\": {\"angularaxis\": {\"gridcolor\": \"white\", \"linecolor\": \"white\", \"ticks\": \"\"}, \"bgcolor\": \"#E5ECF6\", \"radialaxis\": {\"gridcolor\": \"white\", \"linecolor\": \"white\", \"ticks\": \"\"}}, \"scene\": {\"xaxis\": {\"backgroundcolor\": \"#E5ECF6\", \"gridcolor\": \"white\", \"gridwidth\": 2, \"linecolor\": \"white\", \"showbackground\": true, \"ticks\": \"\", \"zerolinecolor\": \"white\"}, \"yaxis\": {\"backgroundcolor\": \"#E5ECF6\", \"gridcolor\": \"white\", \"gridwidth\": 2, \"linecolor\": \"white\", \"showbackground\": true, \"ticks\": \"\", \"zerolinecolor\": \"white\"}, \"zaxis\": {\"backgroundcolor\": \"#E5ECF6\", \"gridcolor\": \"white\", \"gridwidth\": 2, \"linecolor\": \"white\", \"showbackground\": true, \"ticks\": \"\", \"zerolinecolor\": \"white\"}}, \"shapedefaults\": {\"line\": {\"color\": \"#2a3f5f\"}}, \"ternary\": {\"aaxis\": {\"gridcolor\": \"white\", \"linecolor\": \"white\", \"ticks\": \"\"}, \"baxis\": {\"gridcolor\": \"white\", \"linecolor\": \"white\", \"ticks\": \"\"}, \"bgcolor\": \"#E5ECF6\", \"caxis\": {\"gridcolor\": \"white\", \"linecolor\": \"white\", \"ticks\": \"\"}}, \"title\": {\"x\": 0.05}, \"xaxis\": {\"automargin\": true, \"gridcolor\": \"white\", \"linecolor\": \"white\", \"ticks\": \"\", \"title\": {\"standoff\": 15}, \"zerolinecolor\": \"white\", \"zerolinewidth\": 2}, \"yaxis\": {\"automargin\": true, \"gridcolor\": \"white\", \"linecolor\": \"white\", \"ticks\": \"\", \"title\": {\"standoff\": 15}, \"zerolinecolor\": \"white\", \"zerolinewidth\": 2}}}},\n",
              "                        {\"responsive\": true}\n",
              "                    ).then(function(){\n",
              "                            \n",
              "var gd = document.getElementById('0fc0fd23-4609-406f-a939-e72822bb862f');\n",
              "var x = new MutationObserver(function (mutations, observer) {{\n",
              "        var display = window.getComputedStyle(gd).display;\n",
              "        if (!display || display === 'none') {{\n",
              "            console.log([gd, 'removed!']);\n",
              "            Plotly.purge(gd);\n",
              "            observer.disconnect();\n",
              "        }}\n",
              "}});\n",
              "\n",
              "// Listen for the removal of the full notebook cells\n",
              "var notebookContainer = gd.closest('#notebook-container');\n",
              "if (notebookContainer) {{\n",
              "    x.observe(notebookContainer, {childList: true});\n",
              "}}\n",
              "\n",
              "// Listen for the clearing of the current output cell\n",
              "var outputEl = gd.closest('.output');\n",
              "if (outputEl) {{\n",
              "    x.observe(outputEl, {childList: true});\n",
              "}}\n",
              "\n",
              "                        })\n",
              "                };\n",
              "                \n",
              "            </script>\n",
              "        </div>\n",
              "</body>\n",
              "</html>"
            ]
          },
          "metadata": {
            "tags": []
          }
        }
      ]
    },
    {
      "cell_type": "markdown",
      "metadata": {
        "id": "8Xlo-zFZCrEu"
      },
      "source": [
        "## PCA od podstaw"
      ]
    },
    {
      "cell_type": "markdown",
      "metadata": {
        "id": "3vkvtOvJCu6B"
      },
      "source": [
        "W tej części od podstaw dokonamy redukcji wymiarowości przez metodę głównych składowych.\n",
        "\n",
        "Mamy teraz dwie równoważne możliwości:\n",
        "* dokonujemy dekompozycji macierzy korelacji\n",
        "* dokonujemy dekompozycji macierzy kowariancji na ustandaryzowanych danych\n",
        "\n",
        "Dla dociekliwych dyskusja o tych dwóch podejściach: https://stats.stackexchange.com/a/78\n",
        "\n",
        "<font size=\"1\">Należy pamiętać o transpozycji jeśli jest wymagana. Funkcje np.corrcoef, i np.cov przyjmują macierze, w których wiersze to zmienne</font>"
      ]
    },
    {
      "cell_type": "code",
      "metadata": {
        "id": "WBIjcLSkDBv3"
      },
      "source": [
        "iris = df[features]"
      ],
      "execution_count": null,
      "outputs": []
    },
    {
      "cell_type": "code",
      "metadata": {
        "colab": {
          "base_uri": "https://localhost:8080/"
        },
        "id": "NCVZdKbBC8bc",
        "outputId": "0b48a2e1-1343-47cc-896c-f31d67fc170f"
      },
      "source": [
        "# macierz korelacji\n",
        "corr_matrix = np.corrcoef(iris.T)\n",
        "corr_matrix"
      ],
      "execution_count": null,
      "outputs": [
        {
          "output_type": "execute_result",
          "data": {
            "text/plain": [
              "array([[ 1.        , -0.11756978, -0.36612593, -0.4284401 ],\n",
              "       [-0.11756978,  1.        ,  0.81794113,  0.87175378],\n",
              "       [-0.36612593,  0.81794113,  1.        ,  0.96286543],\n",
              "       [-0.4284401 ,  0.87175378,  0.96286543,  1.        ]])"
            ]
          },
          "metadata": {
            "tags": []
          },
          "execution_count": 8
        }
      ]
    },
    {
      "cell_type": "code",
      "metadata": {
        "colab": {
          "base_uri": "https://localhost:8080/"
        },
        "id": "TRU7EXczCs9X",
        "outputId": "2acc0bf0-1114-48c2-90f3-1942c27e91fe"
      },
      "source": [
        "srednie = np.mean(iris) # średnie wartości zmiennych\n",
        "odchylenia = np.std(iris, ddof=1) # odchylenia standardowe zmiennych\n",
        "\n",
        "iris_standardized = (iris - srednie) / odchylenia # \n",
        "np.cov(iris_standardized.T)"
      ],
      "execution_count": null,
      "outputs": [
        {
          "output_type": "execute_result",
          "data": {
            "text/plain": [
              "array([[ 1.        , -0.11756978, -0.36612593, -0.4284401 ],\n",
              "       [-0.11756978,  1.        ,  0.81794113,  0.87175378],\n",
              "       [-0.36612593,  0.81794113,  1.        ,  0.96286543],\n",
              "       [-0.4284401 ,  0.87175378,  0.96286543,  1.        ]])"
            ]
          },
          "metadata": {
            "tags": []
          },
          "execution_count": 9
        }
      ]
    },
    {
      "cell_type": "markdown",
      "metadata": {
        "id": "Stu8GPtGDJ0Q"
      },
      "source": [
        "Dokonaj dekompozycji macierzy korelacji (bądź kowariancji) za pomocą funkcji: <br>\n",
        "`numpy.linalg.eig(a)` <br>\n",
        "Zwraca: <br>\n",
        "`w The eigenvalues, each repeated according to its multiplicity. ` <br>\n",
        "`v The normalized (unit “length”) eigenvectors, such that the column v[:,i] is the eigenvector corresponding to the eigenvalue w[i]`\n",
        "\n",
        "<font size=\"1\">https://docs.scipy.org/doc/numpy/reference/generated/numpy.linalg.eig.html</font>"
      ]
    },
    {
      "cell_type": "code",
      "metadata": {
        "colab": {
          "base_uri": "https://localhost:8080/"
        },
        "id": "7eXC7B19DPac",
        "outputId": "c2ba7ffd-885a-47cd-d5d9-c616ae1d6191"
      },
      "source": [
        "dekompozycja = np.linalg.eig(corr_matrix)\n",
        "wartosci_wlasne = dekompozycja[0]\n",
        "wektory_wlasne = dekompozycja[1]\n",
        "print('Wartości własne: {}'.format(wartosci_wlasne))\n",
        "print('Wektory własne: {}'.format(wektory_wlasne))"
      ],
      "execution_count": null,
      "outputs": [
        {
          "output_type": "stream",
          "text": [
            "Wartości własne: [2.91849782 0.91403047 0.14675688 0.02071484]\n",
            "Wektory własne: [[ 0.26934744 -0.92329566  0.24438178  0.12350962]\n",
            " [-0.52106591 -0.37741762 -0.71956635 -0.26128628]\n",
            " [-0.56485654 -0.06694199  0.63427274 -0.52359713]\n",
            " [-0.5804131  -0.02449161  0.14212637  0.80144925]]\n"
          ],
          "name": "stdout"
        }
      ]
    },
    {
      "cell_type": "markdown",
      "metadata": {
        "id": "122lbFDXDQsF"
      },
      "source": [
        "Procent wyjaśnianej wariancji przez poszczególne składowe możemy obliczyć jako wartość własną odpowiadającą danej składowej podzieloną przez sumę wszystkich wartości własnych.\n",
        "\n",
        "<font size=1>Należy w razie potrzeby uporządkować wektory własne według malejących wartości własnych</font>"
      ]
    },
    {
      "cell_type": "code",
      "metadata": {
        "colab": {
          "base_uri": "https://localhost:8080/"
        },
        "id": "P_hn73NODQ-P",
        "outputId": "1f6be632-70b5-4f0f-e5bc-17e74e8ab253"
      },
      "source": [
        "wyjasniane_war = wartosci_wlasne / np.sum(wartosci_wlasne)\n",
        "print(wyjasniane_war)"
      ],
      "execution_count": null,
      "outputs": [
        {
          "output_type": "stream",
          "text": [
            "[0.72962445 0.22850762 0.03668922 0.00517871]\n"
          ],
          "name": "stdout"
        }
      ]
    },
    {
      "cell_type": "markdown",
      "metadata": {
        "id": "XLS0IZIWDVWv"
      },
      "source": [
        "Zaprezentuj udziały wyjaśnianych wariancji na wykresie:"
      ]
    },
    {
      "cell_type": "code",
      "metadata": {
        "colab": {
          "base_uri": "https://localhost:8080/",
          "height": 334
        },
        "id": "qdQAsvjdDVs-",
        "outputId": "89a16d29-5f21-483d-d4ab-66935942abe1"
      },
      "source": [
        "from matplotlib import pyplot as plt\n",
        "\n",
        "plt.plot([1,2,3,4], wyjasniane_war, ls='--', marker='.', ms=10)\n",
        "plt.xticks(np.arange(1,5, 1.0)) # etykiety osi poziomej w przyjaznej formie\n",
        "plt.ylabel('Wyjaśniana wariancja')\n",
        "plt.xlabel('Główna składowa')\n",
        "plt.title('Numer głównej składowej a \\n wyjaśniana wariancja \\n', size=15)\n",
        "plt.show()"
      ],
      "execution_count": null,
      "outputs": [
        {
          "output_type": "display_data",
          "data": {
            "image/png": "[encoded data removed]",
            "text/plain": [
              "<Figure size 432x288 with 1 Axes>"
            ]
          },
          "metadata": {
            "tags": [],
            "needs_background": "light"
          }
        }
      ]
    },
    {
      "cell_type": "markdown",
      "metadata": {
        "id": "PZarcg1CFFDt"
      },
      "source": [
        "Obliczmy macierz ładunków:\n",
        "$ Ładunki = Wektory własne * \\sqrt{wartości  własne}$\n"
      ]
    },
    {
      "cell_type": "code",
      "metadata": {
        "colab": {
          "base_uri": "https://localhost:8080/"
        },
        "id": "TZ_ZPsNwFJEx",
        "outputId": "a3fbf037-d00c-4a6b-edcd-d40c6d410364"
      },
      "source": [
        "macierz_ladunkow = wektory_wlasne * np.sqrt(wartosci_wlasne)\n",
        "print(macierz_ladunkow)"
      ],
      "execution_count": null,
      "outputs": [
        {
          "output_type": "stream",
          "text": [
            "[[ 0.46014271 -0.88271627  0.09361987  0.01777631]\n",
            " [-0.89016876 -0.36082989 -0.27565767 -0.03760602]\n",
            " [-0.96497896 -0.06399985  0.24298265 -0.0753595 ]\n",
            " [-0.99155518 -0.02341519  0.05444699  0.11534978]]\n"
          ],
          "name": "stdout"
        }
      ]
    },
    {
      "cell_type": "code",
      "metadata": {
        "colab": {
          "base_uri": "https://localhost:8080/",
          "height": 167
        },
        "id": "MkwIqi3_FKKz",
        "outputId": "761c9d6b-b60a-4a52-e480-579eab7032ed"
      },
      "source": [
        "ramka_ladunkow = pd.DataFrame(\n",
        "    macierz_ladunkow, columns=['Skladowa{}'.format(i) for i in range(1,5)],\n",
        "    index=iris.columns\n",
        ")\n",
        "ramka_ladunkow"
      ],
      "execution_count": null,
      "outputs": [
        {
          "output_type": "execute_result",
          "data": {
            "text/html": [
              "<div>\n",
              "<style scoped>\n",
              "    .dataframe tbody tr th:only-of-type {\n",
              "        vertical-align: middle;\n",
              "    }\n",
              "\n",
              "    .dataframe tbody tr th {\n",
              "        vertical-align: top;\n",
              "    }\n",
              "\n",
              "    .dataframe thead th {\n",
              "        text-align: right;\n",
              "    }\n",
              "</style>\n",
              "<table border=\"1\" class=\"dataframe\">\n",
              "  <thead>\n",
              "    <tr style=\"text-align: right;\">\n",
              "      <th></th>\n",
              "      <th>Skladowa1</th>\n",
              "      <th>Skladowa2</th>\n",
              "      <th>Skladowa3</th>\n",
              "      <th>Skladowa4</th>\n",
              "    </tr>\n",
              "  </thead>\n",
              "  <tbody>\n",
              "    <tr>\n",
              "      <th>sepal width (cm)</th>\n",
              "      <td>0.460143</td>\n",
              "      <td>-0.882716</td>\n",
              "      <td>0.093620</td>\n",
              "      <td>0.017776</td>\n",
              "    </tr>\n",
              "    <tr>\n",
              "      <th>sepal length (cm)</th>\n",
              "      <td>-0.890169</td>\n",
              "      <td>-0.360830</td>\n",
              "      <td>-0.275658</td>\n",
              "      <td>-0.037606</td>\n",
              "    </tr>\n",
              "    <tr>\n",
              "      <th>petal width (cm)</th>\n",
              "      <td>-0.964979</td>\n",
              "      <td>-0.064000</td>\n",
              "      <td>0.242983</td>\n",
              "      <td>-0.075360</td>\n",
              "    </tr>\n",
              "    <tr>\n",
              "      <th>petal length (cm)</th>\n",
              "      <td>-0.991555</td>\n",
              "      <td>-0.023415</td>\n",
              "      <td>0.054447</td>\n",
              "      <td>0.115350</td>\n",
              "    </tr>\n",
              "  </tbody>\n",
              "</table>\n",
              "</div>"
            ],
            "text/plain": [
              "                   Skladowa1  Skladowa2  Skladowa3  Skladowa4\n",
              "sepal width (cm)    0.460143  -0.882716   0.093620   0.017776\n",
              "sepal length (cm)  -0.890169  -0.360830  -0.275658  -0.037606\n",
              "petal width (cm)   -0.964979  -0.064000   0.242983  -0.075360\n",
              "petal length (cm)  -0.991555  -0.023415   0.054447   0.115350"
            ]
          },
          "metadata": {
            "tags": []
          },
          "execution_count": 14
        }
      ]
    },
    {
      "cell_type": "markdown",
      "metadata": {
        "id": "75kJoXtpFt7A"
      },
      "source": [
        "Na bazie wykresów można przyjąć, że dwie główne składowe wyjaśnianiją wystarczająco dużo wariancji. Zredukujemy liczbę wymiarów do dwóch. Na początek stwórzmy macierz przekształcenia $W$ - kolumny są w niej więc dwoma pierwszymi wektorami własnymi"
      ]
    },
    {
      "cell_type": "code",
      "metadata": {
        "colab": {
          "base_uri": "https://localhost:8080/"
        },
        "id": "_17YTrqDFvyr",
        "outputId": "88de93d6-adaa-4e22-ad2c-e0394e7765c0"
      },
      "source": [
        "macierz_przeksztalcen = wektory_wlasne[:,0:2]\n",
        "print(macierz_przeksztalcen)"
      ],
      "execution_count": null,
      "outputs": [
        {
          "output_type": "stream",
          "text": [
            "[[ 0.26934744 -0.92329566]\n",
            " [-0.52106591 -0.37741762]\n",
            " [-0.56485654 -0.06694199]\n",
            " [-0.5804131  -0.02449161]]\n"
          ],
          "name": "stdout"
        }
      ]
    },
    {
      "cell_type": "markdown",
      "metadata": {
        "id": "sZsYT41uF5PB"
      },
      "source": [
        "Obserwacje przekształcone do dwóch wymiarów uzyskamy mnożąc macierz zawierającą zestandaryzowane dane w oryginalnej przestrzeni przez macierz przekształceń.\n",
        "\\begin{equation*}\n",
        "Y = X W\n",
        "\\end{equation*}\n",
        "Pomocna będzie funkcja `np.dot`. Pamiętaj, że w przypadku macierzy kolejność mnożenia ma znaczenie."
      ]
    },
    {
      "cell_type": "markdown",
      "metadata": {
        "id": "wzqxkzI0F9bu"
      },
      "source": [
        "Zróbmy z tego nową ramkę danych *new_data* o kolumnach:\n",
        "* Skladowa1\n",
        "* Skladowa2"
      ]
    },
    {
      "cell_type": "code",
      "metadata": {
        "id": "5skEEAIxF4O4"
      },
      "source": [
        "new_data = pd.DataFrame(\n",
        "    np.dot(iris_standardized, macierz_przeksztalcen),\n",
        "    columns=['Skladowa1', 'Skladowa2']\n",
        ")\n",
        "\n",
        "# hint - dla większej liczby składowych nazwy kolumn można wygenerować za pomocą mechanizmu 'list comprehension':\n",
        "#['Skladowa{}'.format(i) for i in range(1,3)]"
      ],
      "execution_count": null,
      "outputs": []
    },
    {
      "cell_type": "markdown",
      "metadata": {
        "id": "6cPK0dcLGWES"
      },
      "source": [
        "Narysujmy"
      ]
    },
    {
      "cell_type": "code",
      "metadata": {
        "colab": {
          "base_uri": "https://localhost:8080/",
          "height": 542
        },
        "id": "wsq8am4lGXRG",
        "outputId": "396b2fca-81ba-4da6-a868-8504d35536fb"
      },
      "source": [
        "fig = px.scatter(new_data, x='Skladowa1', y='Skladowa2', color=df['species'])\n",
        "fig.show()"
      ],
      "execution_count": null,
      "outputs": [
        {
          "output_type": "display_data",
          "data": {
            "text/html": [
              "<html>\n",
              "<head><meta charset=\"utf-8\" /></head>\n",
              "<body>\n",
              "    <div>\n",
              "            <script src=\"https://cdnjs.cloudflare.com/ajax/libs/mathjax/2.7.5/MathJax.js?config=TeX-AMS-MML_SVG\"></script><script type=\"text/javascript\">if (window.MathJax) {MathJax.Hub.Config({SVG: {font: \"STIX-Web\"}});}</script>\n",
              "                <script type=\"text/javascript\">window.PlotlyConfig = {MathJaxConfig: 'local'};</script>\n",
              "        <script src=\"https://cdn.plot.ly/plotly-latest.min.js\"></script>    \n",
              "            <div id=\"f89a448d-0128-4b19-978f-320930886c30\" class=\"plotly-graph-div\" style=\"height:525px; width:100%;\"></div>\n",
              "            <script type=\"text/javascript\">\n",
              "                \n",
              "                    window.PLOTLYENV=window.PLOTLYENV || {};\n",
              "                    \n",
              "                if (document.getElementById(\"f89a448d-0128-4b19-978f-320930886c30\")) {\n",
              "                    Plotly.newPlot(\n",
              "                        'f89a448d-0128-4b19-978f-320930886c30',\n",
              "                        [{\"hoverlabel\": {\"namelength\": 0}, \"hovertemplate\": \"color=setosa<br>Skladowa1=%{x}<br>Skladowa2=%{y}\", \"legendgroup\": \"color=setosa\", \"marker\": {\"color\": \"#636efa\", \"symbol\": \"circle\"}, \"mode\": \"markers\", \"name\": \"color=setosa\", \"showlegend\": true, \"type\": \"scatter\", \"x\": [2.2571411756481203, 2.074013015199622, 2.356335111806179, 2.2917067858696956, 2.38186270441694, 2.0687006084676947, 2.4358684489631397, 2.225391888780554, 2.3268453293413165, 2.177034905241113, 2.1590769916914128, 2.318364130681808, 2.211043696511383, 2.6243090161435645, 2.191399211809025, 2.254661206568943, 2.2002167647433657, 2.183036134821445, 1.892232839555379, 2.335544760603729, 1.9079312487023756, 2.19964383149332, 2.7650814226329534, 1.8125971593938741, 2.219727013475055, 1.9453292965767008, 2.044302768058286, 2.1613364960941164, 2.1324196468793004, 2.2576979945994258, 2.1329764658306063, 1.8254792451868609, 2.6062168666231944, 2.4380098316939143, 2.1029298644144383, 2.2004372294198395, 2.038317652776695, 2.5188933857287, 2.4215202566939684, 2.162466248295469, 2.2788408143754486, 1.8519183573960707, 2.5451120332614363, 1.9578885746886698, 2.129923563501383, 2.062833614858033, 2.3767707623614864, 2.3863817132223475, 2.222002632176499, 2.1964750395657378], \"xaxis\": \"x\", \"y\": [-0.4784238321248988, 0.6718826870273622, 0.34076642462457135, 0.5953998626815461, -0.6446756594005367, -1.4842052973421593, -0.04748511806193247, -0.22240300191943946, 1.1116036995379195, 0.467447568511677, -1.0402058665204261, -0.1326339989896179, 0.7262431830141067, 0.9582963471553276, -1.8538465546759564, -2.6773152297366045, -1.4786557287482194, -0.48720613057248985, -1.4003275666972363, -1.124083597165347, -0.4074905763730224, -0.9210358707981479, -0.4568133006499839, -0.08527285428354428, -0.13679617543507278, 0.6235297051912392, -0.2413549909631064, -0.5253894218125371, -0.312172004849261, 0.3366042481791165, 0.5028560754547546, -0.42228038897123443, -1.787587272253691, -2.143546795985049, 0.45866527006408603, 0.20541922415559674, -0.6593492301330268, -0.5903151634137928, 0.9011610668716132, -0.26798119945859256, -0.44024054088485187, 2.3296107445884062, 0.4775010172420309, -0.47074961267307963, -1.1384154642068778, 0.7086785861189248, -1.1166886908662408, 0.38495723001523985, -0.9946276689812724, -0.009185584956163416], \"yaxis\": \"y\"}, {\"hoverlabel\": {\"namelength\": 0}, \"hovertemplate\": \"color=versicolor<br>Skladowa1=%{x}<br>Skladowa2=%{y}\", \"legendgroup\": \"color=versicolor\", \"marker\": {\"color\": \"#EF553B\", \"symbol\": \"circle\"}, \"mode\": \"markers\", \"name\": \"color=versicolor\", \"showlegend\": true, \"type\": \"scatter\", \"x\": [-1.0981024376140953, -0.728895557392421, -1.2368358043772545, -0.4061225105823157, -1.0718837900813598, -0.3873895454784065, -0.744037147588112, 0.4856956165743815, -0.9248034606293611, -0.011388037749880309, 0.1098283448165251, -0.4392220143277073, -0.5602314788114526, -0.7171593380995256, 0.03324333491067285, -0.8724842872358192, -0.34908221007920276, -0.1582797954915294, -1.221003159259588, -0.16436725377766548, -0.7352195946537708, -0.4746969120741604, -1.2300572911691432, -0.6307451447299094, -0.7003150624524371, -0.8713545350344671, -1.2523137488477771, -1.3538695324130845, -0.6625806603032797, 0.040124191123328344, -0.13035846250739622, -0.023374382611803468, -0.2407317990070442, -1.0575517121109286, -0.22323092910903178, -0.42770625971128556, -1.0452264452692475, -1.041043790738672, -0.06935597215018167, -0.2825307340148479, -0.2781459611801098, -0.6224844107468738, -0.3354067263596959, 0.36097408780556217, -0.287622676070301, -0.09105561087751046, -0.2269565399879195, -0.5744637814822656, 0.44617230026802246, -0.25587338920273556], \"xaxis\": \"x\", \"y\": [-0.8600910331955328, -0.5926293621112348, -0.6142398935861497, 1.7485461967118705, 0.20772514746029175, 0.5913027168171843, -0.7704382721314325, 1.846243997514166, -0.03211847799847051, 1.0305657837710593, 2.6452111149372066, 0.06308385165956847, 1.7588321291736675, 0.18560281910121967, 0.43753741887791125, -0.5073642393178273, 0.19565626783157355, 0.7894510080295343, 1.6168272811149813, 1.2982599385868019, -0.39524744620369656, 0.41592688740299644, 0.9302094405375159, 0.4149974408111927, 0.0632000935252905, -0.2499560169638827, 0.07699806899345327, -0.33020546273671886, 0.22517350248975168, 1.055183583274388, 1.5570555530892312, 1.5672252436853071, 0.7746611954313224, 0.6317269007808324, 0.2868126629098797, -0.8427589200317941, -0.5203087142108731, 1.3783710478047049, 0.21877043332069535, 1.3248861470822884, 1.116288852121148, -0.02483981356508649, 0.9851038280976285, 2.012495824789804, 0.852873115616583, 0.18058714208064788, 0.38363486844784805, 0.15435648860359702, 1.5386374556189328, 0.5968522854111241], \"yaxis\": \"y\"}, {\"hoverlabel\": {\"namelength\": 0}, \"hovertemplate\": \"color=virginica<br>Skladowa1=%{x}<br>Skladowa2=%{y}\", \"legendgroup\": \"color=virginica\", \"marker\": {\"color\": \"#00cc96\", \"symbol\": \"circle\"}, \"mode\": \"markers\", \"name\": \"color=virginica\", \"showlegend\": true, \"type\": \"scatter\", \"x\": [-1.8384100229241178, -1.1540155536207823, -2.197903609280387, -1.4353421339966568, -1.8615757681276301, -2.7426850851882394, -0.36579224975562274, -2.2947518123299377, -1.9999863272097707, -2.2522321615076053, -1.3596206364243881, -1.5973274746691322, -1.877610531549459, -1.255907691460922, -1.4627448694704241, -1.5847681965571632, -1.4665184876141768, -2.4182276992990475, -3.2996414776683642, -1.259547073634005, -2.0309125552582628, -0.9747153470557169, -2.8879765004830356, -1.3287806370817006, -1.6950553043510075, -1.9478013897868975, -1.1711800692439636, -1.0175416912603277, -1.782378785245502, -1.8574250065631799, -2.4278203037875974, -2.2972317814091157, -1.856483826072177, -1.1104277044557769, -1.1984583545709862, -2.7894256119820873, -1.5709929375380378, -1.3417969588453573, -0.9217370117063243, -1.8458612446818936, -2.0080831643295824, -1.8954342091284904, -1.1540155536207823, -2.0337449929110125, -1.9914754676577078, -1.8642578555109706, -1.559356493544761, -1.5160914520607738, -1.368204178088442, -0.9574484884279918], \"xaxis\": \"x\", \"y\": [-0.8675150560900557, 0.696536400516366, -0.56013397602006, 0.0468307008961846, -0.29405969708424684, -0.7977367087552207, 1.5562891777844188, -0.41866301953474233, 0.7090632257017653, -1.9145963005352933, -0.6904434047792526, 0.4202924309844765, -0.4178498148086605, 1.1583797413859953, 0.44079488346362083, -0.6739868868798422, -0.2547683268484281, -2.548124795408777, -0.017721580375847444, 1.701046715450863, -0.9074274431695483, 0.5698552566292611, -0.41225995036568597, 0.48020249556516076, -1.01053647601085, -1.0044127199945079, 0.31533806043800844, -0.0641311838009053, 0.18673563282904934, -0.5604132891727737, -0.25841870640972564, -2.617554417146447, 0.17795333438145836, 0.29194458179617344, 0.8086063642092276, -0.8539425424471314, -1.065013213863316, -0.4210201541240662, -0.01716559411326728, -0.6738706450141203, -0.6118359295755565, -0.6872730654638474, 0.696536400516366, -0.8646240299273646, -1.045665669801214, -0.3856740377192346, 0.8936928545986671, -0.26817074729815515, -1.007877933579602, 0.024250426980430898], \"yaxis\": \"y\"}],\n",
              "                        {\"legend\": {\"tracegroupgap\": 0}, \"margin\": {\"t\": 60}, \"template\": {\"data\": {\"bar\": [{\"error_x\": {\"color\": \"#2a3f5f\"}, \"error_y\": {\"color\": \"#2a3f5f\"}, \"marker\": {\"line\": {\"color\": \"#E5ECF6\", \"width\": 0.5}}, \"type\": \"bar\"}], \"barpolar\": [{\"marker\": {\"line\": {\"color\": \"#E5ECF6\", \"width\": 0.5}}, \"type\": \"barpolar\"}], \"carpet\": [{\"aaxis\": {\"endlinecolor\": \"#2a3f5f\", \"gridcolor\": \"white\", \"linecolor\": \"white\", \"minorgridcolor\": \"white\", \"startlinecolor\": \"#2a3f5f\"}, \"baxis\": {\"endlinecolor\": \"#2a3f5f\", \"gridcolor\": \"white\", \"linecolor\": \"white\", \"minorgridcolor\": \"white\", \"startlinecolor\": \"#2a3f5f\"}, \"type\": \"carpet\"}], \"choropleth\": [{\"colorbar\": {\"outlinewidth\": 0, \"ticks\": \"\"}, \"type\": \"choropleth\"}], \"contour\": [{\"colorbar\": {\"outlinewidth\": 0, \"ticks\": \"\"}, \"colorscale\": [[0.0, \"#0d0887\"], [0.1111111111111111, \"#46039f\"], [0.2222222222222222, \"#7201a8\"], [0.3333333333333333, \"#9c179e\"], [0.4444444444444444, \"#bd3786\"], [0.5555555555555556, \"#d8576b\"], [0.6666666666666666, \"#ed7953\"], [0.7777777777777778, \"#fb9f3a\"], [0.8888888888888888, \"#fdca26\"], [1.0, \"#f0f921\"]], \"type\": \"contour\"}], \"contourcarpet\": [{\"colorbar\": {\"outlinewidth\": 0, \"ticks\": \"\"}, \"type\": \"contourcarpet\"}], \"heatmap\": [{\"colorbar\": {\"outlinewidth\": 0, \"ticks\": \"\"}, \"colorscale\": [[0.0, \"#0d0887\"], [0.1111111111111111, \"#46039f\"], [0.2222222222222222, \"#7201a8\"], [0.3333333333333333, \"#9c179e\"], [0.4444444444444444, \"#bd3786\"], [0.5555555555555556, \"#d8576b\"], [0.6666666666666666, \"#ed7953\"], [0.7777777777777778, \"#fb9f3a\"], [0.8888888888888888, \"#fdca26\"], [1.0, \"#f0f921\"]], \"type\": \"heatmap\"}], \"heatmapgl\": [{\"colorbar\": {\"outlinewidth\": 0, \"ticks\": \"\"}, \"colorscale\": [[0.0, \"#0d0887\"], [0.1111111111111111, \"#46039f\"], [0.2222222222222222, \"#7201a8\"], [0.3333333333333333, \"#9c179e\"], [0.4444444444444444, \"#bd3786\"], [0.5555555555555556, \"#d8576b\"], [0.6666666666666666, \"#ed7953\"], [0.7777777777777778, \"#fb9f3a\"], [0.8888888888888888, \"#fdca26\"], [1.0, \"#f0f921\"]], \"type\": \"heatmapgl\"}], \"histogram\": [{\"marker\": {\"colorbar\": {\"outlinewidth\": 0, \"ticks\": \"\"}}, \"type\": \"histogram\"}], \"histogram2d\": [{\"colorbar\": {\"outlinewidth\": 0, \"ticks\": \"\"}, \"colorscale\": [[0.0, \"#0d0887\"], [0.1111111111111111, \"#46039f\"], [0.2222222222222222, \"#7201a8\"], [0.3333333333333333, \"#9c179e\"], [0.4444444444444444, \"#bd3786\"], [0.5555555555555556, \"#d8576b\"], [0.6666666666666666, \"#ed7953\"], [0.7777777777777778, \"#fb9f3a\"], [0.8888888888888888, \"#fdca26\"], [1.0, \"#f0f921\"]], \"type\": \"histogram2d\"}], \"histogram2dcontour\": [{\"colorbar\": {\"outlinewidth\": 0, \"ticks\": \"\"}, \"colorscale\": [[0.0, \"#0d0887\"], [0.1111111111111111, \"#46039f\"], [0.2222222222222222, \"#7201a8\"], [0.3333333333333333, \"#9c179e\"], [0.4444444444444444, \"#bd3786\"], [0.5555555555555556, \"#d8576b\"], [0.6666666666666666, \"#ed7953\"], [0.7777777777777778, \"#fb9f3a\"], [0.8888888888888888, \"#fdca26\"], [1.0, \"#f0f921\"]], \"type\": \"histogram2dcontour\"}], \"mesh3d\": [{\"colorbar\": {\"outlinewidth\": 0, \"ticks\": \"\"}, \"type\": \"mesh3d\"}], \"parcoords\": [{\"line\": {\"colorbar\": {\"outlinewidth\": 0, \"ticks\": \"\"}}, \"type\": \"parcoords\"}], \"pie\": [{\"automargin\": true, \"type\": \"pie\"}], \"scatter\": [{\"marker\": {\"colorbar\": {\"outlinewidth\": 0, \"ticks\": \"\"}}, \"type\": \"scatter\"}], \"scatter3d\": [{\"line\": {\"colorbar\": {\"outlinewidth\": 0, \"ticks\": \"\"}}, \"marker\": {\"colorbar\": {\"outlinewidth\": 0, \"ticks\": \"\"}}, \"type\": \"scatter3d\"}], \"scattercarpet\": [{\"marker\": {\"colorbar\": {\"outlinewidth\": 0, \"ticks\": \"\"}}, \"type\": \"scattercarpet\"}], \"scattergeo\": [{\"marker\": {\"colorbar\": {\"outlinewidth\": 0, \"ticks\": \"\"}}, \"type\": \"scattergeo\"}], \"scattergl\": [{\"marker\": {\"colorbar\": {\"outlinewidth\": 0, \"ticks\": \"\"}}, \"type\": \"scattergl\"}], \"scattermapbox\": [{\"marker\": {\"colorbar\": {\"outlinewidth\": 0, \"ticks\": \"\"}}, \"type\": \"scattermapbox\"}], \"scatterpolar\": [{\"marker\": {\"colorbar\": {\"outlinewidth\": 0, \"ticks\": \"\"}}, \"type\": \"scatterpolar\"}], \"scatterpolargl\": [{\"marker\": {\"colorbar\": {\"outlinewidth\": 0, \"ticks\": \"\"}}, \"type\": \"scatterpolargl\"}], \"scatterternary\": [{\"marker\": {\"colorbar\": {\"outlinewidth\": 0, \"ticks\": \"\"}}, \"type\": \"scatterternary\"}], \"surface\": [{\"colorbar\": {\"outlinewidth\": 0, \"ticks\": \"\"}, \"colorscale\": [[0.0, \"#0d0887\"], [0.1111111111111111, \"#46039f\"], [0.2222222222222222, \"#7201a8\"], [0.3333333333333333, \"#9c179e\"], [0.4444444444444444, \"#bd3786\"], [0.5555555555555556, \"#d8576b\"], [0.6666666666666666, \"#ed7953\"], [0.7777777777777778, \"#fb9f3a\"], [0.8888888888888888, \"#fdca26\"], [1.0, \"#f0f921\"]], \"type\": \"surface\"}], \"table\": [{\"cells\": {\"fill\": {\"color\": \"#EBF0F8\"}, \"line\": {\"color\": \"white\"}}, \"header\": {\"fill\": {\"color\": \"#C8D4E3\"}, \"line\": {\"color\": \"white\"}}, \"type\": \"table\"}]}, \"layout\": {\"annotationdefaults\": {\"arrowcolor\": \"#2a3f5f\", \"arrowhead\": 0, \"arrowwidth\": 1}, \"coloraxis\": {\"colorbar\": {\"outlinewidth\": 0, \"ticks\": \"\"}}, \"colorscale\": {\"diverging\": [[0, \"#8e0152\"], [0.1, \"#c51b7d\"], [0.2, \"#de77ae\"], [0.3, \"#f1b6da\"], [0.4, \"#fde0ef\"], [0.5, \"#f7f7f7\"], [0.6, \"#e6f5d0\"], [0.7, \"#b8e186\"], [0.8, \"#7fbc41\"], [0.9, \"#4d9221\"], [1, \"#276419\"]], \"sequential\": [[0.0, \"#0d0887\"], [0.1111111111111111, \"#46039f\"], [0.2222222222222222, \"#7201a8\"], [0.3333333333333333, \"#9c179e\"], [0.4444444444444444, \"#bd3786\"], [0.5555555555555556, \"#d8576b\"], [0.6666666666666666, \"#ed7953\"], [0.7777777777777778, \"#fb9f3a\"], [0.8888888888888888, \"#fdca26\"], [1.0, \"#f0f921\"]], \"sequentialminus\": [[0.0, \"#0d0887\"], [0.1111111111111111, \"#46039f\"], [0.2222222222222222, \"#7201a8\"], [0.3333333333333333, \"#9c179e\"], [0.4444444444444444, \"#bd3786\"], [0.5555555555555556, \"#d8576b\"], [0.6666666666666666, \"#ed7953\"], [0.7777777777777778, \"#fb9f3a\"], [0.8888888888888888, \"#fdca26\"], [1.0, \"#f0f921\"]]}, \"colorway\": [\"#636efa\", \"#EF553B\", \"#00cc96\", \"#ab63fa\", \"#FFA15A\", \"#19d3f3\", \"#FF6692\", \"#B6E880\", \"#FF97FF\", \"#FECB52\"], \"font\": {\"color\": \"#2a3f5f\"}, \"geo\": {\"bgcolor\": \"white\", \"lakecolor\": \"white\", \"landcolor\": \"#E5ECF6\", \"showlakes\": true, \"showland\": true, \"subunitcolor\": \"white\"}, \"hoverlabel\": {\"align\": \"left\"}, \"hovermode\": \"closest\", \"mapbox\": {\"style\": \"light\"}, \"paper_bgcolor\": \"white\", \"plot_bgcolor\": \"#E5ECF6\", \"polar\": {\"angularaxis\": {\"gridcolor\": \"white\", \"linecolor\": \"white\", \"ticks\": \"\"}, \"bgcolor\": \"#E5ECF6\", \"radialaxis\": {\"gridcolor\": \"white\", \"linecolor\": \"white\", \"ticks\": \"\"}}, \"scene\": {\"xaxis\": {\"backgroundcolor\": \"#E5ECF6\", \"gridcolor\": \"white\", \"gridwidth\": 2, \"linecolor\": \"white\", \"showbackground\": true, \"ticks\": \"\", \"zerolinecolor\": \"white\"}, \"yaxis\": {\"backgroundcolor\": \"#E5ECF6\", \"gridcolor\": \"white\", \"gridwidth\": 2, \"linecolor\": \"white\", \"showbackground\": true, \"ticks\": \"\", \"zerolinecolor\": \"white\"}, \"zaxis\": {\"backgroundcolor\": \"#E5ECF6\", \"gridcolor\": \"white\", \"gridwidth\": 2, \"linecolor\": \"white\", \"showbackground\": true, \"ticks\": \"\", \"zerolinecolor\": \"white\"}}, \"shapedefaults\": {\"line\": {\"color\": \"#2a3f5f\"}}, \"ternary\": {\"aaxis\": {\"gridcolor\": \"white\", \"linecolor\": \"white\", \"ticks\": \"\"}, \"baxis\": {\"gridcolor\": \"white\", \"linecolor\": \"white\", \"ticks\": \"\"}, \"bgcolor\": \"#E5ECF6\", \"caxis\": {\"gridcolor\": \"white\", \"linecolor\": \"white\", \"ticks\": \"\"}}, \"title\": {\"x\": 0.05}, \"xaxis\": {\"automargin\": true, \"gridcolor\": \"white\", \"linecolor\": \"white\", \"ticks\": \"\", \"title\": {\"standoff\": 15}, \"zerolinecolor\": \"white\", \"zerolinewidth\": 2}, \"yaxis\": {\"automargin\": true, \"gridcolor\": \"white\", \"linecolor\": \"white\", \"ticks\": \"\", \"title\": {\"standoff\": 15}, \"zerolinecolor\": \"white\", \"zerolinewidth\": 2}}}, \"xaxis\": {\"anchor\": \"y\", \"domain\": [0.0, 1.0], \"title\": {\"text\": \"Skladowa1\"}}, \"yaxis\": {\"anchor\": \"x\", \"domain\": [0.0, 1.0], \"title\": {\"text\": \"Skladowa2\"}}},\n",
              "                        {\"responsive\": true}\n",
              "                    ).then(function(){\n",
              "                            \n",
              "var gd = document.getElementById('f89a448d-0128-4b19-978f-320930886c30');\n",
              "var x = new MutationObserver(function (mutations, observer) {{\n",
              "        var display = window.getComputedStyle(gd).display;\n",
              "        if (!display || display === 'none') {{\n",
              "            console.log([gd, 'removed!']);\n",
              "            Plotly.purge(gd);\n",
              "            observer.disconnect();\n",
              "        }}\n",
              "}});\n",
              "\n",
              "// Listen for the removal of the full notebook cells\n",
              "var notebookContainer = gd.closest('#notebook-container');\n",
              "if (notebookContainer) {{\n",
              "    x.observe(notebookContainer, {childList: true});\n",
              "}}\n",
              "\n",
              "// Listen for the clearing of the current output cell\n",
              "var outputEl = gd.closest('.output');\n",
              "if (outputEl) {{\n",
              "    x.observe(outputEl, {childList: true});\n",
              "}}\n",
              "\n",
              "                        })\n",
              "                };\n",
              "                \n",
              "            </script>\n",
              "        </div>\n",
              "</body>\n",
              "</html>"
            ]
          },
          "metadata": {
            "tags": []
          }
        }
      ]
    },
    {
      "cell_type": "code",
      "metadata": {
        "colab": {
          "base_uri": "https://localhost:8080/",
          "height": 406
        },
        "id": "5Hs71qzX6fTh",
        "outputId": "d358a2f7-9130-4359-e9d8-4b40ae4dba95"
      },
      "source": [
        "new_data"
      ],
      "execution_count": null,
      "outputs": [
        {
          "output_type": "execute_result",
          "data": {
            "text/html": [
              "<div>\n",
              "<style scoped>\n",
              "    .dataframe tbody tr th:only-of-type {\n",
              "        vertical-align: middle;\n",
              "    }\n",
              "\n",
              "    .dataframe tbody tr th {\n",
              "        vertical-align: top;\n",
              "    }\n",
              "\n",
              "    .dataframe thead th {\n",
              "        text-align: right;\n",
              "    }\n",
              "</style>\n",
              "<table border=\"1\" class=\"dataframe\">\n",
              "  <thead>\n",
              "    <tr style=\"text-align: right;\">\n",
              "      <th></th>\n",
              "      <th>Skladowa1</th>\n",
              "      <th>Skladowa2</th>\n",
              "    </tr>\n",
              "  </thead>\n",
              "  <tbody>\n",
              "    <tr>\n",
              "      <th>0</th>\n",
              "      <td>2.257141</td>\n",
              "      <td>-0.478424</td>\n",
              "    </tr>\n",
              "    <tr>\n",
              "      <th>1</th>\n",
              "      <td>2.074013</td>\n",
              "      <td>0.671883</td>\n",
              "    </tr>\n",
              "    <tr>\n",
              "      <th>2</th>\n",
              "      <td>2.356335</td>\n",
              "      <td>0.340766</td>\n",
              "    </tr>\n",
              "    <tr>\n",
              "      <th>3</th>\n",
              "      <td>2.291707</td>\n",
              "      <td>0.595400</td>\n",
              "    </tr>\n",
              "    <tr>\n",
              "      <th>4</th>\n",
              "      <td>2.381863</td>\n",
              "      <td>-0.644676</td>\n",
              "    </tr>\n",
              "    <tr>\n",
              "      <th>...</th>\n",
              "      <td>...</td>\n",
              "      <td>...</td>\n",
              "    </tr>\n",
              "    <tr>\n",
              "      <th>145</th>\n",
              "      <td>-1.864258</td>\n",
              "      <td>-0.385674</td>\n",
              "    </tr>\n",
              "    <tr>\n",
              "      <th>146</th>\n",
              "      <td>-1.559356</td>\n",
              "      <td>0.893693</td>\n",
              "    </tr>\n",
              "    <tr>\n",
              "      <th>147</th>\n",
              "      <td>-1.516091</td>\n",
              "      <td>-0.268171</td>\n",
              "    </tr>\n",
              "    <tr>\n",
              "      <th>148</th>\n",
              "      <td>-1.368204</td>\n",
              "      <td>-1.007878</td>\n",
              "    </tr>\n",
              "    <tr>\n",
              "      <th>149</th>\n",
              "      <td>-0.957448</td>\n",
              "      <td>0.024250</td>\n",
              "    </tr>\n",
              "  </tbody>\n",
              "</table>\n",
              "<p>150 rows × 2 columns</p>\n",
              "</div>"
            ],
            "text/plain": [
              "     Skladowa1  Skladowa2\n",
              "0     2.257141  -0.478424\n",
              "1     2.074013   0.671883\n",
              "2     2.356335   0.340766\n",
              "3     2.291707   0.595400\n",
              "4     2.381863  -0.644676\n",
              "..         ...        ...\n",
              "145  -1.864258  -0.385674\n",
              "146  -1.559356   0.893693\n",
              "147  -1.516091  -0.268171\n",
              "148  -1.368204  -1.007878\n",
              "149  -0.957448   0.024250\n",
              "\n",
              "[150 rows x 2 columns]"
            ]
          },
          "metadata": {
            "tags": []
          },
          "execution_count": 21
        }
      ]
    },
    {
      "cell_type": "markdown",
      "metadata": {
        "id": "DOvJr6woHLjg"
      },
      "source": [
        "## sklearn"
      ]
    },
    {
      "cell_type": "code",
      "metadata": {
        "id": "3BwJTbp2HUMD"
      },
      "source": [
        "from sklearn.decomposition import PCA"
      ],
      "execution_count": null,
      "outputs": []
    },
    {
      "cell_type": "markdown",
      "metadata": {
        "id": "nDzhQbTIHPFB"
      },
      "source": [
        "Definiujemy model (musimy podać liczbę głównych składowych)"
      ]
    },
    {
      "cell_type": "code",
      "metadata": {
        "id": "fsZUCsa3HWuV"
      },
      "source": [
        "model_pca = PCA(n_components=2)"
      ],
      "execution_count": null,
      "outputs": []
    },
    {
      "cell_type": "markdown",
      "metadata": {
        "id": "M5p0YghDHYS9"
      },
      "source": [
        "Przekształcamy na danych zestandaryzowanych:"
      ]
    },
    {
      "cell_type": "code",
      "metadata": {
        "colab": {
          "base_uri": "https://localhost:8080/"
        },
        "id": "3WdvJBVuHaov",
        "outputId": "8bd23680-2c6a-443f-b4c1-be9e7817c35e"
      },
      "source": [
        "new_data_sklearn = model_pca.fit_transform(iris_standardized)\n",
        "print(new_data_sklearn)"
      ],
      "execution_count": null,
      "outputs": [
        {
          "output_type": "stream",
          "text": [
            "[[-2.25714118  0.47842383]\n",
            " [-2.07401302 -0.67188269]\n",
            " [-2.35633511 -0.34076642]\n",
            " [-2.29170679 -0.59539986]\n",
            " [-2.3818627   0.64467566]\n",
            " [-2.06870061  1.4842053 ]\n",
            " [-2.43586845  0.04748512]\n",
            " [-2.22539189  0.222403  ]\n",
            " [-2.32684533 -1.1116037 ]\n",
            " [-2.17703491 -0.46744757]\n",
            " [-2.15907699  1.04020587]\n",
            " [-2.31836413  0.132634  ]\n",
            " [-2.2110437  -0.72624318]\n",
            " [-2.62430902 -0.95829635]\n",
            " [-2.19139921  1.85384655]\n",
            " [-2.25466121  2.67731523]\n",
            " [-2.20021676  1.47865573]\n",
            " [-2.18303613  0.48720613]\n",
            " [-1.89223284  1.40032757]\n",
            " [-2.33554476  1.1240836 ]\n",
            " [-1.90793125  0.40749058]\n",
            " [-2.19964383  0.92103587]\n",
            " [-2.76508142  0.4568133 ]\n",
            " [-1.81259716  0.08527285]\n",
            " [-2.21972701  0.13679618]\n",
            " [-1.9453293  -0.62352971]\n",
            " [-2.04430277  0.24135499]\n",
            " [-2.1613365   0.52538942]\n",
            " [-2.13241965  0.312172  ]\n",
            " [-2.25769799 -0.33660425]\n",
            " [-2.13297647 -0.50285608]\n",
            " [-1.82547925  0.42228039]\n",
            " [-2.60621687  1.78758727]\n",
            " [-2.43800983  2.1435468 ]\n",
            " [-2.10292986 -0.45866527]\n",
            " [-2.20043723 -0.20541922]\n",
            " [-2.03831765  0.65934923]\n",
            " [-2.51889339  0.59031516]\n",
            " [-2.42152026 -0.90116107]\n",
            " [-2.16246625  0.2679812 ]\n",
            " [-2.27884081  0.44024054]\n",
            " [-1.85191836 -2.32961074]\n",
            " [-2.54511203 -0.47750102]\n",
            " [-1.95788857  0.47074961]\n",
            " [-2.12992356  1.13841546]\n",
            " [-2.06283361 -0.70867859]\n",
            " [-2.37677076  1.11668869]\n",
            " [-2.38638171 -0.38495723]\n",
            " [-2.22200263  0.99462767]\n",
            " [-2.19647504  0.00918558]\n",
            " [ 1.09810244  0.86009103]\n",
            " [ 0.72889556  0.59262936]\n",
            " [ 1.2368358   0.61423989]\n",
            " [ 0.40612251 -1.7485462 ]\n",
            " [ 1.07188379 -0.20772515]\n",
            " [ 0.38738955 -0.59130272]\n",
            " [ 0.74403715  0.77043827]\n",
            " [-0.48569562 -1.846244  ]\n",
            " [ 0.92480346  0.03211848]\n",
            " [ 0.01138804 -1.03056578]\n",
            " [-0.10982834 -2.64521111]\n",
            " [ 0.43922201 -0.06308385]\n",
            " [ 0.56023148 -1.75883213]\n",
            " [ 0.71715934 -0.18560282]\n",
            " [-0.03324333 -0.43753742]\n",
            " [ 0.87248429  0.50736424]\n",
            " [ 0.34908221 -0.19565627]\n",
            " [ 0.1582798  -0.78945101]\n",
            " [ 1.22100316 -1.61682728]\n",
            " [ 0.16436725 -1.29825994]\n",
            " [ 0.73521959  0.39524745]\n",
            " [ 0.47469691 -0.41592689]\n",
            " [ 1.23005729 -0.93020944]\n",
            " [ 0.63074514 -0.41499744]\n",
            " [ 0.70031506 -0.06320009]\n",
            " [ 0.87135454  0.24995602]\n",
            " [ 1.25231375 -0.07699807]\n",
            " [ 1.35386953  0.33020546]\n",
            " [ 0.66258066 -0.2251735 ]\n",
            " [-0.04012419 -1.05518358]\n",
            " [ 0.13035846 -1.55705555]\n",
            " [ 0.02337438 -1.56722524]\n",
            " [ 0.2407318  -0.7746612 ]\n",
            " [ 1.05755171 -0.6317269 ]\n",
            " [ 0.22323093 -0.28681266]\n",
            " [ 0.42770626  0.84275892]\n",
            " [ 1.04522645  0.52030871]\n",
            " [ 1.04104379 -1.37837105]\n",
            " [ 0.06935597 -0.21877043]\n",
            " [ 0.28253073 -1.32488615]\n",
            " [ 0.27814596 -1.11628885]\n",
            " [ 0.62248441  0.02483981]\n",
            " [ 0.33540673 -0.98510383]\n",
            " [-0.36097409 -2.01249582]\n",
            " [ 0.28762268 -0.85287312]\n",
            " [ 0.09105561 -0.18058714]\n",
            " [ 0.22695654 -0.38363487]\n",
            " [ 0.57446378 -0.15435649]\n",
            " [-0.4461723  -1.53863746]\n",
            " [ 0.25587339 -0.59685229]\n",
            " [ 1.83841002  0.86751506]\n",
            " [ 1.15401555 -0.6965364 ]\n",
            " [ 2.19790361  0.56013398]\n",
            " [ 1.43534213 -0.0468307 ]\n",
            " [ 1.86157577  0.2940597 ]\n",
            " [ 2.74268509  0.79773671]\n",
            " [ 0.36579225 -1.55628918]\n",
            " [ 2.29475181  0.41866302]\n",
            " [ 1.99998633 -0.70906323]\n",
            " [ 2.25223216  1.9145963 ]\n",
            " [ 1.35962064  0.6904434 ]\n",
            " [ 1.59732747 -0.42029243]\n",
            " [ 1.87761053  0.41784981]\n",
            " [ 1.25590769 -1.15837974]\n",
            " [ 1.46274487 -0.44079488]\n",
            " [ 1.5847682   0.67398689]\n",
            " [ 1.46651849  0.25476833]\n",
            " [ 2.4182277   2.5481248 ]\n",
            " [ 3.29964148  0.01772158]\n",
            " [ 1.25954707 -1.70104672]\n",
            " [ 2.03091256  0.90742744]\n",
            " [ 0.97471535 -0.56985526]\n",
            " [ 2.8879765   0.41225995]\n",
            " [ 1.32878064 -0.4802025 ]\n",
            " [ 1.6950553   1.01053648]\n",
            " [ 1.94780139  1.00441272]\n",
            " [ 1.17118007 -0.31533806]\n",
            " [ 1.01754169  0.06413118]\n",
            " [ 1.78237879 -0.18673563]\n",
            " [ 1.85742501  0.56041329]\n",
            " [ 2.4278203   0.25841871]\n",
            " [ 2.29723178  2.61755442]\n",
            " [ 1.85648383 -0.17795333]\n",
            " [ 1.1104277  -0.29194458]\n",
            " [ 1.19845835 -0.80860636]\n",
            " [ 2.78942561  0.85394254]\n",
            " [ 1.57099294  1.06501321]\n",
            " [ 1.34179696  0.42102015]\n",
            " [ 0.92173701  0.01716559]\n",
            " [ 1.84586124  0.67387065]\n",
            " [ 2.00808316  0.61183593]\n",
            " [ 1.89543421  0.68727307]\n",
            " [ 1.15401555 -0.6965364 ]\n",
            " [ 2.03374499  0.86462403]\n",
            " [ 1.99147547  1.04566567]\n",
            " [ 1.86425786  0.38567404]\n",
            " [ 1.55935649 -0.89369285]\n",
            " [ 1.51609145  0.26817075]\n",
            " [ 1.36820418  1.00787793]\n",
            " [ 0.95744849 -0.02425043]]\n"
          ],
          "name": "stdout"
        }
      ]
    },
    {
      "cell_type": "markdown",
      "metadata": {
        "id": "BGuIqAKDHcn4"
      },
      "source": [
        "Wartości własne możemy uzyskać z właściwości `.explained_variance_`, natomiast % wyjaśnianej wariancji z właściwości `.explained_variance_ratio_`"
      ]
    },
    {
      "cell_type": "code",
      "metadata": {
        "colab": {
          "base_uri": "https://localhost:8080/"
        },
        "id": "dtPBA88XHeoJ",
        "outputId": "cd0a54fe-775e-4c7c-89e9-39e8f4bfcb0c"
      },
      "source": [
        "model_pca.explained_variance_"
      ],
      "execution_count": null,
      "outputs": [
        {
          "output_type": "execute_result",
          "data": {
            "text/plain": [
              "array([2.91849782, 0.91403047])"
            ]
          },
          "metadata": {
            "tags": []
          },
          "execution_count": 22
        }
      ]
    },
    {
      "cell_type": "code",
      "metadata": {
        "colab": {
          "base_uri": "https://localhost:8080/"
        },
        "id": "HrEm7T8KHeqp",
        "outputId": "048ce610-30fa-4c55-f0eb-024d37b7ec50"
      },
      "source": [
        "model_pca.explained_variance_ratio_"
      ],
      "execution_count": null,
      "outputs": [
        {
          "output_type": "execute_result",
          "data": {
            "text/plain": [
              "array([0.72962445, 0.22850762])"
            ]
          },
          "metadata": {
            "tags": []
          },
          "execution_count": 23
        }
      ]
    },
    {
      "cell_type": "markdown",
      "metadata": {
        "id": "nb6hiJS7HghK"
      },
      "source": [
        "... oraz wektory własne za pomocą `.components_`"
      ]
    },
    {
      "cell_type": "code",
      "metadata": {
        "colab": {
          "base_uri": "https://localhost:8080/"
        },
        "id": "-M2dTqnlHhUt",
        "outputId": "f3359d00-8627-4a6a-8910-120b59597844"
      },
      "source": [
        "model_pca.components_"
      ],
      "execution_count": null,
      "outputs": [
        {
          "output_type": "execute_result",
          "data": {
            "text/plain": [
              "array([[-0.26934744,  0.52106591,  0.56485654,  0.5804131 ],\n",
              "       [ 0.92329566,  0.37741762,  0.06694199,  0.02449161]])"
            ]
          },
          "metadata": {
            "tags": []
          },
          "execution_count": 24
        }
      ]
    },
    {
      "cell_type": "markdown",
      "metadata": {
        "id": "xkc8lh9XHk28"
      },
      "source": [
        "<font size=2>Czasami wyniki dla dekompozycji macierzy kowariancji i mechanizmu sklearna mogą się różnić w kwestii znaku przed wektorami własnymi - sklearn pod spodem używa mechanizmu *Singular Value Decomposition*. Dla analizy nie ma to istotnego znaczenia. Dla dociekliwych: https://stackoverflow.com/a/44847053</font>"
      ]
    },
    {
      "cell_type": "markdown",
      "metadata": {
        "id": "vhYqHaFzIRZx"
      },
      "source": [
        "Pełna wizualizacja w plotly"
      ]
    },
    {
      "cell_type": "code",
      "metadata": {
        "colab": {
          "base_uri": "https://localhost:8080/",
          "height": 542
        },
        "id": "21YjNAyhHld-",
        "outputId": "6929ece8-9da7-4806-eabe-beb84d85438e"
      },
      "source": [
        "loadings = model_pca.components_.T * np.sqrt(model_pca.explained_variance_)\n",
        "\n",
        "fig = px.scatter(new_data_sklearn, x=0, y=1, color=df['species'])\n",
        "\n",
        "for i, feature in enumerate(features):\n",
        "    fig.add_shape(\n",
        "        type='line',\n",
        "        x0=0, y0=0,\n",
        "        x1=loadings[i, 0],\n",
        "        y1=loadings[i, 1]\n",
        "    )\n",
        "    fig.add_annotation(\n",
        "        x=loadings[i, 0],\n",
        "        y=loadings[i, 1],\n",
        "        ax=0, ay=0,\n",
        "        xanchor=\"center\",\n",
        "        yanchor=\"bottom\",\n",
        "        text=feature,\n",
        "    )\n",
        "fig.show()"
      ],
      "execution_count": null,
      "outputs": [
        {
          "output_type": "display_data",
          "data": {
            "text/html": [
              "<html>\n",
              "<head><meta charset=\"utf-8\" /></head>\n",
              "<body>\n",
              "    <div>\n",
              "            <script src=\"https://cdnjs.cloudflare.com/ajax/libs/mathjax/2.7.5/MathJax.js?config=TeX-AMS-MML_SVG\"></script><script type=\"text/javascript\">if (window.MathJax) {MathJax.Hub.Config({SVG: {font: \"STIX-Web\"}});}</script>\n",
              "                <script type=\"text/javascript\">window.PlotlyConfig = {MathJaxConfig: 'local'};</script>\n",
              "        <script src=\"https://cdn.plot.ly/plotly-latest.min.js\"></script>    \n",
              "            <div id=\"ff33e78d-6108-4157-bc1b-d446f1aa3427\" class=\"plotly-graph-div\" style=\"height:525px; width:100%;\"></div>\n",
              "            <script type=\"text/javascript\">\n",
              "                \n",
              "                    window.PLOTLYENV=window.PLOTLYENV || {};\n",
              "                    \n",
              "                if (document.getElementById(\"ff33e78d-6108-4157-bc1b-d446f1aa3427\")) {\n",
              "                    Plotly.newPlot(\n",
              "                        'ff33e78d-6108-4157-bc1b-d446f1aa3427',\n",
              "                        [{\"hoverlabel\": {\"namelength\": 0}, \"hovertemplate\": \"color=setosa<br>0=%{x}<br>1=%{y}\", \"legendgroup\": \"color=setosa\", \"marker\": {\"color\": \"#636efa\", \"symbol\": \"circle\"}, \"mode\": \"markers\", \"name\": \"color=setosa\", \"showlegend\": true, \"type\": \"scatter\", \"x\": [-2.2571411756481154, -2.0740130151996246, -2.3563351118061755, -2.2917067858696942, -2.3818627044169385, -2.068700608467693, -2.4358684489631384, -2.225391888780553, -2.3268453293413156, -2.1770349052411113, -2.1590769916914114, -2.318364130681806, -2.2110436965113816, -2.6243090161435636, -2.1913992118090233, -2.2546612065689406, -2.2002167647433644, -2.1830361348214433, -1.8922328395553771, -2.3355447606037276, -1.9079312487023743, -2.1996438314933187, -2.7650814226329525, -1.8125971593938723, -2.2197270134750533, -1.9453292965766995, -2.0443027680582846, -2.161336496094115, -2.132419646879299, -2.2576979945994244, -2.132976465830605, -1.8254792451868593, -2.6062168666231926, -2.4380098316939125, -2.1029298644144365, -2.2004372294198387, -2.0383176527766937, -2.5188933857286986, -2.4215202566939675, -2.1624662482954666, -2.2788408143754473, -1.85191835739607, -2.545112033261435, -1.9578885746886685, -2.129923563501382, -2.0628336148580315, -2.3767707623614847, -2.386381713222346, -2.222002632176497, -2.196475039565737], \"xaxis\": \"x\", \"y\": [0.47842383212489936, -0.671882687027362, -0.34076642462457013, -0.5953998626815448, 0.6446756594005378, 1.48420529734216, 0.047485118061933895, 0.2224030019194405, -1.111603699537918, -0.467447568511676, 1.0402058665204263, 0.13263399898961917, -0.7262431830141057, -0.9582963471553263, 1.8538465546759562, 2.677315229736605, 1.47865572874822, 0.4872061305724907, 1.400327566697237, 1.124083597165348, 0.40749057637302305, 0.9210358707981489, 0.45681330064998515, 0.08527285428354543, 0.13679617543507422, -0.6235297051912384, 0.24135499096310764, 0.525389421812538, 0.31217200484926166, -0.33660424817911516, -0.5028560754547534, 0.4222803889712352, 1.7875872722536916, 2.14354679598505, -0.458665270064085, -0.205419224155596, 0.6593492301330272, 0.5903151634137938, -0.9011610668716119, 0.26798119945859344, 0.44024054088485276, -2.329610744588405, -0.47750101724202954, 0.4707496126730809, 1.1384154642068793, -0.7086785861189235, 1.116688690866242, -0.3849572300152385, 0.9946276689812731, 0.009185584956164273], \"yaxis\": \"y\"}, {\"hoverlabel\": {\"namelength\": 0}, \"hovertemplate\": \"color=versicolor<br>0=%{x}<br>1=%{y}\", \"legendgroup\": \"color=versicolor\", \"marker\": {\"color\": \"#EF553B\", \"symbol\": \"circle\"}, \"mode\": \"markers\", \"name\": \"color=versicolor\", \"showlegend\": true, \"type\": \"scatter\", \"x\": [1.098102437614097, 0.7288955573924224, 1.2368358043772563, 0.4061225105823168, 1.0718837900813611, 0.3873895454784078, 0.7440371475881136, -0.4856956165743804, 0.9248034606293628, 0.011388037749881463, -0.1098283448165246, 0.43922201432770863, 0.5602314788114537, 0.7171593380995269, -0.03324333491067161, 0.872484287235821, 0.34908221007920415, 0.15827979549153073, 1.2210031592595894, 0.16436725377766684, 0.7352195946537724, 0.47469691207416176, 1.2300572911691445, 0.6307451447299108, 0.7003150624524386, 0.8713545350344687, 1.2523137488477785, 1.3538695324130863, 0.6625806603032811, -0.04012419112332734, 0.13035846250739724, 0.023374382611804474, 0.24073179900704544, 1.05755171211093, 0.22323092910903303, 0.4277062597112871, 1.0452264452692492, 1.0410437907386738, 0.06935597215018309, 0.2825307340148491, 0.27814596118011103, 0.6224844107468752, 0.33540672635969704, -0.36097408780556123, 0.2876226760703022, 0.0910556108775119, 0.22695653998792087, 0.5744637814822671, -0.4461723002680214, 0.2558733892027368], \"xaxis\": \"x\", \"y\": [0.8600910331955345, 0.5926293621112371, 0.6142398935861516, -1.748546196711868, -0.20772514746028956, -0.5913027168171815, 0.7704382721314351, -1.8462439975141633, 0.03211847799847239, -1.0305657837710565, -2.645211114937204, -0.06308385165956588, -1.7588321291736657, -0.18560281910121706, -0.4375374188779089, 0.5073642393178291, -0.19565626783157047, -0.7894510080295319, -1.6168272811149789, -1.2982599385867999, 0.39524744620369984, -0.41592688740299444, -0.9302094405375136, -0.4149974408111904, -0.06320009352528855, 0.24995601696388453, -0.07699806899345138, 0.3302054627367212, -0.225173502489749, -1.0551835832743863, -1.5570555530892292, -1.5672252436853054, -0.7746611954313198, -0.6317269007808293, -0.2868126629098764, 0.8427589200317969, 0.5203087142108753, -1.3783710478047029, -0.21877043332069268, -1.3248861470822857, -1.1162888521211451, 0.024839813565089016, -0.9851038280976261, -2.0124958247898013, -0.8528731156165801, -0.18058714208064536, -0.38363486844784533, -0.15435648860359485, -1.5386374556189304, -0.5968522854111217], \"yaxis\": \"y\"}, {\"hoverlabel\": {\"namelength\": 0}, \"hovertemplate\": \"color=virginica<br>0=%{x}<br>1=%{y}\", \"legendgroup\": \"color=virginica\", \"marker\": {\"color\": \"#00cc96\", \"symbol\": \"circle\"}, \"mode\": \"markers\", \"name\": \"color=virginica\", \"showlegend\": true, \"type\": \"scatter\", \"x\": [1.8384100229241191, 1.1540155536207835, 2.1979036092803885, 1.4353421339966586, 1.8615757681276317, 2.7426850851882407, 0.36579224975562397, 2.2947518123299395, 1.999986327209772, 2.252232161507607, 1.3596206364243892, 1.5973274746691335, 1.8776105315494607, 1.2559076914609233, 1.462744869470425, 1.5847681965571643, 1.4665184876141784, 2.4182276992990492, 3.299641477668366, 1.2595470736340064, 2.0309125552582645, 0.974715347055718, 2.8879765004830364, 1.3287806370817017, 1.695055304351009, 1.9478013897868998, 1.171180069243965, 1.017541691260329, 1.7823787852455033, 1.8574250065631812, 2.4278203037875987, 2.2972317814091174, 1.8564838260721783, 1.1104277044557782, 1.1984583545709877, 2.7894256119820877, 1.5709929375380394, 1.341796958845359, 0.9217370117063257, 1.845861244681895, 2.008083164329584, 1.895434209128492, 1.1540155536207835, 2.033744992911014, 1.9914754676577093, 1.864257855510972, 1.5593564935447624, 1.5160914520607751, 1.3682041780884435, 0.9574484884279932], \"xaxis\": \"x\", \"y\": [0.8675150560900599, -0.6965364005163622, 0.5601339760200628, -0.04683070089618134, 0.29405969708425034, 0.7977367087552235, -1.5562891777844143, 0.4186630195347448, -0.7090632257017626, 1.9145963005352964, 0.6904434047792554, -0.42029243098447355, 0.4178498148086634, -1.1583797413859915, -0.4407948834636168, 0.6739868868798456, 0.2547683268484311, 2.5481247954087802, 0.017721580375850244, -1.7010467154508602, 0.9074274431695514, -0.5698552566292574, 0.4122599503656883, -0.4802024955651579, 1.0105364760108533, 1.0044127199945108, -0.3153380604380056, 0.06413118380090833, -0.18673563282904598, 0.5604132891727758, 0.25841870640972814, 2.6175544171464495, -0.17795333438145491, -0.2919445817961708, -0.8086063642092245, 0.8539425424471337, 1.06501321386332, 0.4210201541240693, 0.01716559411327036, 0.673870645014123, 0.61183592957556, 0.68727306546385, -0.6965364005163622, 0.8646240299273679, 1.0456656698012174, 0.38567403771923753, -0.8936928545986644, 0.2681707472981581, 1.0078779335796058, -0.02425042698042751], \"yaxis\": \"y\"}],\n",
              "                        {\"annotations\": [{\"ax\": 0, \"ay\": 0, \"text\": \"sepal width (cm)\", \"x\": -0.46014270644790856, \"xanchor\": \"center\", \"y\": 0.8827162691623838, \"yanchor\": \"bottom\"}, {\"ax\": 0, \"ay\": 0, \"text\": \"sepal length (cm)\", \"x\": 0.8901687648612938, \"xanchor\": \"center\", \"y\": 0.36082988811302447, \"yanchor\": \"bottom\"}, {\"ax\": 0, \"ay\": 0, \"text\": \"petal width (cm)\", \"x\": 0.9649789606692485, \"xanchor\": \"center\", \"y\": 0.06399984704374748, \"yanchor\": \"bottom\"}, {\"ax\": 0, \"ay\": 0, \"text\": \"petal length (cm)\", \"x\": 0.9915551834193608, \"xanchor\": \"center\", \"y\": 0.023415188379166552, \"yanchor\": \"bottom\"}], \"legend\": {\"tracegroupgap\": 0}, \"margin\": {\"t\": 60}, \"shapes\": [{\"type\": \"line\", \"x0\": 0, \"x1\": -0.46014270644790856, \"y0\": 0, \"y1\": 0.8827162691623838}, {\"type\": \"line\", \"x0\": 0, \"x1\": 0.8901687648612938, \"y0\": 0, \"y1\": 0.36082988811302447}, {\"type\": \"line\", \"x0\": 0, \"x1\": 0.9649789606692485, \"y0\": 0, \"y1\": 0.06399984704374748}, {\"type\": \"line\", \"x0\": 0, \"x1\": 0.9915551834193608, \"y0\": 0, \"y1\": 0.023415188379166552}], \"template\": {\"data\": {\"bar\": [{\"error_x\": {\"color\": \"#2a3f5f\"}, \"error_y\": {\"color\": \"#2a3f5f\"}, \"marker\": {\"line\": {\"color\": \"#E5ECF6\", \"width\": 0.5}}, \"type\": \"bar\"}], \"barpolar\": [{\"marker\": {\"line\": {\"color\": \"#E5ECF6\", \"width\": 0.5}}, \"type\": \"barpolar\"}], \"carpet\": [{\"aaxis\": {\"endlinecolor\": \"#2a3f5f\", \"gridcolor\": \"white\", \"linecolor\": \"white\", \"minorgridcolor\": \"white\", \"startlinecolor\": \"#2a3f5f\"}, \"baxis\": {\"endlinecolor\": \"#2a3f5f\", \"gridcolor\": \"white\", \"linecolor\": \"white\", \"minorgridcolor\": \"white\", \"startlinecolor\": \"#2a3f5f\"}, \"type\": \"carpet\"}], \"choropleth\": [{\"colorbar\": {\"outlinewidth\": 0, \"ticks\": \"\"}, \"type\": \"choropleth\"}], \"contour\": [{\"colorbar\": {\"outlinewidth\": 0, \"ticks\": \"\"}, \"colorscale\": [[0.0, \"#0d0887\"], [0.1111111111111111, \"#46039f\"], [0.2222222222222222, \"#7201a8\"], [0.3333333333333333, \"#9c179e\"], [0.4444444444444444, \"#bd3786\"], [0.5555555555555556, \"#d8576b\"], [0.6666666666666666, \"#ed7953\"], [0.7777777777777778, \"#fb9f3a\"], [0.8888888888888888, \"#fdca26\"], [1.0, \"#f0f921\"]], \"type\": \"contour\"}], \"contourcarpet\": [{\"colorbar\": {\"outlinewidth\": 0, \"ticks\": \"\"}, \"type\": \"contourcarpet\"}], \"heatmap\": [{\"colorbar\": {\"outlinewidth\": 0, \"ticks\": \"\"}, \"colorscale\": [[0.0, \"#0d0887\"], [0.1111111111111111, \"#46039f\"], [0.2222222222222222, \"#7201a8\"], [0.3333333333333333, \"#9c179e\"], [0.4444444444444444, \"#bd3786\"], [0.5555555555555556, \"#d8576b\"], [0.6666666666666666, \"#ed7953\"], [0.7777777777777778, \"#fb9f3a\"], [0.8888888888888888, \"#fdca26\"], [1.0, \"#f0f921\"]], \"type\": \"heatmap\"}], \"heatmapgl\": [{\"colorbar\": {\"outlinewidth\": 0, \"ticks\": \"\"}, \"colorscale\": [[0.0, \"#0d0887\"], [0.1111111111111111, \"#46039f\"], [0.2222222222222222, \"#7201a8\"], [0.3333333333333333, \"#9c179e\"], [0.4444444444444444, \"#bd3786\"], [0.5555555555555556, \"#d8576b\"], [0.6666666666666666, \"#ed7953\"], [0.7777777777777778, \"#fb9f3a\"], [0.8888888888888888, \"#fdca26\"], [1.0, \"#f0f921\"]], \"type\": \"heatmapgl\"}], \"histogram\": [{\"marker\": {\"colorbar\": {\"outlinewidth\": 0, \"ticks\": \"\"}}, \"type\": \"histogram\"}], \"histogram2d\": [{\"colorbar\": {\"outlinewidth\": 0, \"ticks\": \"\"}, \"colorscale\": [[0.0, \"#0d0887\"], [0.1111111111111111, \"#46039f\"], [0.2222222222222222, \"#7201a8\"], [0.3333333333333333, \"#9c179e\"], [0.4444444444444444, \"#bd3786\"], [0.5555555555555556, \"#d8576b\"], [0.6666666666666666, \"#ed7953\"], [0.7777777777777778, \"#fb9f3a\"], [0.8888888888888888, \"#fdca26\"], [1.0, \"#f0f921\"]], \"type\": \"histogram2d\"}], \"histogram2dcontour\": [{\"colorbar\": {\"outlinewidth\": 0, \"ticks\": \"\"}, \"colorscale\": [[0.0, \"#0d0887\"], [0.1111111111111111, \"#46039f\"], [0.2222222222222222, \"#7201a8\"], [0.3333333333333333, \"#9c179e\"], [0.4444444444444444, \"#bd3786\"], [0.5555555555555556, \"#d8576b\"], [0.6666666666666666, \"#ed7953\"], [0.7777777777777778, \"#fb9f3a\"], [0.8888888888888888, \"#fdca26\"], [1.0, \"#f0f921\"]], \"type\": \"histogram2dcontour\"}], \"mesh3d\": [{\"colorbar\": {\"outlinewidth\": 0, \"ticks\": \"\"}, \"type\": \"mesh3d\"}], \"parcoords\": [{\"line\": {\"colorbar\": {\"outlinewidth\": 0, \"ticks\": \"\"}}, \"type\": \"parcoords\"}], \"pie\": [{\"automargin\": true, \"type\": \"pie\"}], \"scatter\": [{\"marker\": {\"colorbar\": {\"outlinewidth\": 0, \"ticks\": \"\"}}, \"type\": \"scatter\"}], \"scatter3d\": [{\"line\": {\"colorbar\": {\"outlinewidth\": 0, \"ticks\": \"\"}}, \"marker\": {\"colorbar\": {\"outlinewidth\": 0, \"ticks\": \"\"}}, \"type\": \"scatter3d\"}], \"scattercarpet\": [{\"marker\": {\"colorbar\": {\"outlinewidth\": 0, \"ticks\": \"\"}}, \"type\": \"scattercarpet\"}], \"scattergeo\": [{\"marker\": {\"colorbar\": {\"outlinewidth\": 0, \"ticks\": \"\"}}, \"type\": \"scattergeo\"}], \"scattergl\": [{\"marker\": {\"colorbar\": {\"outlinewidth\": 0, \"ticks\": \"\"}}, \"type\": \"scattergl\"}], \"scattermapbox\": [{\"marker\": {\"colorbar\": {\"outlinewidth\": 0, \"ticks\": \"\"}}, \"type\": \"scattermapbox\"}], \"scatterpolar\": [{\"marker\": {\"colorbar\": {\"outlinewidth\": 0, \"ticks\": \"\"}}, \"type\": \"scatterpolar\"}], \"scatterpolargl\": [{\"marker\": {\"colorbar\": {\"outlinewidth\": 0, \"ticks\": \"\"}}, \"type\": \"scatterpolargl\"}], \"scatterternary\": [{\"marker\": {\"colorbar\": {\"outlinewidth\": 0, \"ticks\": \"\"}}, \"type\": \"scatterternary\"}], \"surface\": [{\"colorbar\": {\"outlinewidth\": 0, \"ticks\": \"\"}, \"colorscale\": [[0.0, \"#0d0887\"], [0.1111111111111111, \"#46039f\"], [0.2222222222222222, \"#7201a8\"], [0.3333333333333333, \"#9c179e\"], [0.4444444444444444, \"#bd3786\"], [0.5555555555555556, \"#d8576b\"], [0.6666666666666666, \"#ed7953\"], [0.7777777777777778, \"#fb9f3a\"], [0.8888888888888888, \"#fdca26\"], [1.0, \"#f0f921\"]], \"type\": \"surface\"}], \"table\": [{\"cells\": {\"fill\": {\"color\": \"#EBF0F8\"}, \"line\": {\"color\": \"white\"}}, \"header\": {\"fill\": {\"color\": \"#C8D4E3\"}, \"line\": {\"color\": \"white\"}}, \"type\": \"table\"}]}, \"layout\": {\"annotationdefaults\": {\"arrowcolor\": \"#2a3f5f\", \"arrowhead\": 0, \"arrowwidth\": 1}, \"coloraxis\": {\"colorbar\": {\"outlinewidth\": 0, \"ticks\": \"\"}}, \"colorscale\": {\"diverging\": [[0, \"#8e0152\"], [0.1, \"#c51b7d\"], [0.2, \"#de77ae\"], [0.3, \"#f1b6da\"], [0.4, \"#fde0ef\"], [0.5, \"#f7f7f7\"], [0.6, \"#e6f5d0\"], [0.7, \"#b8e186\"], [0.8, \"#7fbc41\"], [0.9, \"#4d9221\"], [1, \"#276419\"]], \"sequential\": [[0.0, \"#0d0887\"], [0.1111111111111111, \"#46039f\"], [0.2222222222222222, \"#7201a8\"], [0.3333333333333333, \"#9c179e\"], [0.4444444444444444, \"#bd3786\"], [0.5555555555555556, \"#d8576b\"], [0.6666666666666666, \"#ed7953\"], [0.7777777777777778, \"#fb9f3a\"], [0.8888888888888888, \"#fdca26\"], [1.0, \"#f0f921\"]], \"sequentialminus\": [[0.0, \"#0d0887\"], [0.1111111111111111, \"#46039f\"], [0.2222222222222222, \"#7201a8\"], [0.3333333333333333, \"#9c179e\"], [0.4444444444444444, \"#bd3786\"], [0.5555555555555556, \"#d8576b\"], [0.6666666666666666, \"#ed7953\"], [0.7777777777777778, \"#fb9f3a\"], [0.8888888888888888, \"#fdca26\"], [1.0, \"#f0f921\"]]}, \"colorway\": [\"#636efa\", \"#EF553B\", \"#00cc96\", \"#ab63fa\", \"#FFA15A\", \"#19d3f3\", \"#FF6692\", \"#B6E880\", \"#FF97FF\", \"#FECB52\"], \"font\": {\"color\": \"#2a3f5f\"}, \"geo\": {\"bgcolor\": \"white\", \"lakecolor\": \"white\", \"landcolor\": \"#E5ECF6\", \"showlakes\": true, \"showland\": true, \"subunitcolor\": \"white\"}, \"hoverlabel\": {\"align\": \"left\"}, \"hovermode\": \"closest\", \"mapbox\": {\"style\": \"light\"}, \"paper_bgcolor\": \"white\", \"plot_bgcolor\": \"#E5ECF6\", \"polar\": {\"angularaxis\": {\"gridcolor\": \"white\", \"linecolor\": \"white\", \"ticks\": \"\"}, \"bgcolor\": \"#E5ECF6\", \"radialaxis\": {\"gridcolor\": \"white\", \"linecolor\": \"white\", \"ticks\": \"\"}}, \"scene\": {\"xaxis\": {\"backgroundcolor\": \"#E5ECF6\", \"gridcolor\": \"white\", \"gridwidth\": 2, \"linecolor\": \"white\", \"showbackground\": true, \"ticks\": \"\", \"zerolinecolor\": \"white\"}, \"yaxis\": {\"backgroundcolor\": \"#E5ECF6\", \"gridcolor\": \"white\", \"gridwidth\": 2, \"linecolor\": \"white\", \"showbackground\": true, \"ticks\": \"\", \"zerolinecolor\": \"white\"}, \"zaxis\": {\"backgroundcolor\": \"#E5ECF6\", \"gridcolor\": \"white\", \"gridwidth\": 2, \"linecolor\": \"white\", \"showbackground\": true, \"ticks\": \"\", \"zerolinecolor\": \"white\"}}, \"shapedefaults\": {\"line\": {\"color\": \"#2a3f5f\"}}, \"ternary\": {\"aaxis\": {\"gridcolor\": \"white\", \"linecolor\": \"white\", \"ticks\": \"\"}, \"baxis\": {\"gridcolor\": \"white\", \"linecolor\": \"white\", \"ticks\": \"\"}, \"bgcolor\": \"#E5ECF6\", \"caxis\": {\"gridcolor\": \"white\", \"linecolor\": \"white\", \"ticks\": \"\"}}, \"title\": {\"x\": 0.05}, \"xaxis\": {\"automargin\": true, \"gridcolor\": \"white\", \"linecolor\": \"white\", \"ticks\": \"\", \"title\": {\"standoff\": 15}, \"zerolinecolor\": \"white\", \"zerolinewidth\": 2}, \"yaxis\": {\"automargin\": true, \"gridcolor\": \"white\", \"linecolor\": \"white\", \"ticks\": \"\", \"title\": {\"standoff\": 15}, \"zerolinecolor\": \"white\", \"zerolinewidth\": 2}}}, \"xaxis\": {\"anchor\": \"y\", \"domain\": [0.0, 1.0], \"title\": {\"text\": \"0\"}}, \"yaxis\": {\"anchor\": \"x\", \"domain\": [0.0, 1.0], \"title\": {\"text\": \"1\"}}},\n",
              "                        {\"responsive\": true}\n",
              "                    ).then(function(){\n",
              "                            \n",
              "var gd = document.getElementById('ff33e78d-6108-4157-bc1b-d446f1aa3427');\n",
              "var x = new MutationObserver(function (mutations, observer) {{\n",
              "        var display = window.getComputedStyle(gd).display;\n",
              "        if (!display || display === 'none') {{\n",
              "            console.log([gd, 'removed!']);\n",
              "            Plotly.purge(gd);\n",
              "            observer.disconnect();\n",
              "        }}\n",
              "}});\n",
              "\n",
              "// Listen for the removal of the full notebook cells\n",
              "var notebookContainer = gd.closest('#notebook-container');\n",
              "if (notebookContainer) {{\n",
              "    x.observe(notebookContainer, {childList: true});\n",
              "}}\n",
              "\n",
              "// Listen for the clearing of the current output cell\n",
              "var outputEl = gd.closest('.output');\n",
              "if (outputEl) {{\n",
              "    x.observe(outputEl, {childList: true});\n",
              "}}\n",
              "\n",
              "                        })\n",
              "                };\n",
              "                \n",
              "            </script>\n",
              "        </div>\n",
              "</body>\n",
              "</html>"
            ]
          },
          "metadata": {
            "tags": []
          }
        }
      ]
    },
    {
      "cell_type": "markdown",
      "metadata": {
        "id": "GqllTFAo6H8U"
      },
      "source": [
        "## PCA - boston"
      ]
    },
    {
      "cell_type": "code",
      "metadata": {
        "id": "49-uRwt-4LVx"
      },
      "source": [
        "from sklearn.datasets import load_boston\n",
        "boston = load_boston()\n",
        "\n",
        "df = pd.DataFrame(data= boston['data'], columns= boston['feature_names'])"
      ],
      "execution_count": null,
      "outputs": []
    },
    {
      "cell_type": "code",
      "metadata": {
        "colab": {
          "base_uri": "https://localhost:8080/",
          "height": 197
        },
        "id": "vWbIHxM0T0zk",
        "outputId": "c7640d3a-537f-4bd9-ab88-f557d4496e70"
      },
      "source": [
        "df.head()"
      ],
      "execution_count": null,
      "outputs": [
        {
          "output_type": "execute_result",
          "data": {
            "text/html": [
              "<div>\n",
              "<style scoped>\n",
              "    .dataframe tbody tr th:only-of-type {\n",
              "        vertical-align: middle;\n",
              "    }\n",
              "\n",
              "    .dataframe tbody tr th {\n",
              "        vertical-align: top;\n",
              "    }\n",
              "\n",
              "    .dataframe thead th {\n",
              "        text-align: right;\n",
              "    }\n",
              "</style>\n",
              "<table border=\"1\" class=\"dataframe\">\n",
              "  <thead>\n",
              "    <tr style=\"text-align: right;\">\n",
              "      <th></th>\n",
              "      <th>CRIM</th>\n",
              "      <th>ZN</th>\n",
              "      <th>INDUS</th>\n",
              "      <th>CHAS</th>\n",
              "      <th>NOX</th>\n",
              "      <th>RM</th>\n",
              "      <th>AGE</th>\n",
              "      <th>DIS</th>\n",
              "      <th>RAD</th>\n",
              "      <th>TAX</th>\n",
              "      <th>PTRATIO</th>\n",
              "      <th>B</th>\n",
              "      <th>LSTAT</th>\n",
              "    </tr>\n",
              "  </thead>\n",
              "  <tbody>\n",
              "    <tr>\n",
              "      <th>0</th>\n",
              "      <td>0.00632</td>\n",
              "      <td>18.0</td>\n",
              "      <td>2.31</td>\n",
              "      <td>0.0</td>\n",
              "      <td>0.538</td>\n",
              "      <td>6.575</td>\n",
              "      <td>65.2</td>\n",
              "      <td>4.0900</td>\n",
              "      <td>1.0</td>\n",
              "      <td>296.0</td>\n",
              "      <td>15.3</td>\n",
              "      <td>396.90</td>\n",
              "      <td>4.98</td>\n",
              "    </tr>\n",
              "    <tr>\n",
              "      <th>1</th>\n",
              "      <td>0.02731</td>\n",
              "      <td>0.0</td>\n",
              "      <td>7.07</td>\n",
              "      <td>0.0</td>\n",
              "      <td>0.469</td>\n",
              "      <td>6.421</td>\n",
              "      <td>78.9</td>\n",
              "      <td>4.9671</td>\n",
              "      <td>2.0</td>\n",
              "      <td>242.0</td>\n",
              "      <td>17.8</td>\n",
              "      <td>396.90</td>\n",
              "      <td>9.14</td>\n",
              "    </tr>\n",
              "    <tr>\n",
              "      <th>2</th>\n",
              "      <td>0.02729</td>\n",
              "      <td>0.0</td>\n",
              "      <td>7.07</td>\n",
              "      <td>0.0</td>\n",
              "      <td>0.469</td>\n",
              "      <td>7.185</td>\n",
              "      <td>61.1</td>\n",
              "      <td>4.9671</td>\n",
              "      <td>2.0</td>\n",
              "      <td>242.0</td>\n",
              "      <td>17.8</td>\n",
              "      <td>392.83</td>\n",
              "      <td>4.03</td>\n",
              "    </tr>\n",
              "    <tr>\n",
              "      <th>3</th>\n",
              "      <td>0.03237</td>\n",
              "      <td>0.0</td>\n",
              "      <td>2.18</td>\n",
              "      <td>0.0</td>\n",
              "      <td>0.458</td>\n",
              "      <td>6.998</td>\n",
              "      <td>45.8</td>\n",
              "      <td>6.0622</td>\n",
              "      <td>3.0</td>\n",
              "      <td>222.0</td>\n",
              "      <td>18.7</td>\n",
              "      <td>394.63</td>\n",
              "      <td>2.94</td>\n",
              "    </tr>\n",
              "    <tr>\n",
              "      <th>4</th>\n",
              "      <td>0.06905</td>\n",
              "      <td>0.0</td>\n",
              "      <td>2.18</td>\n",
              "      <td>0.0</td>\n",
              "      <td>0.458</td>\n",
              "      <td>7.147</td>\n",
              "      <td>54.2</td>\n",
              "      <td>6.0622</td>\n",
              "      <td>3.0</td>\n",
              "      <td>222.0</td>\n",
              "      <td>18.7</td>\n",
              "      <td>396.90</td>\n",
              "      <td>5.33</td>\n",
              "    </tr>\n",
              "  </tbody>\n",
              "</table>\n",
              "</div>"
            ],
            "text/plain": [
              "      CRIM    ZN  INDUS  CHAS    NOX  ...  RAD    TAX  PTRATIO       B  LSTAT\n",
              "0  0.00632  18.0   2.31   0.0  0.538  ...  1.0  296.0     15.3  396.90   4.98\n",
              "1  0.02731   0.0   7.07   0.0  0.469  ...  2.0  242.0     17.8  396.90   9.14\n",
              "2  0.02729   0.0   7.07   0.0  0.469  ...  2.0  242.0     17.8  392.83   4.03\n",
              "3  0.03237   0.0   2.18   0.0  0.458  ...  3.0  222.0     18.7  394.63   2.94\n",
              "4  0.06905   0.0   2.18   0.0  0.458  ...  3.0  222.0     18.7  396.90   5.33\n",
              "\n",
              "[5 rows x 13 columns]"
            ]
          },
          "metadata": {
            "tags": []
          },
          "execution_count": 27
        }
      ]
    },
    {
      "cell_type": "markdown",
      "metadata": {
        "id": "jwn4rJxdMNeh"
      },
      "source": [
        "Proszę policzyć macierz korelacji"
      ]
    },
    {
      "cell_type": "code",
      "metadata": {
        "colab": {
          "base_uri": "https://localhost:8080/",
          "height": 542
        },
        "id": "aI4EYK8Bpj4p",
        "outputId": "bacc0ad8-c878-46d5-c846-72fc764962a5"
      },
      "source": [
        "import plotly.graph_objs as go\n",
        "\n",
        "corr = df.corr()\n",
        "\n",
        "trace = go.Heatmap(z=corr.values,\n",
        "           x=corr.index.values,\n",
        "           y=corr.columns.values)\n",
        "\n",
        "go.Figure(trace)"
      ],
      "execution_count": null,
      "outputs": [
        {
          "output_type": "display_data",
          "data": {
            "text/html": [
              "<html>\n",
              "<head><meta charset=\"utf-8\" /></head>\n",
              "<body>\n",
              "    <div>\n",
              "            <script src=\"https://cdnjs.cloudflare.com/ajax/libs/mathjax/2.7.5/MathJax.js?config=TeX-AMS-MML_SVG\"></script><script type=\"text/javascript\">if (window.MathJax) {MathJax.Hub.Config({SVG: {font: \"STIX-Web\"}});}</script>\n",
              "                <script type=\"text/javascript\">window.PlotlyConfig = {MathJaxConfig: 'local'};</script>\n",
              "        <script src=\"https://cdn.plot.ly/plotly-latest.min.js\"></script>    \n",
              "            <div id=\"04753667-8b62-4b80-a1ac-110b328fb641\" class=\"plotly-graph-div\" style=\"height:525px; width:100%;\"></div>\n",
              "            <script type=\"text/javascript\">\n",
              "                \n",
              "                    window.PLOTLYENV=window.PLOTLYENV || {};\n",
              "                    \n",
              "                if (document.getElementById(\"04753667-8b62-4b80-a1ac-110b328fb641\")) {\n",
              "                    Plotly.newPlot(\n",
              "                        '04753667-8b62-4b80-a1ac-110b328fb641',\n",
              "                        [{\"type\": \"heatmap\", \"x\": [\"CRIM\", \"ZN\", \"INDUS\", \"CHAS\", \"NOX\", \"RM\", \"AGE\", \"DIS\", \"RAD\", \"TAX\", \"PTRATIO\", \"B\", \"LSTAT\"], \"y\": [\"CRIM\", \"ZN\", \"INDUS\", \"CHAS\", \"NOX\", \"RM\", \"AGE\", \"DIS\", \"RAD\", \"TAX\", \"PTRATIO\", \"B\", \"LSTAT\"], \"z\": [[1.0, -0.20046921966254821, 0.4065834114062593, -0.055891582222241235, 0.4209717113924559, -0.21924670286251377, 0.35273425090136346, -0.3796700869510245, 0.6255051452626011, 0.5827643120325845, 0.2899455792795197, -0.38506394199422433, 0.4556214794479462], [-0.20046921966254821, 1.0, -0.5338281863044747, -0.04269671929612121, -0.5166037078279853, 0.31199058737409197, -0.5695373420992127, 0.6644082227621132, -0.31194782601853754, -0.31456332467759884, -0.3916785479362142, 0.17552031738282844, -0.4129945745270045], [0.4065834114062593, -0.5338281863044747, 1.0, 0.0629380274896654, 0.7636514469209145, -0.39167585265684357, 0.644778511355255, -0.7080269887427683, 0.5951292746038486, 0.7207601799515441, 0.38324755642888675, -0.3569765351041929, 0.6037997164766213], [-0.055891582222241235, -0.04269671929612121, 0.0629380274896654, 1.0, 0.09120280684249406, 0.09125122504345595, 0.08651777425454257, -0.09917578017472706, -0.007368240886077726, -0.03558651758591118, -0.121515173658062, 0.04878848495516622, -0.05392929837569404], [0.4209717113924559, -0.5166037078279853, 0.7636514469209145, 0.09120280684249406, 1.0, -0.3021881878495933, 0.7314701037859579, -0.7692301132258261, 0.6114405634855754, 0.6680232004030201, 0.18893267711276665, -0.3800506377924003, 0.5908789208808449], [-0.21924670286251377, 0.31199058737409197, -0.39167585265684357, 0.09125122504345595, -0.3021881878495933, 1.0, -0.24026493104775123, 0.20524621293005516, -0.20984666776610877, -0.29204783262321915, -0.3555014945590849, 0.1280686350925431, -0.6138082718663957], [0.35273425090136346, -0.5695373420992127, 0.644778511355255, 0.08651777425454257, 0.7314701037859579, -0.24026493104775123, 1.0, -0.7478805408686316, 0.4560224517516134, 0.506455593550705, 0.2615150116719572, -0.27353397663851314, 0.6023385287262399], [-0.3796700869510245, 0.6644082227621132, -0.7080269887427683, -0.09917578017472706, -0.7692301132258261, 0.20524621293005516, -0.7478805408686316, 1.0, -0.49458792967207543, -0.5344315844084561, -0.23247054240825624, 0.2915116731330401, -0.4969958308636852], [0.6255051452626011, -0.31194782601853754, 0.5951292746038486, -0.007368240886077726, 0.6114405634855754, -0.20984666776610877, 0.4560224517516134, -0.49458792967207543, 1.0, 0.9102281885331822, 0.46474117850305435, -0.44441281557512574, 0.4886763349750664], [0.5827643120325845, -0.31456332467759884, 0.7207601799515441, -0.03558651758591118, 0.6680232004030201, -0.29204783262321915, 0.506455593550705, -0.5344315844084561, 0.9102281885331822, 1.0, 0.4608530350656657, -0.44180800672281384, 0.543993412001569], [0.2899455792795197, -0.3916785479362142, 0.38324755642888675, -0.121515173658062, 0.18893267711276665, -0.3555014945590849, 0.2615150116719572, -0.23247054240825624, 0.46474117850305435, 0.4608530350656657, 1.0, -0.17738330230523142, 0.3740443167146754], [-0.38506394199422433, 0.17552031738282844, -0.3569765351041929, 0.04878848495516622, -0.3800506377924003, 0.1280686350925431, -0.27353397663851314, 0.2915116731330401, -0.44441281557512574, -0.44180800672281384, -0.17738330230523142, 1.0, -0.3660869016915971], [0.4556214794479462, -0.4129945745270045, 0.6037997164766213, -0.05392929837569404, 0.5908789208808449, -0.6138082718663957, 0.6023385287262399, -0.4969958308636852, 0.4886763349750664, 0.543993412001569, 0.3740443167146754, -0.3660869016915971, 1.0]]}],\n",
              "                        {\"template\": {\"data\": {\"bar\": [{\"error_x\": {\"color\": \"#2a3f5f\"}, \"error_y\": {\"color\": \"#2a3f5f\"}, \"marker\": {\"line\": {\"color\": \"#E5ECF6\", \"width\": 0.5}}, \"type\": \"bar\"}], \"barpolar\": [{\"marker\": {\"line\": {\"color\": \"#E5ECF6\", \"width\": 0.5}}, \"type\": \"barpolar\"}], \"carpet\": [{\"aaxis\": {\"endlinecolor\": \"#2a3f5f\", \"gridcolor\": \"white\", \"linecolor\": \"white\", \"minorgridcolor\": \"white\", \"startlinecolor\": \"#2a3f5f\"}, \"baxis\": {\"endlinecolor\": \"#2a3f5f\", \"gridcolor\": \"white\", \"linecolor\": \"white\", \"minorgridcolor\": \"white\", \"startlinecolor\": \"#2a3f5f\"}, \"type\": \"carpet\"}], \"choropleth\": [{\"colorbar\": {\"outlinewidth\": 0, \"ticks\": \"\"}, \"type\": \"choropleth\"}], \"contour\": [{\"colorbar\": {\"outlinewidth\": 0, \"ticks\": \"\"}, \"colorscale\": [[0.0, \"#0d0887\"], [0.1111111111111111, \"#46039f\"], [0.2222222222222222, \"#7201a8\"], [0.3333333333333333, \"#9c179e\"], [0.4444444444444444, \"#bd3786\"], [0.5555555555555556, \"#d8576b\"], [0.6666666666666666, \"#ed7953\"], [0.7777777777777778, \"#fb9f3a\"], [0.8888888888888888, \"#fdca26\"], [1.0, \"#f0f921\"]], \"type\": \"contour\"}], \"contourcarpet\": [{\"colorbar\": {\"outlinewidth\": 0, \"ticks\": \"\"}, \"type\": \"contourcarpet\"}], \"heatmap\": [{\"colorbar\": {\"outlinewidth\": 0, \"ticks\": \"\"}, \"colorscale\": [[0.0, \"#0d0887\"], [0.1111111111111111, \"#46039f\"], [0.2222222222222222, \"#7201a8\"], [0.3333333333333333, \"#9c179e\"], [0.4444444444444444, \"#bd3786\"], [0.5555555555555556, \"#d8576b\"], [0.6666666666666666, \"#ed7953\"], [0.7777777777777778, \"#fb9f3a\"], [0.8888888888888888, \"#fdca26\"], [1.0, \"#f0f921\"]], \"type\": \"heatmap\"}], \"heatmapgl\": [{\"colorbar\": {\"outlinewidth\": 0, \"ticks\": \"\"}, \"colorscale\": [[0.0, \"#0d0887\"], [0.1111111111111111, \"#46039f\"], [0.2222222222222222, \"#7201a8\"], [0.3333333333333333, \"#9c179e\"], [0.4444444444444444, \"#bd3786\"], [0.5555555555555556, \"#d8576b\"], [0.6666666666666666, \"#ed7953\"], [0.7777777777777778, \"#fb9f3a\"], [0.8888888888888888, \"#fdca26\"], [1.0, \"#f0f921\"]], \"type\": \"heatmapgl\"}], \"histogram\": [{\"marker\": {\"colorbar\": {\"outlinewidth\": 0, \"ticks\": \"\"}}, \"type\": \"histogram\"}], \"histogram2d\": [{\"colorbar\": {\"outlinewidth\": 0, \"ticks\": \"\"}, \"colorscale\": [[0.0, \"#0d0887\"], [0.1111111111111111, \"#46039f\"], [0.2222222222222222, \"#7201a8\"], [0.3333333333333333, \"#9c179e\"], [0.4444444444444444, \"#bd3786\"], [0.5555555555555556, \"#d8576b\"], [0.6666666666666666, \"#ed7953\"], [0.7777777777777778, \"#fb9f3a\"], [0.8888888888888888, \"#fdca26\"], [1.0, \"#f0f921\"]], \"type\": \"histogram2d\"}], \"histogram2dcontour\": [{\"colorbar\": {\"outlinewidth\": 0, \"ticks\": \"\"}, \"colorscale\": [[0.0, \"#0d0887\"], [0.1111111111111111, \"#46039f\"], [0.2222222222222222, \"#7201a8\"], [0.3333333333333333, \"#9c179e\"], [0.4444444444444444, \"#bd3786\"], [0.5555555555555556, \"#d8576b\"], [0.6666666666666666, \"#ed7953\"], [0.7777777777777778, \"#fb9f3a\"], [0.8888888888888888, \"#fdca26\"], [1.0, \"#f0f921\"]], \"type\": \"histogram2dcontour\"}], \"mesh3d\": [{\"colorbar\": {\"outlinewidth\": 0, \"ticks\": \"\"}, \"type\": \"mesh3d\"}], \"parcoords\": [{\"line\": {\"colorbar\": {\"outlinewidth\": 0, \"ticks\": \"\"}}, \"type\": \"parcoords\"}], \"pie\": [{\"automargin\": true, \"type\": \"pie\"}], \"scatter\": [{\"marker\": {\"colorbar\": {\"outlinewidth\": 0, \"ticks\": \"\"}}, \"type\": \"scatter\"}], \"scatter3d\": [{\"line\": {\"colorbar\": {\"outlinewidth\": 0, \"ticks\": \"\"}}, \"marker\": {\"colorbar\": {\"outlinewidth\": 0, \"ticks\": \"\"}}, \"type\": \"scatter3d\"}], \"scattercarpet\": [{\"marker\": {\"colorbar\": {\"outlinewidth\": 0, \"ticks\": \"\"}}, \"type\": \"scattercarpet\"}], \"scattergeo\": [{\"marker\": {\"colorbar\": {\"outlinewidth\": 0, \"ticks\": \"\"}}, \"type\": \"scattergeo\"}], \"scattergl\": [{\"marker\": {\"colorbar\": {\"outlinewidth\": 0, \"ticks\": \"\"}}, \"type\": \"scattergl\"}], \"scattermapbox\": [{\"marker\": {\"colorbar\": {\"outlinewidth\": 0, \"ticks\": \"\"}}, \"type\": \"scattermapbox\"}], \"scatterpolar\": [{\"marker\": {\"colorbar\": {\"outlinewidth\": 0, \"ticks\": \"\"}}, \"type\": \"scatterpolar\"}], \"scatterpolargl\": [{\"marker\": {\"colorbar\": {\"outlinewidth\": 0, \"ticks\": \"\"}}, \"type\": \"scatterpolargl\"}], \"scatterternary\": [{\"marker\": {\"colorbar\": {\"outlinewidth\": 0, \"ticks\": \"\"}}, \"type\": \"scatterternary\"}], \"surface\": [{\"colorbar\": {\"outlinewidth\": 0, \"ticks\": \"\"}, \"colorscale\": [[0.0, \"#0d0887\"], [0.1111111111111111, \"#46039f\"], [0.2222222222222222, \"#7201a8\"], [0.3333333333333333, \"#9c179e\"], [0.4444444444444444, \"#bd3786\"], [0.5555555555555556, \"#d8576b\"], [0.6666666666666666, \"#ed7953\"], [0.7777777777777778, \"#fb9f3a\"], [0.8888888888888888, \"#fdca26\"], [1.0, \"#f0f921\"]], \"type\": \"surface\"}], \"table\": [{\"cells\": {\"fill\": {\"color\": \"#EBF0F8\"}, \"line\": {\"color\": \"white\"}}, \"header\": {\"fill\": {\"color\": \"#C8D4E3\"}, \"line\": {\"color\": \"white\"}}, \"type\": \"table\"}]}, \"layout\": {\"annotationdefaults\": {\"arrowcolor\": \"#2a3f5f\", \"arrowhead\": 0, \"arrowwidth\": 1}, \"coloraxis\": {\"colorbar\": {\"outlinewidth\": 0, \"ticks\": \"\"}}, \"colorscale\": {\"diverging\": [[0, \"#8e0152\"], [0.1, \"#c51b7d\"], [0.2, \"#de77ae\"], [0.3, \"#f1b6da\"], [0.4, \"#fde0ef\"], [0.5, \"#f7f7f7\"], [0.6, \"#e6f5d0\"], [0.7, \"#b8e186\"], [0.8, \"#7fbc41\"], [0.9, \"#4d9221\"], [1, \"#276419\"]], \"sequential\": [[0.0, \"#0d0887\"], [0.1111111111111111, \"#46039f\"], [0.2222222222222222, \"#7201a8\"], [0.3333333333333333, \"#9c179e\"], [0.4444444444444444, \"#bd3786\"], [0.5555555555555556, \"#d8576b\"], [0.6666666666666666, \"#ed7953\"], [0.7777777777777778, \"#fb9f3a\"], [0.8888888888888888, \"#fdca26\"], [1.0, \"#f0f921\"]], \"sequentialminus\": [[0.0, \"#0d0887\"], [0.1111111111111111, \"#46039f\"], [0.2222222222222222, \"#7201a8\"], [0.3333333333333333, \"#9c179e\"], [0.4444444444444444, \"#bd3786\"], [0.5555555555555556, \"#d8576b\"], [0.6666666666666666, \"#ed7953\"], [0.7777777777777778, \"#fb9f3a\"], [0.8888888888888888, \"#fdca26\"], [1.0, \"#f0f921\"]]}, \"colorway\": [\"#636efa\", \"#EF553B\", \"#00cc96\", \"#ab63fa\", \"#FFA15A\", \"#19d3f3\", \"#FF6692\", \"#B6E880\", \"#FF97FF\", \"#FECB52\"], \"font\": {\"color\": \"#2a3f5f\"}, \"geo\": {\"bgcolor\": \"white\", \"lakecolor\": \"white\", \"landcolor\": \"#E5ECF6\", \"showlakes\": true, \"showland\": true, \"subunitcolor\": \"white\"}, \"hoverlabel\": {\"align\": \"left\"}, \"hovermode\": \"closest\", \"mapbox\": {\"style\": \"light\"}, \"paper_bgcolor\": \"white\", \"plot_bgcolor\": \"#E5ECF6\", \"polar\": {\"angularaxis\": {\"gridcolor\": \"white\", \"linecolor\": \"white\", \"ticks\": \"\"}, \"bgcolor\": \"#E5ECF6\", \"radialaxis\": {\"gridcolor\": \"white\", \"linecolor\": \"white\", \"ticks\": \"\"}}, \"scene\": {\"xaxis\": {\"backgroundcolor\": \"#E5ECF6\", \"gridcolor\": \"white\", \"gridwidth\": 2, \"linecolor\": \"white\", \"showbackground\": true, \"ticks\": \"\", \"zerolinecolor\": \"white\"}, \"yaxis\": {\"backgroundcolor\": \"#E5ECF6\", \"gridcolor\": \"white\", \"gridwidth\": 2, \"linecolor\": \"white\", \"showbackground\": true, \"ticks\": \"\", \"zerolinecolor\": \"white\"}, \"zaxis\": {\"backgroundcolor\": \"#E5ECF6\", \"gridcolor\": \"white\", \"gridwidth\": 2, \"linecolor\": \"white\", \"showbackground\": true, \"ticks\": \"\", \"zerolinecolor\": \"white\"}}, \"shapedefaults\": {\"line\": {\"color\": \"#2a3f5f\"}}, \"ternary\": {\"aaxis\": {\"gridcolor\": \"white\", \"linecolor\": \"white\", \"ticks\": \"\"}, \"baxis\": {\"gridcolor\": \"white\", \"linecolor\": \"white\", \"ticks\": \"\"}, \"bgcolor\": \"#E5ECF6\", \"caxis\": {\"gridcolor\": \"white\", \"linecolor\": \"white\", \"ticks\": \"\"}}, \"title\": {\"x\": 0.05}, \"xaxis\": {\"automargin\": true, \"gridcolor\": \"white\", \"linecolor\": \"white\", \"ticks\": \"\", \"title\": {\"standoff\": 15}, \"zerolinecolor\": \"white\", \"zerolinewidth\": 2}, \"yaxis\": {\"automargin\": true, \"gridcolor\": \"white\", \"linecolor\": \"white\", \"ticks\": \"\", \"title\": {\"standoff\": 15}, \"zerolinecolor\": \"white\", \"zerolinewidth\": 2}}}},\n",
              "                        {\"responsive\": true}\n",
              "                    ).then(function(){\n",
              "                            \n",
              "var gd = document.getElementById('04753667-8b62-4b80-a1ac-110b328fb641');\n",
              "var x = new MutationObserver(function (mutations, observer) {{\n",
              "        var display = window.getComputedStyle(gd).display;\n",
              "        if (!display || display === 'none') {{\n",
              "            console.log([gd, 'removed!']);\n",
              "            Plotly.purge(gd);\n",
              "            observer.disconnect();\n",
              "        }}\n",
              "}});\n",
              "\n",
              "// Listen for the removal of the full notebook cells\n",
              "var notebookContainer = gd.closest('#notebook-container');\n",
              "if (notebookContainer) {{\n",
              "    x.observe(notebookContainer, {childList: true});\n",
              "}}\n",
              "\n",
              "// Listen for the clearing of the current output cell\n",
              "var outputEl = gd.closest('.output');\n",
              "if (outputEl) {{\n",
              "    x.observe(outputEl, {childList: true});\n",
              "}}\n",
              "\n",
              "                        })\n",
              "                };\n",
              "                \n",
              "            </script>\n",
              "        </div>\n",
              "</body>\n",
              "</html>"
            ]
          },
          "metadata": {
            "tags": []
          }
        }
      ]
    },
    {
      "cell_type": "markdown",
      "metadata": {
        "id": "YJKNj_krMrlb"
      },
      "source": [
        "Proszę policzyć model PCA i spróbować podjąć decyzję ile skladowych powinnśmy zatrzymać.\n",
        "\n"
      ]
    },
    {
      "cell_type": "code",
      "metadata": {
        "id": "BxFlfF9zM5Qq"
      },
      "source": [
        "from sklearn.preprocessing import StandardScaler\n",
        "\n",
        "scaler = StandardScaler()\n",
        "df_stand = scaler.fit_transform(df)"
      ],
      "execution_count": null,
      "outputs": []
    },
    {
      "cell_type": "code",
      "metadata": {
        "id": "HzW99ZR18d4B"
      },
      "source": [
        "model_pca = PCA(n_components=13)"
      ],
      "execution_count": null,
      "outputs": []
    },
    {
      "cell_type": "code",
      "metadata": {
        "id": "L0RniJfr8d6s"
      },
      "source": [
        "new_boston = model_pca.fit_transform(df_stand)"
      ],
      "execution_count": null,
      "outputs": []
    },
    {
      "cell_type": "code",
      "metadata": {
        "colab": {
          "base_uri": "https://localhost:8080/"
        },
        "id": "GinO2Tic8d8-",
        "outputId": "dbc7d01b-11c2-4f50-daa1-8b4a4848dd03"
      },
      "source": [
        "model_pca.explained_variance_ratio_"
      ],
      "execution_count": null,
      "outputs": [
        {
          "output_type": "execute_result",
          "data": {
            "text/plain": [
              "array([0.47129606, 0.11025193, 0.0955859 , 0.06596732, 0.06421661,\n",
              "       0.05056978, 0.04118124, 0.03046902, 0.02130333, 0.01694137,\n",
              "       0.0143088 , 0.01302331, 0.00488533])"
            ]
          },
          "metadata": {
            "tags": []
          },
          "execution_count": 37
        }
      ]
    },
    {
      "cell_type": "code",
      "metadata": {
        "colab": {
          "base_uri": "https://localhost:8080/",
          "height": 542
        },
        "id": "MZLE19ne8d_L",
        "outputId": "8090ec01-8006-486b-9513-a682cc285597"
      },
      "source": [
        "px.line(model_pca.explained_variance_ratio_, y = 0)"
      ],
      "execution_count": null,
      "outputs": [
        {
          "output_type": "display_data",
          "data": {
            "text/html": [
              "<html>\n",
              "<head><meta charset=\"utf-8\" /></head>\n",
              "<body>\n",
              "    <div>\n",
              "            <script src=\"https://cdnjs.cloudflare.com/ajax/libs/mathjax/2.7.5/MathJax.js?config=TeX-AMS-MML_SVG\"></script><script type=\"text/javascript\">if (window.MathJax) {MathJax.Hub.Config({SVG: {font: \"STIX-Web\"}});}</script>\n",
              "                <script type=\"text/javascript\">window.PlotlyConfig = {MathJaxConfig: 'local'};</script>\n",
              "        <script src=\"https://cdn.plot.ly/plotly-latest.min.js\"></script>    \n",
              "            <div id=\"c8e153b1-9834-4723-ad48-0531e64ad7ee\" class=\"plotly-graph-div\" style=\"height:525px; width:100%;\"></div>\n",
              "            <script type=\"text/javascript\">\n",
              "                \n",
              "                    window.PLOTLYENV=window.PLOTLYENV || {};\n",
              "                    \n",
              "                if (document.getElementById(\"c8e153b1-9834-4723-ad48-0531e64ad7ee\")) {\n",
              "                    Plotly.newPlot(\n",
              "                        'c8e153b1-9834-4723-ad48-0531e64ad7ee',\n",
              "                        [{\"hoverlabel\": {\"namelength\": 0}, \"hovertemplate\": \"0=%{y}\", \"legendgroup\": \"\", \"line\": {\"color\": \"#636efa\", \"dash\": \"solid\"}, \"mode\": \"lines\", \"name\": \"\", \"showlegend\": false, \"type\": \"scatter\", \"xaxis\": \"x\", \"y\": [0.4712960635727466, 0.11025193247587999, 0.09558589792622929, 0.06596731600836113, 0.0642166105213737, 0.05056978272291287, 0.04118123739654452, 0.03046902418985672, 0.021303333054001772, 0.01694137114842008, 0.014308797464566059, 0.013023305792840209, 0.004885327726266931], \"yaxis\": \"y\"}],\n",
              "                        {\"legend\": {\"tracegroupgap\": 0}, \"margin\": {\"t\": 60}, \"template\": {\"data\": {\"bar\": [{\"error_x\": {\"color\": \"#2a3f5f\"}, \"error_y\": {\"color\": \"#2a3f5f\"}, \"marker\": {\"line\": {\"color\": \"#E5ECF6\", \"width\": 0.5}}, \"type\": \"bar\"}], \"barpolar\": [{\"marker\": {\"line\": {\"color\": \"#E5ECF6\", \"width\": 0.5}}, \"type\": \"barpolar\"}], \"carpet\": [{\"aaxis\": {\"endlinecolor\": \"#2a3f5f\", \"gridcolor\": \"white\", \"linecolor\": \"white\", \"minorgridcolor\": \"white\", \"startlinecolor\": \"#2a3f5f\"}, \"baxis\": {\"endlinecolor\": \"#2a3f5f\", \"gridcolor\": \"white\", \"linecolor\": \"white\", \"minorgridcolor\": \"white\", \"startlinecolor\": \"#2a3f5f\"}, \"type\": \"carpet\"}], \"choropleth\": [{\"colorbar\": {\"outlinewidth\": 0, \"ticks\": \"\"}, \"type\": \"choropleth\"}], \"contour\": [{\"colorbar\": {\"outlinewidth\": 0, \"ticks\": \"\"}, \"colorscale\": [[0.0, \"#0d0887\"], [0.1111111111111111, \"#46039f\"], [0.2222222222222222, \"#7201a8\"], [0.3333333333333333, \"#9c179e\"], [0.4444444444444444, \"#bd3786\"], [0.5555555555555556, \"#d8576b\"], [0.6666666666666666, \"#ed7953\"], [0.7777777777777778, \"#fb9f3a\"], [0.8888888888888888, \"#fdca26\"], [1.0, \"#f0f921\"]], \"type\": \"contour\"}], \"contourcarpet\": [{\"colorbar\": {\"outlinewidth\": 0, \"ticks\": \"\"}, \"type\": \"contourcarpet\"}], \"heatmap\": [{\"colorbar\": {\"outlinewidth\": 0, \"ticks\": \"\"}, \"colorscale\": [[0.0, \"#0d0887\"], [0.1111111111111111, \"#46039f\"], [0.2222222222222222, \"#7201a8\"], [0.3333333333333333, \"#9c179e\"], [0.4444444444444444, \"#bd3786\"], [0.5555555555555556, \"#d8576b\"], [0.6666666666666666, \"#ed7953\"], [0.7777777777777778, \"#fb9f3a\"], [0.8888888888888888, \"#fdca26\"], [1.0, \"#f0f921\"]], \"type\": \"heatmap\"}], \"heatmapgl\": [{\"colorbar\": {\"outlinewidth\": 0, \"ticks\": \"\"}, \"colorscale\": [[0.0, \"#0d0887\"], [0.1111111111111111, \"#46039f\"], [0.2222222222222222, \"#7201a8\"], [0.3333333333333333, \"#9c179e\"], [0.4444444444444444, \"#bd3786\"], [0.5555555555555556, \"#d8576b\"], [0.6666666666666666, \"#ed7953\"], [0.7777777777777778, \"#fb9f3a\"], [0.8888888888888888, \"#fdca26\"], [1.0, \"#f0f921\"]], \"type\": \"heatmapgl\"}], \"histogram\": [{\"marker\": {\"colorbar\": {\"outlinewidth\": 0, \"ticks\": \"\"}}, \"type\": \"histogram\"}], \"histogram2d\": [{\"colorbar\": {\"outlinewidth\": 0, \"ticks\": \"\"}, \"colorscale\": [[0.0, \"#0d0887\"], [0.1111111111111111, \"#46039f\"], [0.2222222222222222, \"#7201a8\"], [0.3333333333333333, \"#9c179e\"], [0.4444444444444444, \"#bd3786\"], [0.5555555555555556, \"#d8576b\"], [0.6666666666666666, \"#ed7953\"], [0.7777777777777778, \"#fb9f3a\"], [0.8888888888888888, \"#fdca26\"], [1.0, \"#f0f921\"]], \"type\": \"histogram2d\"}], \"histogram2dcontour\": [{\"colorbar\": {\"outlinewidth\": 0, \"ticks\": \"\"}, \"colorscale\": [[0.0, \"#0d0887\"], [0.1111111111111111, \"#46039f\"], [0.2222222222222222, \"#7201a8\"], [0.3333333333333333, \"#9c179e\"], [0.4444444444444444, \"#bd3786\"], [0.5555555555555556, \"#d8576b\"], [0.6666666666666666, \"#ed7953\"], [0.7777777777777778, \"#fb9f3a\"], [0.8888888888888888, \"#fdca26\"], [1.0, \"#f0f921\"]], \"type\": \"histogram2dcontour\"}], \"mesh3d\": [{\"colorbar\": {\"outlinewidth\": 0, \"ticks\": \"\"}, \"type\": \"mesh3d\"}], \"parcoords\": [{\"line\": {\"colorbar\": {\"outlinewidth\": 0, \"ticks\": \"\"}}, \"type\": \"parcoords\"}], \"pie\": [{\"automargin\": true, \"type\": \"pie\"}], \"scatter\": [{\"marker\": {\"colorbar\": {\"outlinewidth\": 0, \"ticks\": \"\"}}, \"type\": \"scatter\"}], \"scatter3d\": [{\"line\": {\"colorbar\": {\"outlinewidth\": 0, \"ticks\": \"\"}}, \"marker\": {\"colorbar\": {\"outlinewidth\": 0, \"ticks\": \"\"}}, \"type\": \"scatter3d\"}], \"scattercarpet\": [{\"marker\": {\"colorbar\": {\"outlinewidth\": 0, \"ticks\": \"\"}}, \"type\": \"scattercarpet\"}], \"scattergeo\": [{\"marker\": {\"colorbar\": {\"outlinewidth\": 0, \"ticks\": \"\"}}, \"type\": \"scattergeo\"}], \"scattergl\": [{\"marker\": {\"colorbar\": {\"outlinewidth\": 0, \"ticks\": \"\"}}, \"type\": \"scattergl\"}], \"scattermapbox\": [{\"marker\": {\"colorbar\": {\"outlinewidth\": 0, \"ticks\": \"\"}}, \"type\": \"scattermapbox\"}], \"scatterpolar\": [{\"marker\": {\"colorbar\": {\"outlinewidth\": 0, \"ticks\": \"\"}}, \"type\": \"scatterpolar\"}], \"scatterpolargl\": [{\"marker\": {\"colorbar\": {\"outlinewidth\": 0, \"ticks\": \"\"}}, \"type\": \"scatterpolargl\"}], \"scatterternary\": [{\"marker\": {\"colorbar\": {\"outlinewidth\": 0, \"ticks\": \"\"}}, \"type\": \"scatterternary\"}], \"surface\": [{\"colorbar\": {\"outlinewidth\": 0, \"ticks\": \"\"}, \"colorscale\": [[0.0, \"#0d0887\"], [0.1111111111111111, \"#46039f\"], [0.2222222222222222, \"#7201a8\"], [0.3333333333333333, \"#9c179e\"], [0.4444444444444444, \"#bd3786\"], [0.5555555555555556, \"#d8576b\"], [0.6666666666666666, \"#ed7953\"], [0.7777777777777778, \"#fb9f3a\"], [0.8888888888888888, \"#fdca26\"], [1.0, \"#f0f921\"]], \"type\": \"surface\"}], \"table\": [{\"cells\": {\"fill\": {\"color\": \"#EBF0F8\"}, \"line\": {\"color\": \"white\"}}, \"header\": {\"fill\": {\"color\": \"#C8D4E3\"}, \"line\": {\"color\": \"white\"}}, \"type\": \"table\"}]}, \"layout\": {\"annotationdefaults\": {\"arrowcolor\": \"#2a3f5f\", \"arrowhead\": 0, \"arrowwidth\": 1}, \"coloraxis\": {\"colorbar\": {\"outlinewidth\": 0, \"ticks\": \"\"}}, \"colorscale\": {\"diverging\": [[0, \"#8e0152\"], [0.1, \"#c51b7d\"], [0.2, \"#de77ae\"], [0.3, \"#f1b6da\"], [0.4, \"#fde0ef\"], [0.5, \"#f7f7f7\"], [0.6, \"#e6f5d0\"], [0.7, \"#b8e186\"], [0.8, \"#7fbc41\"], [0.9, \"#4d9221\"], [1, \"#276419\"]], \"sequential\": [[0.0, \"#0d0887\"], [0.1111111111111111, \"#46039f\"], [0.2222222222222222, \"#7201a8\"], [0.3333333333333333, \"#9c179e\"], [0.4444444444444444, \"#bd3786\"], [0.5555555555555556, \"#d8576b\"], [0.6666666666666666, \"#ed7953\"], [0.7777777777777778, \"#fb9f3a\"], [0.8888888888888888, \"#fdca26\"], [1.0, \"#f0f921\"]], \"sequentialminus\": [[0.0, \"#0d0887\"], [0.1111111111111111, \"#46039f\"], [0.2222222222222222, \"#7201a8\"], [0.3333333333333333, \"#9c179e\"], [0.4444444444444444, \"#bd3786\"], [0.5555555555555556, \"#d8576b\"], [0.6666666666666666, \"#ed7953\"], [0.7777777777777778, \"#fb9f3a\"], [0.8888888888888888, \"#fdca26\"], [1.0, \"#f0f921\"]]}, \"colorway\": [\"#636efa\", \"#EF553B\", \"#00cc96\", \"#ab63fa\", \"#FFA15A\", \"#19d3f3\", \"#FF6692\", \"#B6E880\", \"#FF97FF\", \"#FECB52\"], \"font\": {\"color\": \"#2a3f5f\"}, \"geo\": {\"bgcolor\": \"white\", \"lakecolor\": \"white\", \"landcolor\": \"#E5ECF6\", \"showlakes\": true, \"showland\": true, \"subunitcolor\": \"white\"}, \"hoverlabel\": {\"align\": \"left\"}, \"hovermode\": \"closest\", \"mapbox\": {\"style\": \"light\"}, \"paper_bgcolor\": \"white\", \"plot_bgcolor\": \"#E5ECF6\", \"polar\": {\"angularaxis\": {\"gridcolor\": \"white\", \"linecolor\": \"white\", \"ticks\": \"\"}, \"bgcolor\": \"#E5ECF6\", \"radialaxis\": {\"gridcolor\": \"white\", \"linecolor\": \"white\", \"ticks\": \"\"}}, \"scene\": {\"xaxis\": {\"backgroundcolor\": \"#E5ECF6\", \"gridcolor\": \"white\", \"gridwidth\": 2, \"linecolor\": \"white\", \"showbackground\": true, \"ticks\": \"\", \"zerolinecolor\": \"white\"}, \"yaxis\": {\"backgroundcolor\": \"#E5ECF6\", \"gridcolor\": \"white\", \"gridwidth\": 2, \"linecolor\": \"white\", \"showbackground\": true, \"ticks\": \"\", \"zerolinecolor\": \"white\"}, \"zaxis\": {\"backgroundcolor\": \"#E5ECF6\", \"gridcolor\": \"white\", \"gridwidth\": 2, \"linecolor\": \"white\", \"showbackground\": true, \"ticks\": \"\", \"zerolinecolor\": \"white\"}}, \"shapedefaults\": {\"line\": {\"color\": \"#2a3f5f\"}}, \"ternary\": {\"aaxis\": {\"gridcolor\": \"white\", \"linecolor\": \"white\", \"ticks\": \"\"}, \"baxis\": {\"gridcolor\": \"white\", \"linecolor\": \"white\", \"ticks\": \"\"}, \"bgcolor\": \"#E5ECF6\", \"caxis\": {\"gridcolor\": \"white\", \"linecolor\": \"white\", \"ticks\": \"\"}}, \"title\": {\"x\": 0.05}, \"xaxis\": {\"automargin\": true, \"gridcolor\": \"white\", \"linecolor\": \"white\", \"ticks\": \"\", \"title\": {\"standoff\": 15}, \"zerolinecolor\": \"white\", \"zerolinewidth\": 2}, \"yaxis\": {\"automargin\": true, \"gridcolor\": \"white\", \"linecolor\": \"white\", \"ticks\": \"\", \"title\": {\"standoff\": 15}, \"zerolinecolor\": \"white\", \"zerolinewidth\": 2}}}, \"xaxis\": {\"anchor\": \"y\", \"domain\": [0.0, 1.0]}, \"yaxis\": {\"anchor\": \"x\", \"domain\": [0.0, 1.0], \"title\": {\"text\": \"0\"}}},\n",
              "                        {\"responsive\": true}\n",
              "                    ).then(function(){\n",
              "                            \n",
              "var gd = document.getElementById('c8e153b1-9834-4723-ad48-0531e64ad7ee');\n",
              "var x = new MutationObserver(function (mutations, observer) {{\n",
              "        var display = window.getComputedStyle(gd).display;\n",
              "        if (!display || display === 'none') {{\n",
              "            console.log([gd, 'removed!']);\n",
              "            Plotly.purge(gd);\n",
              "            observer.disconnect();\n",
              "        }}\n",
              "}});\n",
              "\n",
              "// Listen for the removal of the full notebook cells\n",
              "var notebookContainer = gd.closest('#notebook-container');\n",
              "if (notebookContainer) {{\n",
              "    x.observe(notebookContainer, {childList: true});\n",
              "}}\n",
              "\n",
              "// Listen for the clearing of the current output cell\n",
              "var outputEl = gd.closest('.output');\n",
              "if (outputEl) {{\n",
              "    x.observe(outputEl, {childList: true});\n",
              "}}\n",
              "\n",
              "                        })\n",
              "                };\n",
              "                \n",
              "            </script>\n",
              "        </div>\n",
              "</body>\n",
              "</html>"
            ]
          },
          "metadata": {
            "tags": []
          }
        }
      ]
    },
    {
      "cell_type": "markdown",
      "metadata": {
        "id": "jrRcaPyeW6jx"
      },
      "source": [
        "Proszę wyznaczyć i spróbować zinterpretować ładunki"
      ]
    },
    {
      "cell_type": "code",
      "metadata": {
        "colab": {
          "base_uri": "https://localhost:8080/",
          "height": 437
        },
        "id": "_XQ0cytQPEKk",
        "outputId": "953576f3-2aac-466b-b9e1-d78a252b058b"
      },
      "source": [
        "pd.DataFrame(model_pca.components_.T * np.sqrt(model_pca.explained_variance_), index=boston[\"feature_names\"])"
      ],
      "execution_count": null,
      "outputs": [
        {
          "output_type": "execute_result",
          "data": {
            "text/html": [
              "<div>\n",
              "<style scoped>\n",
              "    .dataframe tbody tr th:only-of-type {\n",
              "        vertical-align: middle;\n",
              "    }\n",
              "\n",
              "    .dataframe tbody tr th {\n",
              "        vertical-align: top;\n",
              "    }\n",
              "\n",
              "    .dataframe thead th {\n",
              "        text-align: right;\n",
              "    }\n",
              "</style>\n",
              "<table border=\"1\" class=\"dataframe\">\n",
              "  <thead>\n",
              "    <tr style=\"text-align: right;\">\n",
              "      <th></th>\n",
              "      <th>0</th>\n",
              "      <th>1</th>\n",
              "      <th>2</th>\n",
              "      <th>3</th>\n",
              "      <th>4</th>\n",
              "      <th>5</th>\n",
              "      <th>6</th>\n",
              "      <th>7</th>\n",
              "      <th>8</th>\n",
              "      <th>9</th>\n",
              "      <th>10</th>\n",
              "      <th>11</th>\n",
              "      <th>12</th>\n",
              "    </tr>\n",
              "  </thead>\n",
              "  <tbody>\n",
              "    <tr>\n",
              "      <th>CRIM</th>\n",
              "      <td>0.621781</td>\n",
              "      <td>-0.377792</td>\n",
              "      <td>0.275126</td>\n",
              "      <td>0.057260</td>\n",
              "      <td>0.075140</td>\n",
              "      <td>-0.178278</td>\n",
              "      <td>0.569523</td>\n",
              "      <td>0.096609</td>\n",
              "      <td>0.137167</td>\n",
              "      <td>0.009099</td>\n",
              "      <td>-0.047336</td>\n",
              "      <td>0.035734</td>\n",
              "      <td>0.011592</td>\n",
              "    </tr>\n",
              "    <tr>\n",
              "      <th>ZN</th>\n",
              "      <td>-0.635070</td>\n",
              "      <td>-0.387452</td>\n",
              "      <td>0.330127</td>\n",
              "      <td>0.119312</td>\n",
              "      <td>0.293232</td>\n",
              "      <td>-0.262465</td>\n",
              "      <td>-0.201408</td>\n",
              "      <td>-0.253683</td>\n",
              "      <td>0.188658</td>\n",
              "      <td>0.125673</td>\n",
              "      <td>0.113437</td>\n",
              "      <td>-0.029418</td>\n",
              "      <td>-0.020413</td>\n",
              "    </tr>\n",
              "    <tr>\n",
              "      <th>INDUS</th>\n",
              "      <td>0.858948</td>\n",
              "      <td>0.134809</td>\n",
              "      <td>-0.017793</td>\n",
              "      <td>0.015894</td>\n",
              "      <td>-0.007144</td>\n",
              "      <td>-0.061794</td>\n",
              "      <td>-0.248707</td>\n",
              "      <td>0.109574</td>\n",
              "      <td>0.339462</td>\n",
              "      <td>-0.170773</td>\n",
              "      <td>-0.130884</td>\n",
              "      <td>-0.046624</td>\n",
              "      <td>-0.063337</td>\n",
              "    </tr>\n",
              "    <tr>\n",
              "      <th>CHAS</th>\n",
              "      <td>0.012494</td>\n",
              "      <td>0.545058</td>\n",
              "      <td>0.323346</td>\n",
              "      <td>0.756353</td>\n",
              "      <td>0.079140</td>\n",
              "      <td>0.135936</td>\n",
              "      <td>0.054298</td>\n",
              "      <td>-0.015537</td>\n",
              "      <td>-0.007231</td>\n",
              "      <td>-0.002904</td>\n",
              "      <td>0.006012</td>\n",
              "      <td>-0.001640</td>\n",
              "      <td>0.009062</td>\n",
              "    </tr>\n",
              "    <tr>\n",
              "      <th>NOX</th>\n",
              "      <td>0.849484</td>\n",
              "      <td>0.262584</td>\n",
              "      <td>0.134975</td>\n",
              "      <td>-0.118862</td>\n",
              "      <td>0.125164</td>\n",
              "      <td>-0.124162</td>\n",
              "      <td>-0.146213</td>\n",
              "      <td>0.050475</td>\n",
              "      <td>-0.009757</td>\n",
              "      <td>0.108541</td>\n",
              "      <td>0.048059</td>\n",
              "      <td>0.331278</td>\n",
              "      <td>0.011006</td>\n",
              "    </tr>\n",
              "    <tr>\n",
              "      <th>RM</th>\n",
              "      <td>-0.468886</td>\n",
              "      <td>0.178956</td>\n",
              "      <td>0.662760</td>\n",
              "      <td>-0.260100</td>\n",
              "      <td>-0.387279</td>\n",
              "      <td>0.048102</td>\n",
              "      <td>0.046830</td>\n",
              "      <td>-0.205849</td>\n",
              "      <td>0.025231</td>\n",
              "      <td>-0.202664</td>\n",
              "      <td>0.022951</td>\n",
              "      <td>0.062964</td>\n",
              "      <td>0.011495</td>\n",
              "    </tr>\n",
              "    <tr>\n",
              "      <th>AGE</th>\n",
              "      <td>0.777181</td>\n",
              "      <td>0.373868</td>\n",
              "      <td>-0.019722</td>\n",
              "      <td>-0.162411</td>\n",
              "      <td>0.015265</td>\n",
              "      <td>-0.058200</td>\n",
              "      <td>0.084967</td>\n",
              "      <td>-0.378510</td>\n",
              "      <td>-0.035590</td>\n",
              "      <td>0.170419</td>\n",
              "      <td>-0.198229</td>\n",
              "      <td>-0.087290</td>\n",
              "      <td>-0.009725</td>\n",
              "    </tr>\n",
              "    <tr>\n",
              "      <th>DIS</th>\n",
              "      <td>-0.796688</td>\n",
              "      <td>-0.418318</td>\n",
              "      <td>-0.055497</td>\n",
              "      <td>0.199703</td>\n",
              "      <td>0.090171</td>\n",
              "      <td>0.019023</td>\n",
              "      <td>-0.076097</td>\n",
              "      <td>-0.076740</td>\n",
              "      <td>-0.080750</td>\n",
              "      <td>-0.080429</td>\n",
              "      <td>-0.300345</td>\n",
              "      <td>0.161018</td>\n",
              "      <td>-0.004616</td>\n",
              "    </tr>\n",
              "    <tr>\n",
              "      <th>RAD</th>\n",
              "      <td>0.792350</td>\n",
              "      <td>-0.325385</td>\n",
              "      <td>0.320528</td>\n",
              "      <td>0.122684</td>\n",
              "      <td>-0.186696</td>\n",
              "      <td>-0.116218</td>\n",
              "      <td>-0.101030</td>\n",
              "      <td>0.050625</td>\n",
              "      <td>-0.248053</td>\n",
              "      <td>0.010292</td>\n",
              "      <td>0.015777</td>\n",
              "      <td>-0.044081</td>\n",
              "      <td>-0.159804</td>\n",
              "    </tr>\n",
              "    <tr>\n",
              "      <th>TAX</th>\n",
              "      <td>0.838624</td>\n",
              "      <td>-0.286956</td>\n",
              "      <td>0.246313</td>\n",
              "      <td>0.095789</td>\n",
              "      <td>-0.119318</td>\n",
              "      <td>-0.156587</td>\n",
              "      <td>-0.230625</td>\n",
              "      <td>0.052147</td>\n",
              "      <td>-0.093009</td>\n",
              "      <td>-0.016521</td>\n",
              "      <td>-0.045260</td>\n",
              "      <td>-0.088631</td>\n",
              "      <td>0.181686</td>\n",
              "    </tr>\n",
              "    <tr>\n",
              "      <th>PTRATIO</th>\n",
              "      <td>0.507785</td>\n",
              "      <td>-0.366581</td>\n",
              "      <td>-0.360911</td>\n",
              "      <td>0.261982</td>\n",
              "      <td>-0.534121</td>\n",
              "      <td>0.221694</td>\n",
              "      <td>0.001702</td>\n",
              "      <td>-0.200262</td>\n",
              "      <td>0.134026</td>\n",
              "      <td>0.072075</td>\n",
              "      <td>0.075338</td>\n",
              "      <td>0.086328</td>\n",
              "      <td>0.005902</td>\n",
              "    </tr>\n",
              "    <tr>\n",
              "      <th>B</th>\n",
              "      <td>-0.502905</td>\n",
              "      <td>0.285885</td>\n",
              "      <td>-0.334912</td>\n",
              "      <td>0.156193</td>\n",
              "      <td>-0.316088</td>\n",
              "      <td>-0.652091</td>\n",
              "      <td>0.051484</td>\n",
              "      <td>-0.003101</td>\n",
              "      <td>-0.023651</td>\n",
              "      <td>-0.045339</td>\n",
              "      <td>0.008321</td>\n",
              "      <td>0.017185</td>\n",
              "      <td>-0.001126</td>\n",
              "    </tr>\n",
              "    <tr>\n",
              "      <th>LSTAT</th>\n",
              "      <td>0.767491</td>\n",
              "      <td>-0.089066</td>\n",
              "      <td>-0.297927</td>\n",
              "      <td>0.064345</td>\n",
              "      <td>0.360860</td>\n",
              "      <td>-0.043190</td>\n",
              "      <td>0.063727</td>\n",
              "      <td>-0.267336</td>\n",
              "      <td>-0.102838</td>\n",
              "      <td>-0.282190</td>\n",
              "      <td>0.117161</td>\n",
              "      <td>0.022746</td>\n",
              "      <td>0.006163</td>\n",
              "    </tr>\n",
              "  </tbody>\n",
              "</table>\n",
              "</div>"
            ],
            "text/plain": [
              "               0         1         2   ...        10        11        12\n",
              "CRIM     0.621781 -0.377792  0.275126  ... -0.047336  0.035734  0.011592\n",
              "ZN      -0.635070 -0.387452  0.330127  ...  0.113437 -0.029418 -0.020413\n",
              "INDUS    0.858948  0.134809 -0.017793  ... -0.130884 -0.046624 -0.063337\n",
              "CHAS     0.012494  0.545058  0.323346  ...  0.006012 -0.001640  0.009062\n",
              "NOX      0.849484  0.262584  0.134975  ...  0.048059  0.331278  0.011006\n",
              "RM      -0.468886  0.178956  0.662760  ...  0.022951  0.062964  0.011495\n",
              "AGE      0.777181  0.373868 -0.019722  ... -0.198229 -0.087290 -0.009725\n",
              "DIS     -0.796688 -0.418318 -0.055497  ... -0.300345  0.161018 -0.004616\n",
              "RAD      0.792350 -0.325385  0.320528  ...  0.015777 -0.044081 -0.159804\n",
              "TAX      0.838624 -0.286956  0.246313  ... -0.045260 -0.088631  0.181686\n",
              "PTRATIO  0.507785 -0.366581 -0.360911  ...  0.075338  0.086328  0.005902\n",
              "B       -0.502905  0.285885 -0.334912  ...  0.008321  0.017185 -0.001126\n",
              "LSTAT    0.767491 -0.089066 -0.297927  ...  0.117161  0.022746  0.006163\n",
              "\n",
              "[13 rows x 13 columns]"
            ]
          },
          "metadata": {
            "tags": []
          },
          "execution_count": 36
        }
      ]
    },
    {
      "cell_type": "markdown",
      "metadata": {
        "id": "hGMFLtiZXA-0"
      },
      "source": [
        "Proszę narysować wykresy zależności naszych PC od siebie"
      ]
    },
    {
      "cell_type": "code",
      "metadata": {
        "colab": {
          "base_uri": "https://localhost:8080/",
          "height": 542
        },
        "id": "8YnDKjgdW26m",
        "outputId": "59b5ba51-c870-4e0c-f8e3-58773db7e0be"
      },
      "source": [
        "labels = {str(i): f\"PC {i+1}\" for i in range(4)}\n",
        "labels['color'] = 'Median Price'\n",
        "\n",
        "fig = px.scatter_matrix(\n",
        "    new_boston,\n",
        "    color=boston.target,\n",
        "    dimensions=range(4),\n",
        "    labels=labels,\n",
        ")\n",
        "fig.update_traces(diagonal_visible=False)\n",
        "fig.show()\n"
      ],
      "execution_count": null,
      "outputs": [
        {
          "output_type": "display_data",
          "data": {
            "text/html": [
              "<html>\n",
              "<head><meta charset=\"utf-8\" /></head>\n",
              "<body>\n",
              "    <div>\n",
              "            <script src=\"https://cdnjs.cloudflare.com/ajax/libs/mathjax/2.7.5/MathJax.js?config=TeX-AMS-MML_SVG\"></script><script type=\"text/javascript\">if (window.MathJax) {MathJax.Hub.Config({SVG: {font: \"STIX-Web\"}});}</script>\n",
              "                <script type=\"text/javascript\">window.PlotlyConfig = {MathJaxConfig: 'local'};</script>\n",
              "        <script src=\"https://cdn.plot.ly/plotly-latest.min.js\"></script>    \n",
              "            <div id=\"cd9c7b92-d4a8-4906-bdf8-82d2d0a6da6f\" class=\"plotly-graph-div\" style=\"height:525px; width:100%;\"></div>\n",
              "            <script type=\"text/javascript\">\n",
              "                \n",
              "                    window.PLOTLYENV=window.PLOTLYENV || {};\n",
              "                    \n",
              "                if (document.getElementById(\"cd9c7b92-d4a8-4906-bdf8-82d2d0a6da6f\")) {\n",
              "                    Plotly.newPlot(\n",
              "                        'cd9c7b92-d4a8-4906-bdf8-82d2d0a6da6f',\n",
              "                        [{\"diagonal\": {\"visible\": false}, \"dimensions\": [{\"axis\": {\"matches\": true}, \"label\": \"PC 1\", \"values\": [-2.098297472141799, -1.4572516736094183, -2.0745975633871914, -2.611503572221391, -2.458185009806267, -2.214851514033594, -1.3588810878179178, -0.8420446131112016, -0.1799282783198724, -1.074184109733508, -0.909411525134637, -1.2436550631562127, -1.4628973149443347, -0.7357743550569762, -0.3600175169980895, -0.7200590637993177, -1.1007765802148748, -0.1507129743538339, -0.3505668480874101, -0.3036101551174, 0.5277931869587459, -0.07013002935390589, 0.12915605102631483, 0.34084737832756373, 0.036650020167133084, 0.2362407187253533, -0.047125373252419736, 0.18043033595286176, -0.2594571054801388, -0.3656870644537514, 0.4796848212618321, 0.012160251184086122, 0.831254583981762, 0.38029082389765734, 0.644874747795598, -0.8248747203761062, -0.7594813756257484, -1.2270851628842314, -1.3015746812111713, -3.4645139897347277, -3.748507805714815, -2.7146448601053144, -2.464272522772208, -2.430095284916577, -1.9163131460252507, -1.7729203963652764, -1.6349662419453423, -0.9961685678333285, -0.23140282496885892, -1.326212232851612, -2.206010388288699, -2.2263564658979162, -2.9869016011028973, -2.7085844218404005, -2.126225250213942, -4.466466993263823, -4.055162600180598, -4.4022608281046125, -2.3894172253072705, -1.9077928920469698, -1.5145915842846291, -1.115094734472576, -1.9734100579667708, -2.319853427391669, -3.1244055895997715, -3.722743738887404, -3.196696884873252, -2.209934523313543, -1.7441911272185562, -2.0519552783716013, -2.0294003846288584, -1.6305004373019156, -1.989098257014017, -1.9341576179236082, -1.5119185003006106, -0.9985113314229497, -0.445679388974193, -0.8380222761900422, -0.8256489973607066, -1.0030638203414386, -2.5277234075824335, -2.000282804208091, -2.365683113621672, -2.119347028539482, -1.819672073281906, -1.8658016094812115, -1.554608083070303, -1.5382773661533655, -1.523287452825825, -1.789929567766359, -1.3852473383038102, -1.324732737872689, -1.3361143995310862, -1.6373415998377592, -0.9106116579167357, -1.736574283421808, -1.352291092367437, -2.1154728043044555, -2.505901156280674, -2.0055564823027985, -0.25758379691680094, -0.4588509806328114, 0.6760621603266607, 0.17181905729604682, 0.19128662480907588, 0.5757560023770119, 0.6029592252459789, 0.281472515771518, 0.1772758640255703, 0.31567170386256815, -0.24150695853350668, -0.19835026673848458, 0.45822898921150207, 0.44486662398276705, 0.0483374138462783, 0.4782181938419705, -0.07495275727637063, -0.000827085390692739, 0.3185367264862501, 0.03170798986045419, 0.534535514792807, 0.6895312759269073, 0.9747788597990612, 1.4143748586099993, 1.023646617821796, 0.7835392851903045, 1.6046594875973494, 1.77900847238368, 1.520691522959371, 1.8077604551197988, 1.3511791048264852, 1.3560772986013656, 1.2949712473032295, 1.5492400481190598, 2.0172925622819347, 1.5742187152804779, 1.676798664439118, 1.4766527113908863, 1.9568371246603344, 1.74782081967144, 1.9620554217309116, 2.835700899171406, 2.4570930035504963, 2.4112136019038033, 2.635209529960291, 2.739845966871849, 2.3777003332302136, 2.5979865016379047, 2.5198102487303227, 2.1467787052638734, 1.6206720555914649, 1.8775502308266339, 1.801509189629869, 2.0790679041992117, 1.7565055593113774, 2.177592906104201, 2.5389912994948034, 0.16828225809528696, 0.5566772061685216, 1.2443562357329756, 0.4290260572846124, -0.20850738839734562, -0.21586432905717473, -0.38267520872723815, 0.5815228882819413, 0.8347840139977063, -0.165440628889867, 0.8157464571670867, 0.7497260491962046, 0.6330500039005666, 0.9262373171711062, 0.7645272421062572, -0.4408101954990751, -0.9687014666287613, -0.9679153200142683, -1.7986254920086249, -1.3615309126435755, -1.2841407558183366, -1.3210982654082917, -1.925598143367463, -1.7334086980986054, -1.4306903025387099, -1.5785326743825427, -1.3719598944415712, -0.8266179948744091, -1.281516390103257, -2.281326570569051, -2.4905521358770972, -2.748537210791834, -2.8052876858945313, -3.1983205955646286, -3.082633618932797, -3.3314337547513837, -3.961141421229131, -3.8003683996731064, -4.315027271979142, -4.438902011545419, -4.070819791977066, -4.267873001139579, -4.166596039045639, -4.202485088283225, -3.508501010824887, -4.343621946236885, -4.278401223706233, -4.377556880488285, -1.2542450100091114, -1.085672948834001, -0.3933528205901791, -0.7162248533722, 0.32988749030897735, -0.1768420740972967, 0.2592390261981137, -0.5759393239338948, -1.313087263308006, -0.28750974286792197, -1.160210885397372, -0.4353195035949302, -0.5462199876371774, 0.18764311103317155, -0.32924005519737154, -0.7235110100991526, -0.004816899094316889, -0.867075751922584, -0.8979180430978194, -1.4538723890140046, -1.4909531969110157, -1.3976760894763829, -1.0596699752299328, -2.048008785273743, -1.7022484494561503, -0.7229077178540003, -1.2856894369640228, -1.7310270208103506, -1.6379724416705748, -1.0283803569436298, -0.8488587681099771, -0.9631056181622284, -1.4463495356667464, -2.823993001360708, -2.5589132053061863, -2.3666510532423772, -1.9933810787185753, -2.309933691196899, -3.087894399724525, -1.4439061917071307, -1.2960916348868954, -2.2426352766772157, -1.7102652879916556, -2.091927336068774, -2.691346300539271, -2.649348648349135, -2.737265149659178, -3.157951636352412, -3.5063812473167815, -3.9524631843001377, -3.9229064582756954, -4.201675195486653, -1.7910143866998107, -1.1578550929736522, -1.1012969720688273, -1.3056715537898596, -1.4020831658505242, -1.6937674518896308, -1.113327764032711, -1.222827314241884, -1.0107418283657055, -0.9742776663359162, -2.1001070086041054, -2.3063715961349454, -1.2919258180423638, -1.6052678958817308, -2.297263746612182, -1.774051020829843, -2.2481054104503544, -2.6079886471685354, -2.595036083722759, -2.5462447908764387, -2.7702854555568686, -2.412357268842607, -2.83533960540491, -2.868697398600962, -3.0024476151491695, -3.054814322538087, -4.854106685295926, -4.283584331029346, -3.6258286528395223, -3.675453258536357, -3.09651133504627, -2.945399732774842, -3.127119765509234, -3.3665274299078374, -3.434868280380264, -3.29492411751296, -1.9082260498872061, -1.530819120459165, -2.084017415093046, -1.7718316067472633, -1.1836486141657288, -3.8056134316305137, -4.123601739674297, -3.646089842900406, -2.326615761883183, -2.553746448656076, -2.8732469234398907, -2.4431601859605605, -1.8991796485082688, -2.0347219464264845, -1.8661123291159334, -0.7884883852788714, -0.4085239226818804, -0.1993632230574321, -0.8067407047012005, -0.15512872053610546, -0.5301231866300696, -0.5552570361535493, -0.3909292102625059, -0.08294159115081408, -0.3003930411518201, -0.6699918633739529, -0.6601317859396731, -1.3121436461359097, -1.2902748356895464, -1.2356657942173959, -0.6874264338033574, -1.5147080908392003, -1.9508918837305773, -1.7178645304221087, -1.204554328659388, -1.7231421753562677, -2.0425098197224694, -1.8348433726871107, -2.4592950584298707, -2.7332886514452572, -1.902867490354781, -1.8500314084778957, -1.7106482745707314, -1.340886421311159, -1.2206859549809328, -1.4828266639569714, -1.3201705741306677, -1.1888139648496898, -3.3951222843585156, -1.879925648329891, -2.362844808927741, -2.9301567031649056, -1.9296288366734475, -1.7153569759798422, -3.6095072284251453, -3.866381430442062, -3.324858886932271, -3.104192603037534, -3.599500834154991, -3.554507996081061, -4.782180517016172, -3.4134704082958454, -3.6046243849615336, 3.2696669574853896, 2.722189232455071, 2.6290871816860895, 2.6571264677235287, 2.485674365109534, 2.9044339688919196, 2.9849443524844266, 3.1068800805722603, 1.6510274069316067, 3.24926910495455, 3.248765573820942, 4.089226501333374, 2.5856632257015217, 2.1476762824393325, 2.0440190906266795, 2.6943799780060296, 2.79005533684537, 4.238640172882451, 4.80614906457059, 2.875549431004763, 3.373609753271174, 3.072038352209429, 3.6604756195675296, 3.5004469311306172, 5.0758146467000085, 3.287640503114907, 3.560366340723126, 3.578707962845156, 4.669333556339817, 4.168320172667379, 4.463306720071845, 4.353155675478382, 4.24431724399822, 3.4152429282832353, 3.085005644369463, 2.8538757744719065, 3.792863066983579, 2.865871848400272, 3.1621202948198475, 2.9678109549046385, 2.9655168572913935, 3.2668031646510545, 4.731127140465601, 3.6476574207849937, 4.01754938157277, 3.3280636066747427, 3.2120097561615353, 3.8164367742625607, 4.632738356068768, 5.23858667164744, 4.262124069425694, 3.1915729133807607, 3.4818342649117953, 3.389696146725002, 4.738153920180292, 3.805154899365783, 5.072077393181351, 4.186166640167433, 6.13741190755311, 4.536322941866613, 4.0015536602579465, 4.650002640586163, 5.947182844365233, 3.7864388820002852, 3.1920752275664968, 3.15452027802597, 2.985994462481532, 3.720948997686979, 3.3912195526850364, 4.394868236550074, 3.196717501239248, 4.316575406830278, 3.5470226474529953, 3.935702309613156, 3.1891492637276513, 3.284014077467829, 2.6841009107348306, 3.3434162859551275, 3.6951561433701157, 3.9228446946138247, 4.02415371634897, 4.6229643267636025, 4.713015474273577, 3.524746101453118, 3.797462040832357, 3.201835846928407, 3.025321848949736, 3.201294034819903, 3.9688435677904628, 4.15701677728855, 3.185137222722581, 3.0830471092526723, 3.071910804322915, 3.2214658917467007, 3.618687122277298, 2.887001551095439, 2.8136040170301797, 2.678587109410496, 3.737354870653463, 3.453842930372583, 3.721107578035367, 3.6455579098070707, 2.9425536861252657, 2.6480012666700268, 2.89352819304813, 2.5553080620719637, 2.5310755701140533, 2.366776052154205, 2.1582528719916696, 2.1140165721521, 3.3431175344771225, 2.790700132397343, 2.5850927461297517, 2.213936065266803, 2.175583928246126, 1.927301542624489, 1.924599515134554, 1.8077828235003768, 2.8935789688266698, 3.073035830157471, 2.5297610093357226, 3.5914234542592935, 2.8306553179818694, 2.6533439793727114, 1.5402907726208797, 1.4061238218425047, 1.29769643104245, 1.2016854581248155, 1.561728887696733, 1.3916259786459462, 2.065304138719727, 1.7167610853707769, 2.527695985345965, 2.9821067102821925, 3.3606816261014534, 2.45610035370931, 2.028588524087767, 0.03689277209108583, -0.07760289340500609, -0.04702554831642315, 0.6692729052096074, 0.21401579530607517, 0.11606549506743576, 0.4256406872495752, 0.3217035607490373, -0.31496782735419065, -0.11051334525911001, -0.31236047156989505, -0.2705190661805313, -0.12580321582577728]}, {\"axis\": {\"matches\": true}, \"label\": \"PC 2\", \"values\": [0.7731127495635904, 0.5919852067463869, 0.5996394001931775, -0.006870618804223183, 0.09771194710499612, -0.009487011747567008, 0.34987218619929383, 0.5777997238115091, 0.34251815202805475, 0.31620142748915525, 0.5077516941256084, 0.413099311532689, -0.012018581386712116, -0.12729498212694865, 0.13128013454198034, -0.18134420407212448, -0.4805142410583971, 0.0778115313313642, -0.6849154854536135, 0.011519740782573758, 0.13679638267057884, 0.2178335765687931, 0.2356287126438767, 0.22878112389679317, 0.18191436891485754, -0.23283401531503806, 0.042035386979636206, -0.10743970205578972, 0.3164927981242196, 0.2915567873551358, -0.004275273540826658, 0.2818769915269255, -0.44412010309854594, 0.1169786918454686, -0.09993396861508369, 0.3233996134720677, 0.15563610015733206, -0.07680784959078095, -0.18979949302051743, -1.3317226286930728, -1.2828857310330763, -0.36586464939481034, -0.4686342876605855, -0.44943734261989704, -0.1418927385882894, -0.1790652140450935, -0.20415503026961737, 0.26830493134744887, 0.09767435760240337, -0.11123841868578052, -0.5250984338063306, -0.2614473046661925, -0.5915195842814676, -0.7300079496136309, -2.34108565473809, -1.9948499845822638, -1.9856750395436553, -1.5865612104829376, -1.4126119952718597, -1.1192473591298684, -1.044029916313705, -0.6856875877107294, -0.8011840077906032, -1.1650346650390915, -0.7258078284857487, -1.6026769514444064, -1.6204567093603541, -1.0755013003915461, -1.018101793183992, -0.9532820314498562, -0.6702195802621036, -0.6995737739174037, -0.7006354363166746, -0.740881320807624, -0.5208253294389471, -0.18072891619086984, 0.16296263892684373, -0.13833616387297884, -0.20628658263274274, -0.3292663198372206, -0.6311264303384702, -0.26828711101758945, -0.7506972041855137, -0.6431179840821757, 0.05012794364972907, 0.2678744501800125, -0.03935099078687436, 0.2689023069685201, 1.029997543973867, 0.7849773193856453, 0.6885644322861407, 0.7827930137526192, 0.11040496994603767, -0.18850897698369862, 0.3203159196262489, 0.3755291182665322, 0.44808690708776744, 1.0119132551086911, 0.5244418501529543, 0.7045078648659966, 0.40544650294300427, 0.3301687695406068, -0.45448041080709584, 0.32865418469461083, 0.42216693558559804, 0.44207326120958496, 0.348362845384227, 0.3788495126710614, 0.5719934457034307, 0.38616226119850544, -0.029758438527902456, 0.8484888534767456, 0.7914832821102767, 0.8173157208541776, 0.8266570934861521, 0.596366975127062, 0.5974303892187209, 0.694214997253096, 0.40367473401552717, 0.39539448211827555, 1.1558920910586281, 1.3250778211444798, 1.394079720515699, 1.3404913541733023, 1.4290006659616417, 1.4129142979104583, 1.2475341560269428, 0.7653974532622903, 0.9783019361635072, 0.6849930862786008, 0.9580431250275896, 0.8684599277269225, 0.8759625869426002, 0.6840472377015328, 0.3472060486730416, 0.8710259924845194, 0.7254387281522878, 0.9725393924306415, 0.8016911735375222, 0.8925889813529247, 0.7860546114801211, 0.5071668386670654, 3.7839454319919974, 1.9660117230495984, 1.8507794318613295, 1.5684123503326972, 1.5603029910068307, 1.8123159837369265, 1.7583056873903589, 1.9019382715979325, 2.1958356327901507, 2.0102331185935207, 3.6131445723139444, 1.7947987854822145, 3.8164193542819267, 2.987048671841658, 1.165215673528039, 1.9155523658153453, 1.7292331242984906, 2.3399871195367345, 3.4450198396576557, 1.9927299632203623, 3.946450557129364, 3.9944493098797067, 1.503399520225936, 1.1810222106235972, 2.079798045785356, 0.9407477517623621, 1.4505733220554011, 1.5097044273087, 1.2782448447241468, 1.4459033313314342, 0.8766981058055267, 1.056049292677765, 0.7455539894849269, 0.46495941405328534, 0.39536482215678825, 0.834765879482316, 1.0102111319950728, 0.8786350222489225, 1.3064320031477827, 0.7349347750043035, 1.3059541799615648, 1.191415055440753, 0.7983867570004919, 0.633089400258369, 0.9400437285963044, -0.23156087339002318, -0.5503767657842877, -0.2781637023582986, -0.8859458120731173, -0.7913438573030702, -0.7275137958289346, -0.9865176004831308, -0.9660351346272784, -0.5818664708754366, -0.7696654086768719, -0.9390589278138908, -0.7645019892237378, -2.074654004451591, -2.0874542005067185, -1.1613064635101393, -1.0554036748911388, -0.6797643791526504, -0.6512730992392782, -0.13090566494657804, 0.2189565117280728, 0.23862528156355292, 1.9776744468523713, 2.280608201383087, 2.3843382015730117, 2.1903315963372925, 1.969445059716209, 0.0693695424587693, -0.6377975836147184, 0.15776723918356755, 2.5891785624770107, 1.2675179041519598, 3.021302506544005, 3.085801073575658, 2.7559068053466067, 2.4736522514271346, 2.5372143573777857, 0.7652261386585947, 1.161126909498168, 1.290074338498407, 1.1648678934011565, 0.8302891039974589, 0.26109791692984724, 0.0724587849258236, 0.32899514766454496, 0.7946744167536284, 0.9799054991555906, 0.9348541099396988, 2.2644506107321405, 0.29845766232613685, 2.3285626664440207, 0.6910571695846905, -0.8536945847043137, -0.5636324990025782, -0.4147438222565813, -0.46709869712043717, -0.7073438276558202, -1.1331998329183146, -1.0741500167356424, -1.1595156502900126, -1.366633644383938, -0.8918423592190007, -1.1397333537850571, -1.3500276392081652, -1.3624060371333115, -1.4472046679015882, -1.5815953789267496, -1.2691971298362439, -1.8719184114759349, -2.085853696675128, -1.0863504109240567, 2.255890040577191, 2.047526722503488, 1.9559258233984587, 1.7925152022167354, 1.952580958719814, 2.1486226936075017, 1.9391831891725497, 1.9343908257321885, 1.234894123391142, 1.6938999507284107, 1.6728193455400502, 1.3234282022466963, 1.7890180063291088, -0.32509429195628303, -0.43624119122282, 0.16721639011937972, 2.051023314527799, 1.492069185345172, -0.19735665293067603, 1.613190076347113, 1.3016788210563632, -0.4173945363402408, 0.3039973419324766, 0.770895906474603, 0.19967681785619287, 2.256223146343512, 1.2246900690203126, -1.4137311221020903, -0.998004691100378, -2.222573616220329, -1.256789625534303, -1.0806488107448544, -1.3649514326061818, -1.3641837115633646, -1.3093487898684497, -1.477565750274341, -0.04965032685989093, 0.17145822889233134, 0.1548721415061712, 0.32871258461707875, 0.10458393631333, -1.5996476236212651, -1.5521621373877899, -1.136415876938322, -0.4886745636550159, -0.7781647200799613, -0.6250610238396676, -0.22857254872171162, -0.08534433089990602, 0.3178834386814816, 0.1546990207764567, 0.9349659731452948, 0.712217152240781, -0.06657546120990777, 0.582790911188249, 0.9047538690297952, 0.8328853000240103, 0.8784868963785772, 0.5147532920998088, 0.5228501968983142, 0.4054889372025367, 0.6140086159957636, 0.36098107624277653, 0.022106254862172124, 0.03658183712700894, -0.12835435366827552, 0.016782379425048437, -0.14068028876625488, -0.5264726813043227, -0.4010726672756222, -0.35248359467777013, -0.48613186872392705, -0.47416516207791415, -0.4921148252002224, -0.931531441286894, -0.9535740136083485, -0.4653551659262319, -0.47365867378015897, -0.49120115633136496, -0.28933463237832874, -0.2131976197168856, -0.2677530055837943, -0.2052640238849075, -0.05909972922240995, -0.20376428750485157, 0.22731954170338475, -0.7417895427077712, -1.136334755029808, -0.8056481226687257, -0.8665893521500232, -2.0650609650418343, -1.7118391517826976, -1.5058171566639142, -1.4752210033389224, -2.240837172016465, -2.549068561139833, -2.3350827560401854, -3.248180775717583, -3.2109045659216267, 1.6720959403209754, 1.8455048797482243, 1.647825206931074, -0.12586167735567289, 0.006028192390065161, -0.05724780377537991, -0.031629129287667854, 1.6688910263205612, 2.264941822109031, -0.5923736432092503, -0.4196674838872172, -1.5191988485436065, -0.19435796678910514, 1.8893329770803877, 2.0134301960464116, -0.15099536519999213, 1.5245356707718383, -0.6118426081390516, -1.0735167745357648, -0.2306204724418285, -0.4598495682724377, -0.06022711234501181, -0.7145220334908985, -0.48202717038363674, -2.971351850221296, -0.35694428895537406, -0.2977990303733569, -0.2595314146522475, -1.3841032864573015, -0.703218680119709, -1.0737292552078903, -1.097412956611023, -0.7635443464005933, -0.2989416941247664, -0.2080802361020553, -0.3350138551426184, -0.5782997722012957, -0.18063248834986242, -0.4061988708499297, -0.07766181275552231, -0.020860423836621227, -0.20317778151694163, -1.4564277130691228, -0.7236051560085602, -0.8313399175299615, -0.2893846766210296, -0.1712063039591887, -0.9484731467373199, -1.8808816727056055, -2.433562646847765, -1.096113785528735, -0.46253266179767094, -0.6568797940994524, -0.9155814872615357, -2.847746509668788, -1.3456018421752334, -2.1096566814003, -1.7392130579294556, -2.8282235938542004, -1.5387776721775208, -1.27918470081833, -1.8702958973179218, -3.60962877657543, -1.284644690167198, -0.30853491479058504, -0.3041863185300671, -0.9174037722350045, -1.5284444070868077, -1.8645495399690903, -1.6377345248490027, -1.9731861899355525, -2.4180263640743185, -1.1963787294994899, -1.161056043577362, -1.3094842090302734, -1.205728056375046, -1.2714653603635568, -0.9049035373129538, -1.1527077330297235, -0.9595652059971405, -1.2701252002266077, -1.4096520757765263, -1.4424206447706343, -0.30966424454439573, -0.7645090546564204, -0.15430766488468883, 0.051821900682188754, -0.0919477779352314, -0.7881058131581956, -1.1349839767980952, -0.2118064482574015, -0.1845713365354174, -0.2108046207826242, -0.3417627685779997, -1.1031011461108338, -0.09392561488867661, -0.1476336273773164, 0.02027145919939847, -1.21872050308213, -1.0397823559779615, -1.276956061615313, -1.5289973289016359, -0.6875750425254551, -0.33875134764310605, -0.4403155572564834, -0.10641927386553185, -0.2941170235585566, -0.1259414805249113, -0.6955616454901933, -1.0006450722733926, -1.3932876229403282, -0.611367075457421, -1.2351079760212398, -1.2245090970415584, -0.5556480076089549, -0.5270066076093328, -0.535843305760634, -0.4380428450739024, -0.7500741970623285, -0.6657853489487306, -0.24240733649171267, -0.9780281847039011, -0.4823714925467759, -0.6228562883642395, -0.9058119659839131, -0.6437421672171112, -0.5548301605513257, -1.287293891752797, -1.1600378654825683, -0.971662523806653, -0.7395427736318924, -0.957280532124153, 0.5087640804085912, 0.3769841984835181, 0.16682982244242436, 0.6696739862390616, 0.5265390556001318, 0.28539552888949243, 0.1851553801153597, -0.13911429866327107, 0.2590716995824868, 0.37801136004641317, 0.460694428244555, 0.4340384398100764, 0.5932179477394027, 0.7242845455852712, 0.759307618613677, 1.1552464405853375, 1.0413615828030314, 0.7619780481737246]}, {\"axis\": {\"matches\": true}, \"label\": \"PC 3\", \"values\": [0.3429427265232104, -0.6951993063923151, 0.16712159701509552, -0.10028413396580227, -0.07534820995913784, -0.672381092221135, -0.3719992976499044, -0.5185404322347207, -1.3496387146166928, -0.5584691744292741, -0.38524206790921606, -0.43541297987998184, -0.5619598467652209, -1.2851772187420767, -1.1883148773275272, -1.377934254036773, -1.1635367071939111, -1.4544303687984321, -1.4332604142473266, -1.5470238142286081, -2.0000025101877226, -1.4601290268936942, -1.4975679774952249, -1.8266294119036532, -1.6083470193639542, -1.5854728509046032, -1.595619167532532, -1.243551986981406, -0.9739890918890782, -0.7503117485502839, -1.8954043244664394, -1.2842343187728456, -1.4455549909298344, -1.7313146077776367, -1.0953494861983302, -1.1104392977659465, -1.18457804072308, -1.1429440491044154, -1.0723860339146465, 0.5527092479982523, 1.0072785250624827, -0.18361600541128534, -0.7236896595654776, -0.7850755255460268, -0.9896274888948888, -1.3465542798319765, -1.4052101374469117, -1.4046430476268825, -2.411495445844289, -1.6781139010542412, -0.8051613666785293, -0.533028436216329, -0.025630295541632465, -0.5779173323824868, -0.6594263444794723, 1.2685484685579413, 0.5262200634660187, 1.534618135320766, -0.5810837196271571, -0.866259002863232, -1.1824036896516152, -0.9910795469206563, -0.3451179690743825, -0.1875687135052157, -0.09358705836660518, 0.7561115854896779, 0.11388051781923061, -0.9777266432876001, -1.4145250237825808, -1.0051728621152265, -0.6529940348035507, -1.1396078571662505, -0.9302278326814923, -0.8043150010839674, -0.5392117464311688, -0.6005672609058142, -0.6961074724391075, -0.7771540135305042, -0.8026145986336223, -0.9924520884174393, -0.05811253107460737, -0.2406473068797907, -0.4705770883249315, -0.6029234241618449, -0.7957170163702678, -0.4578171544324473, -1.2202728841534003, -0.9531099919663837, 0.035752676343713874, 0.10660688777018444, -0.5516447649784595, -0.5485910393913981, -0.2127288208799846, -0.3244180587218072, -0.4868764440299798, -0.2512084474365306, -0.9366937744182928, 0.9224571924999612, 0.7702561489388677, 0.3027759528811303, -0.513624958141514, -0.4025641473350534, 0.2350709080408044, -1.1637938992358563, -1.087763413167117, -1.5115662514535764, -1.6098916071877984, -1.1611922150965726, -0.8392048813005433, -1.1511373637138125, -1.0787475240069755, 0.030121094295399244, -0.8716440313460075, -0.7628646663906214, -0.3387748354318315, -0.6756930986854586, -0.48344386709749987, -0.5596641000047101, -0.6798359096229218, -0.9085567337048047, -1.452058883171644, -1.3046956817923854, -1.4817510133354952, -1.822508724662452, -1.5420440474469714, -1.359399321417004, -2.0490009919082275, -1.5849671850234799, -0.9093036192553946, -1.6770203349295376, -0.7827934449456119, -0.8662659020009603, -0.766772575337696, -1.3974226513005563, -1.1037434543790776, -1.0419650871162227, -1.318629328857854, -0.8504783137338459, -1.5993534877175413, -1.2508844532286323, -1.418958631585957, -2.770516441487868, 0.25584956220597327, -0.7960587676670428, -1.4164388314424186, 0.4001319554045591, 0.39588633781839105, -1.4020722089080517, -1.0240282125212101, -0.39124462655157627, 0.22454143197348497, -0.2553302678514751, 0.589366924668446, 0.18986734145430859, 1.4954631218463517, 2.354860943283457, 0.38605061269847285, 1.0094569137867158, 0.2345022239300788, 0.8200963506478556, 1.6179867539661856, 1.5511327971743016, 2.905276100050797, 3.3323679211171178, -0.26028443891024267, 0.5492229175475877, 1.877132847279919, 0.2868340115703783, 0.48255560437825457, 0.43712309526588944, -0.040111462663523605, -0.09888976722665274, -1.168906175358471, -0.23843386250308202, -0.7165932703432526, 0.04520682114935017, -0.6050099188968532, -0.23152652799248583, 0.2295489747768115, -0.0050583724191841355, 0.5559596237549734, -0.8741319587543535, 0.1431528287593896, -0.4044669089512851, -1.5073616783392325, -0.9932855050644157, 0.7453979098582912, 1.0042594688945707, 0.9191582231011067, 1.366711572876467, 1.2087126106964268, 0.998610927364046, 1.438969757969924, 0.8311491718648024, 0.7386736461326211, 2.3615265477632326, 2.052695550717349, 1.8696156198587146, 1.9593896386081977, 1.4344014015436042, 1.6158607077387876, 0.760260969291623, 2.1558344321946272, 2.4222741706450295, 2.617966608589905, -1.140565002373281, -0.7955206898391917, -1.5145101569360335, 0.027185615110882997, -0.9573421372431059, -0.2088347784020202, -0.9240066095189648, -0.2536848534125152, -0.6449141784722019, -2.0664396079159206, -0.8420307202743339, 0.32630621193367626, -0.05954740447919938, 0.18445006677966103, 0.8194217368847474, 1.3292307211143053, 0.20712645347823117, 1.269084462584434, -0.030219659265165785, 1.5315738377114618, 1.9147917688424805, 1.3596339353966467, 0.5520030814175488, 1.1005013948198903, 0.1389493271983145, -0.6665997034713647, 0.7834475195822447, 1.642742994473552, 1.5333353662783342, 1.3023510779421026, -0.5418459744335926, 1.0572999021750846, 0.7079748683303578, 0.2584821484029732, 0.2974673348115235, 0.35858028636458567, -0.37632478039427836, -0.046601318229155524, 0.23130103530322696, -1.1767308572412618, -1.4408623187665204, -0.6465478816195646, -0.5694994485731485, -0.34264352260234754, -0.03270531475217654, -0.20028996488564152, -0.087385708311244, 0.2861842164179517, 1.35919885112967, 0.2942654203821782, -0.0021468380582057383, 1.8267076953226096, 2.790318579551987, 1.5424001040030901, 1.1288541536334347, 1.3364870425694868, 1.7009086072754598, 2.4941233072102036, 1.3782336478627681, 1.4093786346105004, -0.06340914620548954, 1.0154641721029591, 2.297717548846375, 1.7364624995045086, 0.0474237733227292, -1.1094950421967227, -0.5595203760733891, -0.3595562725527936, 1.8117568298892146, 1.5908926710347333, 0.5411152454996331, 1.9269532504911118, 1.6211139248615938, 0.0780279007245786, 0.5853759576725143, 1.4713367145551217, 0.7073174969293506, 2.524852961544086, 3.580911058125149, 1.3828228850432969, 0.38976064691621626, -0.03829377427301201, 0.15720342095024373, 0.22090198695983726, 0.45801399731401105, 0.7440954961056808, 0.9797281386592135, 0.500211737014476, -0.5485909146990859, -0.73159839090553, -0.013348686407695615, -0.165773798759712, -1.1480115108406406, 0.9890734586007203, 1.5817279289953194, 1.3008143105446957, 0.37995345940159797, 0.3860522241400025, 0.9189490039376272, 0.6173712248055024, 0.02365246591742553, 0.7827196419964213, 0.2581657574304726, -0.1624645861479404, -0.9199345082745816, -1.61068604184542, -0.6072424013486131, -0.9472518044715607, -0.5942223460896681, -0.40672713016343176, -1.2270203990299127, -1.289832239154629, -1.3281346304128858, -0.5868881560044158, -0.9102820507593111, -0.6742936463197031, -0.7051081465201409, -1.0162881506486248, -1.4475491609610425, -0.6348074160136822, -0.5764927480670239, -0.733555159760885, -1.1869384658913016, -0.6713556731340425, -0.15021561435114889, -0.37942474030348416, -0.8239091980731417, -0.26942437566281036, -0.8708407768183529, -0.9155813738007412, -1.204667244778512, -1.4035590247449938, -1.4206708688940999, -1.176475260129148, -1.292091450690149, -1.2976808556131, 0.9067653517934389, -0.02168901611482517, 0.6253785864432255, 0.9021694970197723, -1.1016655045793222, -1.2122220882339283, 0.6898461948203783, 0.801721373228151, 0.10991461608356315, -0.3018669092193884, 0.480439067071634, -0.25393039430920505, 0.8760432303821049, -0.8180878596593856, -0.4686805605123544, 1.5413732560030577, 1.6611684341065396, 1.5263528777232722, 0.3219164934204294, 0.8034407379414769, 0.5012924349766786, -0.20367417071700677, 1.2611389398870834, 4.053251896636565, -1.5392487618704296, -0.5132563894220377, -0.6201337724521867, -0.35306896121242476, 2.245101621392312, 2.5288146275306302, 0.6256824809105539, 1.5820502622180233, -1.4363020904911619, -1.9930129553903675, 1.6438082266101939, 0.7048801703123135, 0.6303710867411432, 0.5860052900478095, 0.3667556585153601, 3.2025779817193905, 0.5952809383863875, -0.5164369970367916, -0.599062947067729, -1.08081266885694, -0.7818195210798448, -1.000610593502618, -0.891152917241435, -1.1078941765580497, -0.5695650829672426, -0.18577205715817202, 0.046822091669021834, -0.951373808703602, 0.3318091156891083, 0.16289856929078808, 0.5099776090135029, 0.27501913921578985, -0.239002987813628, -0.016602804527173148, -0.26467566748965327, 0.19409698051101848, 0.42691290916182706, 0.412635393647634, -0.0909823832316324, 0.4890406213336026, 1.3520601066354063, -1.3043961761474825, 0.23050291464096406, -0.43647984047515404, 1.5017923978724501, 2.573056393535037, 1.7452141604088853, -0.3072991724624474, 0.35557505122194194, 0.17775560240500224, 1.4833020581544472, 1.716580107242096, 0.5245451068782796, 3.022527613267895, 1.856219568601369, 0.8690372619956153, 0.3827800162105988, 0.27184572956072717, 1.1205821484360772, 0.9177919754903104, 1.20415790932134, 1.2414121707050707, 2.433000802499344, 1.0363928952706951, 1.2621324481982859, 1.2816865242143767, 1.6614029455161612, 1.4539306366677724, 1.39812182107521, 1.4798759827779335, 1.4544022976259343, 1.875904135896328, 1.3794274282293741, 0.6830522469258687, -0.36661172318142443, 0.20482524305585575, 0.45596267417103653, 0.2585957710884249, 0.5525977462733337, 0.4003907907644228, 1.4928655017866665, 0.5910699141528567, 0.43464454403028074, 0.23983615806496872, 0.6473490452196892, 1.9754587972847621, 0.6759930328648712, 0.28584801369177704, 1.3473532893328404, 1.9644309159455042, 1.5383556747063314, 1.1672447992851294, 1.3352607723370813, 0.771299882187622, 0.2058784327214201, 1.074611213298297, 0.3872375868702775, 0.4284364060597208, 0.7130542009083228, 0.34489287590030643, 0.009939310582367081, 1.087484994232206, -0.09718462349937718, 0.1557254160235472, -0.05181939591367371, 0.002582102709308162, 0.12337942614768106, 0.30141304801081403, 1.0031668431664127, -0.42933264884744216, 0.08983591541979866, 0.24535064207311597, -0.5387280429296954, 0.226082040465164, 0.56385698761002, 0.2688270895745692, 0.8160284903466621, 1.0967166100496637, -0.19911529553227886, -0.09462483890104013, 0.3475151762298307, 0.05284224428264244, 0.02424147578171644, -1.3369278349983553, -1.4250361296861025, -1.8267646648515012, -0.8795224766570343, -0.7211552991408781, -1.0926409981699343, -0.9562445358149821, -1.3151386554525004, -1.7209863466283732, -1.1170307909150443, -0.8685490050233331, -1.3339013149173282, -0.9261310668165418, -0.8608962564192109, -1.255978525975228, -0.4085975881198391, -0.5854540645610645, -1.294882003003008]}, {\"axis\": {\"matches\": true}, \"label\": \"PC 4\", \"values\": [-0.8917740337569405, -0.48745853343855566, -0.7392041921231278, -0.3437212388823445, -0.4279068752949925, -0.17591015445164526, -0.39813382099887856, -0.5377582325809971, -0.24592001766156865, -0.3799322603628493, -0.5627815910172952, -0.4194792067759047, -0.16569740413745584, 0.19167214567759747, -0.04534003638667784, 0.24893211534526685, 0.346499145862909, 0.04998086761953546, 0.2877136159274224, 0.15822762765223697, 0.11492648108075718, -0.008913101607401054, -0.040481585140506, 0.05661069408365502, 0.04323857276529581, 0.06586283655946142, 0.09290767607490122, -0.11887228096391421, -0.22694082830174106, -0.2969230484605283, 0.11144878001219462, -0.13557576378117997, -0.11690256217674745, 0.021194294499808634, -0.3327448448066143, -0.169461959816174, -0.1071738591157618, 0.08010390274794109, 0.10274185690659299, 0.33006104748709725, 0.17320786876460326, -0.09298794010664557, 0.1299781795596137, 0.15028877023468576, 0.009233790093823071, 0.15966509063906487, 0.15966484377825607, -0.16492799166996147, 0.16947069860349925, 0.17568853887879282, 0.177625593190854, -0.033300905872029454, 0.03456073933205477, 0.26838463790798317, 1.2742731990379836, 0.4791485034293363, 0.6935906351937142, 0.18347642998018826, 0.7077219468590137, 0.6263967892628621, 0.6476824728771008, 0.3278505993013526, 0.29246365869852725, 0.42415531677895696, 0.023635221178036913, 0.44847752950949904, 0.6209395921615583, 0.6038585366532744, 0.6718243279910705, 0.5372810017077673, 0.2733766306417174, 0.4064593492790073, 0.40822436426539915, 0.3412546983693284, 0.23521609860755976, 0.012284402326344403, -0.2029932592165462, 0.04323364029664118, 0.07071044425864496, 0.2544950808444649, 0.07150524918243557, -0.09876691014464332, 0.2633789121109738, 0.22311743864735908, -0.17107719041123842, -0.3913925997666967, -0.00971917271609154, -0.23900503241201637, -0.9754144170401031, -0.8600193072765961, -0.6240267703076033, -0.6713059714925734, -0.2043627270725628, 0.025240058825633318, -0.25294293195583883, -0.6206069472174864, -0.40132170730895345, -1.263082497839071, -0.9326689758200098, -0.8990464500695429, -0.3554569509343866, -0.3312023871823891, -0.853627488980796, -0.13376456991413918, -0.20664092226654424, -0.11148708261071383, -0.040344656099649455, -0.18349810730745197, -0.36833674516784604, -0.19666738522637803, 0.04827925749353181, -0.7498274299083059, -0.4749792824021275, -0.5293053921482949, -0.634393557512901, -0.5369388680945177, -0.4579969440492582, -0.47174709235706436, -0.4346887269132783, -0.21960146205618683, -0.39132332399553676, -0.5629459966567009, -0.5753596449207368, -0.5147043736147712, -0.5698856961181665, -0.5839513919850884, -0.42866966238923704, -0.09759639484497841, -0.41576523128520254, -0.02297796967103132, -0.42632158931781894, -0.3442016595150571, -0.39406716694829347, -0.10244920210072038, -0.31366772964705025, -0.33028549114179506, -0.19123814758625104, -0.4314478868991651, -0.1491319056375251, -0.2815090356587317, -0.2323858042634133, 0.29742631248900625, 2.1513929890575465, -1.0792863553741827, -0.8280175569423222, -1.7559109241946051, -1.6620800206147957, -0.8225692770907519, -0.9838082582101022, -1.2288022803630874, -1.4847262639291512, -1.2840054491786201, 2.154146593034461, -1.5113826775856951, 1.6621712139940876, 1.319859365668716, -1.6117238451147995, -1.6053059612137588, -1.2820801107495625, -1.72414244513303, 1.8730981492515704, -1.7786437362416416, 1.3054565403743381, 1.124830995763828, -0.9448582400828015, -1.364439458697164, -1.9668745554164224, -1.1829150342439179, -1.376435037948186, -1.3232777973658958, -1.1405491039964748, -1.0754148475694425, -0.5268879362738992, -0.889621839678591, -0.5637280483989047, -0.6187321143719097, -0.4023054769895936, -0.7406858863449151, -1.0077508262988615, -0.889270541628767, -1.3451199820241742, -0.5594351796822542, -1.190002171938079, -0.9459730803127551, -0.4423115266013491, -0.5164754907827825, -1.175279213587391, -0.46952247384464346, -0.26539527129905954, -0.5441457474907971, -0.18455190953082865, -0.13966761642948575, -0.30326159132564456, -0.019507218175063297, -0.033783265671498273, -0.700194985769463, -0.4898771029885843, -0.46805833690486565, -0.4948343859445448, 0.510683993998587, 0.43099981989280883, 0.14239318665722375, -0.33416130498215174, -0.6324196606457977, -0.7099511702810355, 0.13313599837416543, -0.18908246553036023, -0.038777846374372045, 3.0884998213372135, 3.1971590208797007, 2.9350995891670593, 3.227856757007875, 3.195869109398787, -0.15760298291306132, 0.46007749336325465, -0.12764268592771158, 2.7399195393575178, -0.9638019189486268, 2.5073602272203384, 2.3179227796068953, 2.273830674298172, 2.7112913205258664, 2.4135595539236414, -0.7277503417726583, -1.4640268802022307, -1.6761400233259554, -1.396911086431012, -1.0018325005370698, -0.8172126921829937, -0.3866090550070034, -0.34518098045972545, -1.03893522152165, -1.3806949881381512, -1.3459598387488954, 2.508067062894868, -0.3632968098527757, 2.6017566463981856, -0.9178244370388171, 0.07657340579784339, -0.10308283765252892, -0.22685739488564252, 0.04255071052855547, 0.033145957571235375, 0.24527304700601776, 0.613909091614636, 0.7369910914255582, 0.6786723046345086, 0.33815855615092694, 0.41049123283797506, 0.4999904621526172, 0.5742608171123594, 0.561957098584404, 0.5373458743394682, 0.02903550384893709, 0.6984747150132636, 0.9018046371375911, -0.21985066878111678, -2.484908888170502, -1.9943772356374403, -1.7789580593995638, -1.7725451639655847, -1.9746780687326895, -2.3395375513109467, -1.8853034316476558, -1.8769388313784408, -1.0010234531756592, -1.6760745527154708, -2.0421158687335317, -1.6069555797316644, 3.1872623457413574, 0.16068257934117633, 0.1198112099487559, -0.3087005168406729, 2.516825889310239, 2.989924009443203, -0.31139439285982523, 2.76954729303529, 3.075966860822081, -0.0681822338204705, -0.7011821138350603, -1.2741162153395895, -0.6899395699637954, 2.1306068292675686, 2.4647819602793075, 0.07869540265989981, 0.09332893610324498, 0.7991623160116125, 0.40704256021011, 0.2801017349048534, 0.2936394204280558, 0.3293435260512715, 0.21841511162088026, 0.46306047444642773, -0.06654667550439206, -0.1505796555099962, -0.3412012520659726, -0.41074734646832367, -0.023795621603178677, 0.2848448828184812, 0.07341546753151917, -0.04316725528416561, -0.12741016362559313, 0.01754272404545094, -0.19719210118415054, -0.3928358187236488, -0.29881551748461693, -0.7511759554790135, -0.49427095989261133, -0.7348917624005774, -0.40515823209391555, 0.13465372742280624, -0.3979812989488625, -0.5218917184176991, -0.5702548551107485, -0.6654528164582879, -0.2038436866605012, -0.2598149802920706, -0.14433421402391378, -0.4635586378504558, -0.23014625477380027, -0.10262714825067179, -0.09821098192877956, 0.09091887850569802, 0.10017878607419055, -0.01297431205382369, 0.19289721847838842, 0.1691574917487861, 0.2326482635345693, 0.10001854408716962, -0.07122210400190854, -0.01703331402733459, 0.44174983735397017, 0.24004237697224942, 0.20722163797776957, 0.2168697361656179, 0.32860364562292993, 0.26238186853792594, 0.21194543710025096, 0.1856388795258689, 0.17828332661327556, 0.0991289219677712, -0.5389821629427346, -0.5201526621225319, -0.020887697546810278, 0.11790878968734533, 0.40599218805089643, 0.4108763758965946, 0.7405753707802131, 0.45377125540302315, 0.47005087583221705, 0.6019948303530369, 0.8037920975747049, 1.252167685763564, 0.7787336721622086, 1.8363351168337347, 1.7059945387747293, 3.119134497539057, 3.071191751699153, 3.24780850154944, 0.025545172178624537, -0.2049523869933602, -0.17527998499617406, 0.14429010321378558, 3.2040559154980524, 2.016046910514015, 0.8515606482299667, 0.27288014600295635, 0.45368069168578273, 0.2839149400233325, 2.84695491192443, 2.723318416424466, -0.1560525294149663, 3.168635978259807, 0.6430369976162282, 1.0304931150047763, -0.44127541466573433, -0.1425538799751759, -0.22959204144247067, 0.07819736699588213, 0.051299570608001076, 0.27960651604725645, -0.07347538219960396, 0.2748558743738132, 0.27716174733994275, 0.7237010705243287, 0.4993904926353372, 0.7714898211067838, 0.726223708073709, 0.59902157567795, 0.32099889260042297, 0.17453159431885562, 0.1288743618597711, 0.550263489337528, 0.0017462435212089063, 0.15542852365515564, -0.14431862816314467, -0.09496474786739739, 0.156826406744545, 0.5841526003882372, 0.24511575670657676, 0.2480302516070123, -0.03625086238532984, -0.12585328445444902, 0.46979841988685284, 0.5230137340140663, 0.6021049886259945, 0.8689733759452747, 0.049786607652135384, 0.21922877384389758, -0.5502107500816322, -0.2747154144670416, -0.7212949180448236, 0.2431011796688871, 0.3043693997976368, 0.5199251609730489, -0.6007447514789818, -0.7784265698599607, 0.11768427656951426, -0.1167335589152883, -0.724916600556789, -0.28054321862935655, -0.10808543379647167, 0.1740742827968796, -0.46548797459442304, -0.16761983502929492, -0.4468365585214629, -0.16585794049320773, -0.38862894605947, -0.37957286624648, -0.5874641351954362, -0.42835715223338316, -0.6423715141574912, -0.4161275654619182, -0.5945092957441541, -0.5066956944091053, -0.6363316241913864, -0.7530909798288816, -0.6267646611056319, -0.30117138967081464, 0.25088709757844835, 0.2623474391634524, -0.1061956326914347, -0.09476601206997287, -0.167454371165328, -0.10417827116651959, -0.7036274908795943, -0.24159054913324754, -0.05068260035283406, 0.026680138186830158, -0.24413645323754316, -0.912580649155247, -0.2572142458717204, -0.024842453317883536, -0.5005303603506022, -0.8516601559709451, -0.6874727042321765, -0.5286547368143447, -0.4526234846350311, -0.1330109182201153, 0.15249239869315798, -0.4018254716707021, -0.03869191076856091, 0.06064564957413108, -0.10149781684318612, 0.30219225675380185, 0.45957643917036667, -0.40830957533311446, 0.17158573726702583, 0.5092346322329283, 0.6760608645548997, 0.2981188295499604, 0.2530986385647941, 0.20133223730007568, -0.09757273569099598, 0.419426970283799, 0.044229826381245244, 0.025097424305782882, 0.5000565070688048, 0.113217701143223, 0.11566824389476914, 0.4381777065907544, 0.12498378496460603, -0.007196183823506152, 0.8190421656787357, 0.654932449004729, 0.45926119314692226, 0.3837472357067421, 0.5439738156362033, 0.09070705617581262, 0.02854181417867918, 0.1740115233756321, -0.16335868233064577, -0.07661153282133623, -0.06938510891435941, -0.06976559526661089, 0.19287026890670853, 0.07194677316662584, -0.13423665312276586, -0.2523766587380228, -0.10583858060615248, -0.3225544588979023, -0.43473963324557974, -0.30937553416344304, -0.7863040937209944, -0.6781339058517011, -0.2883291998629593]}], \"hoverlabel\": {\"namelength\": 0}, \"hovertemplate\": \"%{xaxis.title.text}=%{x}<br>%{yaxis.title.text}=%{y}<br>Median Price=%{marker.color}\", \"legendgroup\": \"\", \"marker\": {\"color\": [24.0, 21.6, 34.7, 33.4, 36.2, 28.7, 22.9, 27.1, 16.5, 18.9, 15.0, 18.9, 21.7, 20.4, 18.2, 19.9, 23.1, 17.5, 20.2, 18.2, 13.6, 19.6, 15.2, 14.5, 15.6, 13.9, 16.6, 14.8, 18.4, 21.0, 12.7, 14.5, 13.2, 13.1, 13.5, 18.9, 20.0, 21.0, 24.7, 30.8, 34.9, 26.6, 25.3, 24.7, 21.2, 19.3, 20.0, 16.6, 14.4, 19.4, 19.7, 20.5, 25.0, 23.4, 18.9, 35.4, 24.7, 31.6, 23.3, 19.6, 18.7, 16.0, 22.2, 25.0, 33.0, 23.5, 19.4, 22.0, 17.4, 20.9, 24.2, 21.7, 22.8, 23.4, 24.1, 21.4, 20.0, 20.8, 21.2, 20.3, 28.0, 23.9, 24.8, 22.9, 23.9, 26.6, 22.5, 22.2, 23.6, 28.7, 22.6, 22.0, 22.9, 25.0, 20.6, 28.4, 21.4, 38.7, 43.8, 33.2, 27.5, 26.5, 18.6, 19.3, 20.1, 19.5, 19.5, 20.4, 19.8, 19.4, 21.7, 22.8, 18.8, 18.7, 18.5, 18.3, 21.2, 19.2, 20.4, 19.3, 22.0, 20.3, 20.5, 17.3, 18.8, 21.4, 15.7, 16.2, 18.0, 14.3, 19.2, 19.6, 23.0, 18.4, 15.6, 18.1, 17.4, 17.1, 13.3, 17.8, 14.0, 14.4, 13.4, 15.6, 11.8, 13.8, 15.6, 14.6, 17.8, 15.4, 21.5, 19.6, 15.3, 19.4, 17.0, 15.6, 13.1, 41.3, 24.3, 23.3, 27.0, 50.0, 50.0, 50.0, 22.7, 25.0, 50.0, 23.8, 23.8, 22.3, 17.4, 19.1, 23.1, 23.6, 22.6, 29.4, 23.2, 24.6, 29.9, 37.2, 39.8, 36.2, 37.9, 32.5, 26.4, 29.6, 50.0, 32.0, 29.8, 34.9, 37.0, 30.5, 36.4, 31.1, 29.1, 50.0, 33.3, 30.3, 34.6, 34.9, 32.9, 24.1, 42.3, 48.5, 50.0, 22.6, 24.4, 22.5, 24.4, 20.0, 21.7, 19.3, 22.4, 28.1, 23.7, 25.0, 23.3, 28.7, 21.5, 23.0, 26.7, 21.7, 27.5, 30.1, 44.8, 50.0, 37.6, 31.6, 46.7, 31.5, 24.3, 31.7, 41.7, 48.3, 29.0, 24.0, 25.1, 31.5, 23.7, 23.3, 22.0, 20.1, 22.2, 23.7, 17.6, 18.5, 24.3, 20.5, 24.5, 26.2, 24.4, 24.8, 29.6, 42.8, 21.9, 20.9, 44.0, 50.0, 36.0, 30.1, 33.8, 43.1, 48.8, 31.0, 36.5, 22.8, 30.7, 50.0, 43.5, 20.7, 21.1, 25.2, 24.4, 35.2, 32.4, 32.0, 33.2, 33.1, 29.1, 35.1, 45.4, 35.4, 46.0, 50.0, 32.2, 22.0, 20.1, 23.2, 22.3, 24.8, 28.5, 37.3, 27.9, 23.9, 21.7, 28.6, 27.1, 20.3, 22.5, 29.0, 24.8, 22.0, 26.4, 33.1, 36.1, 28.4, 33.4, 28.2, 22.8, 20.3, 16.1, 22.1, 19.4, 21.6, 23.8, 16.2, 17.8, 19.8, 23.1, 21.0, 23.8, 23.1, 20.4, 18.5, 25.0, 24.6, 23.0, 22.2, 19.3, 22.6, 19.8, 17.1, 19.4, 22.2, 20.7, 21.1, 19.5, 18.5, 20.6, 19.0, 18.7, 32.7, 16.5, 23.9, 31.2, 17.5, 17.2, 23.1, 24.5, 26.6, 22.9, 24.1, 18.6, 30.1, 18.2, 20.6, 17.8, 21.7, 22.7, 22.6, 25.0, 19.9, 20.8, 16.8, 21.9, 27.5, 21.9, 23.1, 50.0, 50.0, 50.0, 50.0, 50.0, 13.8, 13.8, 15.0, 13.9, 13.3, 13.1, 10.2, 10.4, 10.9, 11.3, 12.3, 8.8, 7.2, 10.5, 7.4, 10.2, 11.5, 15.1, 23.2, 9.7, 13.8, 12.7, 13.1, 12.5, 8.5, 5.0, 6.3, 5.6, 7.2, 12.1, 8.3, 8.5, 5.0, 11.9, 27.9, 17.2, 27.5, 15.0, 17.2, 17.9, 16.3, 7.0, 7.2, 7.5, 10.4, 8.8, 8.4, 16.7, 14.2, 20.8, 13.4, 11.7, 8.3, 10.2, 10.9, 11.0, 9.5, 14.5, 14.1, 16.1, 14.3, 11.7, 13.4, 9.6, 8.7, 8.4, 12.8, 10.5, 17.1, 18.4, 15.4, 10.8, 11.8, 14.9, 12.6, 14.1, 13.0, 13.4, 15.2, 16.1, 17.8, 14.9, 14.1, 12.7, 13.5, 14.9, 20.0, 16.4, 17.7, 19.5, 20.2, 21.4, 19.9, 19.0, 19.1, 19.1, 20.1, 19.9, 19.6, 23.2, 29.8, 13.8, 13.3, 16.7, 12.0, 14.6, 21.4, 23.0, 23.7, 25.0, 21.8, 20.6, 21.2, 19.1, 20.6, 15.2, 7.0, 8.1, 13.6, 20.1, 21.8, 24.5, 23.1, 19.7, 18.3, 21.2, 17.5, 16.8, 22.4, 20.6, 23.9, 22.0, 11.9], \"coloraxis\": \"coloraxis\", \"symbol\": \"circle\"}, \"name\": \"\", \"showlegend\": false, \"type\": \"splom\"}],\n",
              "                        {\"coloraxis\": {\"colorbar\": {\"title\": {\"text\": \"Median Price\"}}, \"colorscale\": [[0.0, \"#0d0887\"], [0.1111111111111111, \"#46039f\"], [0.2222222222222222, \"#7201a8\"], [0.3333333333333333, \"#9c179e\"], [0.4444444444444444, \"#bd3786\"], [0.5555555555555556, \"#d8576b\"], [0.6666666666666666, \"#ed7953\"], [0.7777777777777778, \"#fb9f3a\"], [0.8888888888888888, \"#fdca26\"], [1.0, \"#f0f921\"]]}, \"dragmode\": \"select\", \"legend\": {\"tracegroupgap\": 0}, \"margin\": {\"t\": 60}, \"template\": {\"data\": {\"bar\": [{\"error_x\": {\"color\": \"#2a3f5f\"}, \"error_y\": {\"color\": \"#2a3f5f\"}, \"marker\": {\"line\": {\"color\": \"#E5ECF6\", \"width\": 0.5}}, \"type\": \"bar\"}], \"barpolar\": [{\"marker\": {\"line\": {\"color\": \"#E5ECF6\", \"width\": 0.5}}, \"type\": \"barpolar\"}], \"carpet\": [{\"aaxis\": {\"endlinecolor\": \"#2a3f5f\", \"gridcolor\": \"white\", \"linecolor\": \"white\", \"minorgridcolor\": \"white\", \"startlinecolor\": \"#2a3f5f\"}, \"baxis\": {\"endlinecolor\": \"#2a3f5f\", \"gridcolor\": \"white\", \"linecolor\": \"white\", \"minorgridcolor\": \"white\", \"startlinecolor\": \"#2a3f5f\"}, \"type\": \"carpet\"}], \"choropleth\": [{\"colorbar\": {\"outlinewidth\": 0, \"ticks\": \"\"}, \"type\": \"choropleth\"}], \"contour\": [{\"colorbar\": {\"outlinewidth\": 0, \"ticks\": \"\"}, \"colorscale\": [[0.0, \"#0d0887\"], [0.1111111111111111, \"#46039f\"], [0.2222222222222222, \"#7201a8\"], [0.3333333333333333, \"#9c179e\"], [0.4444444444444444, \"#bd3786\"], [0.5555555555555556, \"#d8576b\"], [0.6666666666666666, \"#ed7953\"], [0.7777777777777778, \"#fb9f3a\"], [0.8888888888888888, \"#fdca26\"], [1.0, \"#f0f921\"]], \"type\": \"contour\"}], \"contourcarpet\": [{\"colorbar\": {\"outlinewidth\": 0, \"ticks\": \"\"}, \"type\": \"contourcarpet\"}], \"heatmap\": [{\"colorbar\": {\"outlinewidth\": 0, \"ticks\": \"\"}, \"colorscale\": [[0.0, \"#0d0887\"], [0.1111111111111111, \"#46039f\"], [0.2222222222222222, \"#7201a8\"], [0.3333333333333333, \"#9c179e\"], [0.4444444444444444, \"#bd3786\"], [0.5555555555555556, \"#d8576b\"], [0.6666666666666666, \"#ed7953\"], [0.7777777777777778, \"#fb9f3a\"], [0.8888888888888888, \"#fdca26\"], [1.0, \"#f0f921\"]], \"type\": \"heatmap\"}], \"heatmapgl\": [{\"colorbar\": {\"outlinewidth\": 0, \"ticks\": \"\"}, \"colorscale\": [[0.0, \"#0d0887\"], [0.1111111111111111, \"#46039f\"], [0.2222222222222222, \"#7201a8\"], [0.3333333333333333, \"#9c179e\"], [0.4444444444444444, \"#bd3786\"], [0.5555555555555556, \"#d8576b\"], [0.6666666666666666, \"#ed7953\"], [0.7777777777777778, \"#fb9f3a\"], [0.8888888888888888, \"#fdca26\"], [1.0, \"#f0f921\"]], \"type\": \"heatmapgl\"}], \"histogram\": [{\"marker\": {\"colorbar\": {\"outlinewidth\": 0, \"ticks\": \"\"}}, \"type\": \"histogram\"}], \"histogram2d\": [{\"colorbar\": {\"outlinewidth\": 0, \"ticks\": \"\"}, \"colorscale\": [[0.0, \"#0d0887\"], [0.1111111111111111, \"#46039f\"], [0.2222222222222222, \"#7201a8\"], [0.3333333333333333, \"#9c179e\"], [0.4444444444444444, \"#bd3786\"], [0.5555555555555556, \"#d8576b\"], [0.6666666666666666, \"#ed7953\"], [0.7777777777777778, \"#fb9f3a\"], [0.8888888888888888, \"#fdca26\"], [1.0, \"#f0f921\"]], \"type\": \"histogram2d\"}], \"histogram2dcontour\": [{\"colorbar\": {\"outlinewidth\": 0, \"ticks\": \"\"}, \"colorscale\": [[0.0, \"#0d0887\"], [0.1111111111111111, \"#46039f\"], [0.2222222222222222, \"#7201a8\"], [0.3333333333333333, \"#9c179e\"], [0.4444444444444444, \"#bd3786\"], [0.5555555555555556, \"#d8576b\"], [0.6666666666666666, \"#ed7953\"], [0.7777777777777778, \"#fb9f3a\"], [0.8888888888888888, \"#fdca26\"], [1.0, \"#f0f921\"]], \"type\": \"histogram2dcontour\"}], \"mesh3d\": [{\"colorbar\": {\"outlinewidth\": 0, \"ticks\": \"\"}, \"type\": \"mesh3d\"}], \"parcoords\": [{\"line\": {\"colorbar\": {\"outlinewidth\": 0, \"ticks\": \"\"}}, \"type\": \"parcoords\"}], \"pie\": [{\"automargin\": true, \"type\": \"pie\"}], \"scatter\": [{\"marker\": {\"colorbar\": {\"outlinewidth\": 0, \"ticks\": \"\"}}, \"type\": \"scatter\"}], \"scatter3d\": [{\"line\": {\"colorbar\": {\"outlinewidth\": 0, \"ticks\": \"\"}}, \"marker\": {\"colorbar\": {\"outlinewidth\": 0, \"ticks\": \"\"}}, \"type\": \"scatter3d\"}], \"scattercarpet\": [{\"marker\": {\"colorbar\": {\"outlinewidth\": 0, \"ticks\": \"\"}}, \"type\": \"scattercarpet\"}], \"scattergeo\": [{\"marker\": {\"colorbar\": {\"outlinewidth\": 0, \"ticks\": \"\"}}, \"type\": \"scattergeo\"}], \"scattergl\": [{\"marker\": {\"colorbar\": {\"outlinewidth\": 0, \"ticks\": \"\"}}, \"type\": \"scattergl\"}], \"scattermapbox\": [{\"marker\": {\"colorbar\": {\"outlinewidth\": 0, \"ticks\": \"\"}}, \"type\": \"scattermapbox\"}], \"scatterpolar\": [{\"marker\": {\"colorbar\": {\"outlinewidth\": 0, \"ticks\": \"\"}}, \"type\": \"scatterpolar\"}], \"scatterpolargl\": [{\"marker\": {\"colorbar\": {\"outlinewidth\": 0, \"ticks\": \"\"}}, \"type\": \"scatterpolargl\"}], \"scatterternary\": [{\"marker\": {\"colorbar\": {\"outlinewidth\": 0, \"ticks\": \"\"}}, \"type\": \"scatterternary\"}], \"surface\": [{\"colorbar\": {\"outlinewidth\": 0, \"ticks\": \"\"}, \"colorscale\": [[0.0, \"#0d0887\"], [0.1111111111111111, \"#46039f\"], [0.2222222222222222, \"#7201a8\"], [0.3333333333333333, \"#9c179e\"], [0.4444444444444444, \"#bd3786\"], [0.5555555555555556, \"#d8576b\"], [0.6666666666666666, \"#ed7953\"], [0.7777777777777778, \"#fb9f3a\"], [0.8888888888888888, \"#fdca26\"], [1.0, \"#f0f921\"]], \"type\": \"surface\"}], \"table\": [{\"cells\": {\"fill\": {\"color\": \"#EBF0F8\"}, \"line\": {\"color\": \"white\"}}, \"header\": {\"fill\": {\"color\": \"#C8D4E3\"}, \"line\": {\"color\": \"white\"}}, \"type\": \"table\"}]}, \"layout\": {\"annotationdefaults\": {\"arrowcolor\": \"#2a3f5f\", \"arrowhead\": 0, \"arrowwidth\": 1}, \"coloraxis\": {\"colorbar\": {\"outlinewidth\": 0, \"ticks\": \"\"}}, \"colorscale\": {\"diverging\": [[0, \"#8e0152\"], [0.1, \"#c51b7d\"], [0.2, \"#de77ae\"], [0.3, \"#f1b6da\"], [0.4, \"#fde0ef\"], [0.5, \"#f7f7f7\"], [0.6, \"#e6f5d0\"], [0.7, \"#b8e186\"], [0.8, \"#7fbc41\"], [0.9, \"#4d9221\"], [1, \"#276419\"]], \"sequential\": [[0.0, \"#0d0887\"], [0.1111111111111111, \"#46039f\"], [0.2222222222222222, \"#7201a8\"], [0.3333333333333333, \"#9c179e\"], [0.4444444444444444, \"#bd3786\"], [0.5555555555555556, \"#d8576b\"], [0.6666666666666666, \"#ed7953\"], [0.7777777777777778, \"#fb9f3a\"], [0.8888888888888888, \"#fdca26\"], [1.0, \"#f0f921\"]], \"sequentialminus\": [[0.0, \"#0d0887\"], [0.1111111111111111, \"#46039f\"], [0.2222222222222222, \"#7201a8\"], [0.3333333333333333, \"#9c179e\"], [0.4444444444444444, \"#bd3786\"], [0.5555555555555556, \"#d8576b\"], [0.6666666666666666, \"#ed7953\"], [0.7777777777777778, \"#fb9f3a\"], [0.8888888888888888, \"#fdca26\"], [1.0, \"#f0f921\"]]}, \"colorway\": [\"#636efa\", \"#EF553B\", \"#00cc96\", \"#ab63fa\", \"#FFA15A\", \"#19d3f3\", \"#FF6692\", \"#B6E880\", \"#FF97FF\", \"#FECB52\"], \"font\": {\"color\": \"#2a3f5f\"}, \"geo\": {\"bgcolor\": \"white\", \"lakecolor\": \"white\", \"landcolor\": \"#E5ECF6\", \"showlakes\": true, \"showland\": true, \"subunitcolor\": \"white\"}, \"hoverlabel\": {\"align\": \"left\"}, \"hovermode\": \"closest\", \"mapbox\": {\"style\": \"light\"}, \"paper_bgcolor\": \"white\", \"plot_bgcolor\": \"#E5ECF6\", \"polar\": {\"angularaxis\": {\"gridcolor\": \"white\", \"linecolor\": \"white\", \"ticks\": \"\"}, \"bgcolor\": \"#E5ECF6\", \"radialaxis\": {\"gridcolor\": \"white\", \"linecolor\": \"white\", \"ticks\": \"\"}}, \"scene\": {\"xaxis\": {\"backgroundcolor\": \"#E5ECF6\", \"gridcolor\": \"white\", \"gridwidth\": 2, \"linecolor\": \"white\", \"showbackground\": true, \"ticks\": \"\", \"zerolinecolor\": \"white\"}, \"yaxis\": {\"backgroundcolor\": \"#E5ECF6\", \"gridcolor\": \"white\", \"gridwidth\": 2, \"linecolor\": \"white\", \"showbackground\": true, \"ticks\": \"\", \"zerolinecolor\": \"white\"}, \"zaxis\": {\"backgroundcolor\": \"#E5ECF6\", \"gridcolor\": \"white\", \"gridwidth\": 2, \"linecolor\": \"white\", \"showbackground\": true, \"ticks\": \"\", \"zerolinecolor\": \"white\"}}, \"shapedefaults\": {\"line\": {\"color\": \"#2a3f5f\"}}, \"ternary\": {\"aaxis\": {\"gridcolor\": \"white\", \"linecolor\": \"white\", \"ticks\": \"\"}, \"baxis\": {\"gridcolor\": \"white\", \"linecolor\": \"white\", \"ticks\": \"\"}, \"bgcolor\": \"#E5ECF6\", \"caxis\": {\"gridcolor\": \"white\", \"linecolor\": \"white\", \"ticks\": \"\"}}, \"title\": {\"x\": 0.05}, \"xaxis\": {\"automargin\": true, \"gridcolor\": \"white\", \"linecolor\": \"white\", \"ticks\": \"\", \"title\": {\"standoff\": 15}, \"zerolinecolor\": \"white\", \"zerolinewidth\": 2}, \"yaxis\": {\"automargin\": true, \"gridcolor\": \"white\", \"linecolor\": \"white\", \"ticks\": \"\", \"title\": {\"standoff\": 15}, \"zerolinecolor\": \"white\", \"zerolinewidth\": 2}}}},\n",
              "                        {\"responsive\": true}\n",
              "                    ).then(function(){\n",
              "                            \n",
              "var gd = document.getElementById('cd9c7b92-d4a8-4906-bdf8-82d2d0a6da6f');\n",
              "var x = new MutationObserver(function (mutations, observer) {{\n",
              "        var display = window.getComputedStyle(gd).display;\n",
              "        if (!display || display === 'none') {{\n",
              "            console.log([gd, 'removed!']);\n",
              "            Plotly.purge(gd);\n",
              "            observer.disconnect();\n",
              "        }}\n",
              "}});\n",
              "\n",
              "// Listen for the removal of the full notebook cells\n",
              "var notebookContainer = gd.closest('#notebook-container');\n",
              "if (notebookContainer) {{\n",
              "    x.observe(notebookContainer, {childList: true});\n",
              "}}\n",
              "\n",
              "// Listen for the clearing of the current output cell\n",
              "var outputEl = gd.closest('.output');\n",
              "if (outputEl) {{\n",
              "    x.observe(outputEl, {childList: true});\n",
              "}}\n",
              "\n",
              "                        })\n",
              "                };\n",
              "                \n",
              "            </script>\n",
              "        </div>\n",
              "</body>\n",
              "</html>"
            ]
          },
          "metadata": {
            "tags": []
          }
        }
      ]
    }
  ]
}