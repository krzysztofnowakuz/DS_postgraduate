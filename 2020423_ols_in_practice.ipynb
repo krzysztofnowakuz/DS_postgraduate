{
  "nbformat": 4,
  "nbformat_minor": 0,
  "metadata": {
    "colab": {
      "name": "2020423_ols_in_practice.ipynb",
      "provenance": [],
      "collapsed_sections": []
    },
    "kernelspec": {
      "name": "python3",
      "display_name": "Python 3"
    }
  },
  "cells": [
    {
      "cell_type": "markdown",
      "metadata": {
        "id": "jv__ogb8qvyg"
      },
      "source": [
        "\n",
        "# Regresja liniowa"
      ]
    },
    {
      "cell_type": "markdown",
      "metadata": {
        "id": "-0UiFpRMrASq"
      },
      "source": [
        "W tym notebooku stworzymy model regresji liniowej dla zbioru danych o nieruchomościach w Bostonie - celem zadania jest przewidywanie cen domów na podstawie cech liczbowych\n"
      ]
    },
    {
      "cell_type": "code",
      "metadata": {
        "id": "tBfNFGC3qyly"
      },
      "source": [
        "import pandas as pd\n",
        "import numpy as np\n",
        "from matplotlib import pyplot as plt\n",
        "\n",
        "from sklearn.datasets import load_boston"
      ],
      "execution_count": null,
      "outputs": []
    },
    {
      "cell_type": "code",
      "metadata": {
        "id": "f01Q_X-qre59"
      },
      "source": [
        "boston_data = load_boston()\n",
        "boston_X = pd.DataFrame(boston_data.data, columns=boston_data.feature_names)\n",
        "\n",
        "y =  boston_data.target"
      ],
      "execution_count": null,
      "outputs": []
    },
    {
      "cell_type": "code",
      "metadata": {
        "colab": {
          "base_uri": "https://localhost:8080/"
        },
        "id": "ObF4wTsgs0Gi",
        "outputId": "94bd2198-d9ff-4cb8-a18c-7946932b2bd8"
      },
      "source": [
        "print(boston_data['DESCR'])"
      ],
      "execution_count": null,
      "outputs": [
        {
          "output_type": "stream",
          "text": [
            ".. _boston_dataset:\n",
            "\n",
            "Boston house prices dataset\n",
            "---------------------------\n",
            "\n",
            "**Data Set Characteristics:**  \n",
            "\n",
            "    :Number of Instances: 506 \n",
            "\n",
            "    :Number of Attributes: 13 numeric/categorical predictive. Median Value (attribute 14) is usually the target.\n",
            "\n",
            "    :Attribute Information (in order):\n",
            "        - CRIM     per capita crime rate by town\n",
            "        - ZN       proportion of residential land zoned for lots over 25,000 sq.ft.\n",
            "        - INDUS    proportion of non-retail business acres per town\n",
            "        - CHAS     Charles River dummy variable (= 1 if tract bounds river; 0 otherwise)\n",
            "        - NOX      nitric oxides concentration (parts per 10 million)\n",
            "        - RM       average number of rooms per dwelling\n",
            "        - AGE      proportion of owner-occupied units built prior to 1940\n",
            "        - DIS      weighted distances to five Boston employment centres\n",
            "        - RAD      index of accessibility to radial highways\n",
            "        - TAX      full-value property-tax rate per $10,000\n",
            "        - PTRATIO  pupil-teacher ratio by town\n",
            "        - B        1000(Bk - 0.63)^2 where Bk is the proportion of blacks by town\n",
            "        - LSTAT    % lower status of the population\n",
            "        - MEDV     Median value of owner-occupied homes in $1000's\n",
            "\n",
            "    :Missing Attribute Values: None\n",
            "\n",
            "    :Creator: Harrison, D. and Rubinfeld, D.L.\n",
            "\n",
            "This is a copy of UCI ML housing dataset.\n",
            "https://archive.ics.uci.edu/ml/machine-learning-databases/housing/\n",
            "\n",
            "\n",
            "This dataset was taken from the StatLib library which is maintained at Carnegie Mellon University.\n",
            "\n",
            "The Boston house-price data of Harrison, D. and Rubinfeld, D.L. 'Hedonic\n",
            "prices and the demand for clean air', J. Environ. Economics & Management,\n",
            "vol.5, 81-102, 1978.   Used in Belsley, Kuh & Welsch, 'Regression diagnostics\n",
            "...', Wiley, 1980.   N.B. Various transformations are used in the table on\n",
            "pages 244-261 of the latter.\n",
            "\n",
            "The Boston house-price data has been used in many machine learning papers that address regression\n",
            "problems.   \n",
            "     \n",
            ".. topic:: References\n",
            "\n",
            "   - Belsley, Kuh & Welsch, 'Regression diagnostics: Identifying Influential Data and Sources of Collinearity', Wiley, 1980. 244-261.\n",
            "   - Quinlan,R. (1993). Combining Instance-Based and Model-Based Learning. In Proceedings on the Tenth International Conference of Machine Learning, 236-243, University of Massachusetts, Amherst. Morgan Kaufmann.\n",
            "\n"
          ],
          "name": "stdout"
        }
      ]
    },
    {
      "cell_type": "code",
      "metadata": {
        "colab": {
          "base_uri": "https://localhost:8080/",
          "height": 197
        },
        "id": "cAK-d0-wrwsc",
        "outputId": "c871b7ec-dae3-4768-86cd-82cfd058741d"
      },
      "source": [
        "boston_X.head(5)"
      ],
      "execution_count": null,
      "outputs": [
        {
          "output_type": "execute_result",
          "data": {
            "text/html": [
              "<div>\n",
              "<style scoped>\n",
              "    .dataframe tbody tr th:only-of-type {\n",
              "        vertical-align: middle;\n",
              "    }\n",
              "\n",
              "    .dataframe tbody tr th {\n",
              "        vertical-align: top;\n",
              "    }\n",
              "\n",
              "    .dataframe thead th {\n",
              "        text-align: right;\n",
              "    }\n",
              "</style>\n",
              "<table border=\"1\" class=\"dataframe\">\n",
              "  <thead>\n",
              "    <tr style=\"text-align: right;\">\n",
              "      <th></th>\n",
              "      <th>CRIM</th>\n",
              "      <th>ZN</th>\n",
              "      <th>INDUS</th>\n",
              "      <th>CHAS</th>\n",
              "      <th>NOX</th>\n",
              "      <th>RM</th>\n",
              "      <th>AGE</th>\n",
              "      <th>DIS</th>\n",
              "      <th>RAD</th>\n",
              "      <th>TAX</th>\n",
              "      <th>PTRATIO</th>\n",
              "      <th>B</th>\n",
              "      <th>LSTAT</th>\n",
              "    </tr>\n",
              "  </thead>\n",
              "  <tbody>\n",
              "    <tr>\n",
              "      <th>0</th>\n",
              "      <td>0.00632</td>\n",
              "      <td>18.0</td>\n",
              "      <td>2.31</td>\n",
              "      <td>0.0</td>\n",
              "      <td>0.538</td>\n",
              "      <td>6.575</td>\n",
              "      <td>65.2</td>\n",
              "      <td>4.0900</td>\n",
              "      <td>1.0</td>\n",
              "      <td>296.0</td>\n",
              "      <td>15.3</td>\n",
              "      <td>396.90</td>\n",
              "      <td>4.98</td>\n",
              "    </tr>\n",
              "    <tr>\n",
              "      <th>1</th>\n",
              "      <td>0.02731</td>\n",
              "      <td>0.0</td>\n",
              "      <td>7.07</td>\n",
              "      <td>0.0</td>\n",
              "      <td>0.469</td>\n",
              "      <td>6.421</td>\n",
              "      <td>78.9</td>\n",
              "      <td>4.9671</td>\n",
              "      <td>2.0</td>\n",
              "      <td>242.0</td>\n",
              "      <td>17.8</td>\n",
              "      <td>396.90</td>\n",
              "      <td>9.14</td>\n",
              "    </tr>\n",
              "    <tr>\n",
              "      <th>2</th>\n",
              "      <td>0.02729</td>\n",
              "      <td>0.0</td>\n",
              "      <td>7.07</td>\n",
              "      <td>0.0</td>\n",
              "      <td>0.469</td>\n",
              "      <td>7.185</td>\n",
              "      <td>61.1</td>\n",
              "      <td>4.9671</td>\n",
              "      <td>2.0</td>\n",
              "      <td>242.0</td>\n",
              "      <td>17.8</td>\n",
              "      <td>392.83</td>\n",
              "      <td>4.03</td>\n",
              "    </tr>\n",
              "    <tr>\n",
              "      <th>3</th>\n",
              "      <td>0.03237</td>\n",
              "      <td>0.0</td>\n",
              "      <td>2.18</td>\n",
              "      <td>0.0</td>\n",
              "      <td>0.458</td>\n",
              "      <td>6.998</td>\n",
              "      <td>45.8</td>\n",
              "      <td>6.0622</td>\n",
              "      <td>3.0</td>\n",
              "      <td>222.0</td>\n",
              "      <td>18.7</td>\n",
              "      <td>394.63</td>\n",
              "      <td>2.94</td>\n",
              "    </tr>\n",
              "    <tr>\n",
              "      <th>4</th>\n",
              "      <td>0.06905</td>\n",
              "      <td>0.0</td>\n",
              "      <td>2.18</td>\n",
              "      <td>0.0</td>\n",
              "      <td>0.458</td>\n",
              "      <td>7.147</td>\n",
              "      <td>54.2</td>\n",
              "      <td>6.0622</td>\n",
              "      <td>3.0</td>\n",
              "      <td>222.0</td>\n",
              "      <td>18.7</td>\n",
              "      <td>396.90</td>\n",
              "      <td>5.33</td>\n",
              "    </tr>\n",
              "  </tbody>\n",
              "</table>\n",
              "</div>"
            ],
            "text/plain": [
              "      CRIM    ZN  INDUS  CHAS    NOX  ...  RAD    TAX  PTRATIO       B  LSTAT\n",
              "0  0.00632  18.0   2.31   0.0  0.538  ...  1.0  296.0     15.3  396.90   4.98\n",
              "1  0.02731   0.0   7.07   0.0  0.469  ...  2.0  242.0     17.8  396.90   9.14\n",
              "2  0.02729   0.0   7.07   0.0  0.469  ...  2.0  242.0     17.8  392.83   4.03\n",
              "3  0.03237   0.0   2.18   0.0  0.458  ...  3.0  222.0     18.7  394.63   2.94\n",
              "4  0.06905   0.0   2.18   0.0  0.458  ...  3.0  222.0     18.7  396.90   5.33\n",
              "\n",
              "[5 rows x 13 columns]"
            ]
          },
          "metadata": {
            "tags": []
          },
          "execution_count": 4
        }
      ]
    },
    {
      "cell_type": "markdown",
      "metadata": {
        "id": "omJ3xQgzy_h9"
      },
      "source": [
        "# Multiple linear regression"
      ]
    },
    {
      "cell_type": "code",
      "metadata": {
        "colab": {
          "base_uri": "https://localhost:8080/"
        },
        "id": "5ZLRw4Lqzw4m",
        "outputId": "a50ecadb-b8de-4bd8-d0a6-10f8503a4e78"
      },
      "source": [
        "from sklearn import linear_model\n",
        "\n",
        "regr = linear_model.LinearRegression()\n",
        "\n",
        "regr.fit(boston_X, y)"
      ],
      "execution_count": null,
      "outputs": [
        {
          "output_type": "execute_result",
          "data": {
            "text/plain": [
              "LinearRegression(copy_X=True, fit_intercept=True, n_jobs=None, normalize=False)"
            ]
          },
          "metadata": {
            "tags": []
          },
          "execution_count": 5
        }
      ]
    },
    {
      "cell_type": "markdown",
      "metadata": {
        "id": "rQVkIsaM0Q5_"
      },
      "source": [
        "Pobieramy współczynniki .coef_"
      ]
    },
    {
      "cell_type": "code",
      "metadata": {
        "id": "xWhA0DBl0Swy",
        "colab": {
          "base_uri": "https://localhost:8080/"
        },
        "outputId": "0d0d7e75-21e6-4f8c-d7c4-da82f6c2fdf2"
      },
      "source": [
        "regr.coef_"
      ],
      "execution_count": null,
      "outputs": [
        {
          "output_type": "execute_result",
          "data": {
            "text/plain": [
              "array([-1.08011358e-01,  4.64204584e-02,  2.05586264e-02,  2.68673382e+00,\n",
              "       -1.77666112e+01,  3.80986521e+00,  6.92224640e-04, -1.47556685e+00,\n",
              "        3.06049479e-01, -1.23345939e-02, -9.52747232e-01,  9.31168327e-03,\n",
              "       -5.24758378e-01])"
            ]
          },
          "metadata": {
            "tags": []
          },
          "execution_count": 6
        }
      ]
    },
    {
      "cell_type": "code",
      "metadata": {
        "colab": {
          "base_uri": "https://localhost:8080/",
          "height": 437
        },
        "id": "yhdgpnF20U_X",
        "outputId": "8dce085f-1e05-425a-fa02-3470403291ae"
      },
      "source": [
        "pd.DataFrame({'names': boston_X.columns.tolist(), 'coeffs': regr.coef_})"
      ],
      "execution_count": null,
      "outputs": [
        {
          "output_type": "execute_result",
          "data": {
            "text/html": [
              "<div>\n",
              "<style scoped>\n",
              "    .dataframe tbody tr th:only-of-type {\n",
              "        vertical-align: middle;\n",
              "    }\n",
              "\n",
              "    .dataframe tbody tr th {\n",
              "        vertical-align: top;\n",
              "    }\n",
              "\n",
              "    .dataframe thead th {\n",
              "        text-align: right;\n",
              "    }\n",
              "</style>\n",
              "<table border=\"1\" class=\"dataframe\">\n",
              "  <thead>\n",
              "    <tr style=\"text-align: right;\">\n",
              "      <th></th>\n",
              "      <th>names</th>\n",
              "      <th>coeffs</th>\n",
              "    </tr>\n",
              "  </thead>\n",
              "  <tbody>\n",
              "    <tr>\n",
              "      <th>0</th>\n",
              "      <td>CRIM</td>\n",
              "      <td>-0.108011</td>\n",
              "    </tr>\n",
              "    <tr>\n",
              "      <th>1</th>\n",
              "      <td>ZN</td>\n",
              "      <td>0.046420</td>\n",
              "    </tr>\n",
              "    <tr>\n",
              "      <th>2</th>\n",
              "      <td>INDUS</td>\n",
              "      <td>0.020559</td>\n",
              "    </tr>\n",
              "    <tr>\n",
              "      <th>3</th>\n",
              "      <td>CHAS</td>\n",
              "      <td>2.686734</td>\n",
              "    </tr>\n",
              "    <tr>\n",
              "      <th>4</th>\n",
              "      <td>NOX</td>\n",
              "      <td>-17.766611</td>\n",
              "    </tr>\n",
              "    <tr>\n",
              "      <th>5</th>\n",
              "      <td>RM</td>\n",
              "      <td>3.809865</td>\n",
              "    </tr>\n",
              "    <tr>\n",
              "      <th>6</th>\n",
              "      <td>AGE</td>\n",
              "      <td>0.000692</td>\n",
              "    </tr>\n",
              "    <tr>\n",
              "      <th>7</th>\n",
              "      <td>DIS</td>\n",
              "      <td>-1.475567</td>\n",
              "    </tr>\n",
              "    <tr>\n",
              "      <th>8</th>\n",
              "      <td>RAD</td>\n",
              "      <td>0.306049</td>\n",
              "    </tr>\n",
              "    <tr>\n",
              "      <th>9</th>\n",
              "      <td>TAX</td>\n",
              "      <td>-0.012335</td>\n",
              "    </tr>\n",
              "    <tr>\n",
              "      <th>10</th>\n",
              "      <td>PTRATIO</td>\n",
              "      <td>-0.952747</td>\n",
              "    </tr>\n",
              "    <tr>\n",
              "      <th>11</th>\n",
              "      <td>B</td>\n",
              "      <td>0.009312</td>\n",
              "    </tr>\n",
              "    <tr>\n",
              "      <th>12</th>\n",
              "      <td>LSTAT</td>\n",
              "      <td>-0.524758</td>\n",
              "    </tr>\n",
              "  </tbody>\n",
              "</table>\n",
              "</div>"
            ],
            "text/plain": [
              "      names     coeffs\n",
              "0      CRIM  -0.108011\n",
              "1        ZN   0.046420\n",
              "2     INDUS   0.020559\n",
              "3      CHAS   2.686734\n",
              "4       NOX -17.766611\n",
              "5        RM   3.809865\n",
              "6       AGE   0.000692\n",
              "7       DIS  -1.475567\n",
              "8       RAD   0.306049\n",
              "9       TAX  -0.012335\n",
              "10  PTRATIO  -0.952747\n",
              "11        B   0.009312\n",
              "12    LSTAT  -0.524758"
            ]
          },
          "metadata": {
            "tags": []
          },
          "execution_count": 7
        }
      ]
    },
    {
      "cell_type": "markdown",
      "metadata": {
        "id": "G6ksuS_00cmd"
      },
      "source": [
        "\n",
        "Teraz możemy dokonać predykcji dla danych za pomocą tak wyszkolonego modelu"
      ]
    },
    {
      "cell_type": "code",
      "metadata": {
        "id": "o5xPpO9x0cHj"
      },
      "source": [
        "predictions_scikit = regr.predict(boston_X)"
      ],
      "execution_count": null,
      "outputs": []
    },
    {
      "cell_type": "markdown",
      "metadata": {
        "id": "suD5MhLU0kE5"
      },
      "source": [
        "Sprawdzamy $R^2$"
      ]
    },
    {
      "cell_type": "code",
      "metadata": {
        "colab": {
          "base_uri": "https://localhost:8080/"
        },
        "id": "IHXGcjJS0oOL",
        "outputId": "99b038da-de5d-4667-e3c7-860bc52a3dee"
      },
      "source": [
        "from sklearn.metrics import r2_score\n",
        "print(r2_score(y, predictions_scikit))"
      ],
      "execution_count": null,
      "outputs": [
        {
          "output_type": "stream",
          "text": [
            "0.7406426641094095\n"
          ],
          "name": "stdout"
        }
      ]
    },
    {
      "cell_type": "markdown",
      "metadata": {
        "id": "svgrETIGKYbY"
      },
      "source": [
        "# Istotnośc parametrów i dobór zmiennych "
      ]
    },
    {
      "cell_type": "markdown",
      "metadata": {
        "id": "1wyB1KDsKd0S"
      },
      "source": [
        "Zadania regresyjne wymagają zazwyczaj wyboru zmiennych popartego odrzuceniem tych, których wpływ nie jest w statystycznie istotny sposób różny od zera. Interpretowalność bazowo wyliczonej istotności warunkowana jest spełnieniem kilku założeń, natomiast nawet jeśli są one podważone może służyć do kierunkowej oceny \"ważności\" zmiennych."
      ]
    },
    {
      "cell_type": "markdown",
      "metadata": {
        "id": "qgW4il59LDDZ"
      },
      "source": [
        "Aby przenalizować istotnośc, wykorzystajmy alternatywną bibliotekę, jako że sklearn bazowo jej nie wylicza."
      ]
    },
    {
      "cell_type": "code",
      "metadata": {
        "colab": {
          "base_uri": "https://localhost:8080/"
        },
        "id": "J26RT7yCLOoP",
        "outputId": "74c0e24b-de5c-44f5-a9ee-912161474613"
      },
      "source": [
        "import statsmodels.api as sm"
      ],
      "execution_count": null,
      "outputs": [
        {
          "output_type": "stream",
          "text": [
            "/usr/local/lib/python3.7/dist-packages/statsmodels/tools/_testing.py:19: FutureWarning: pandas.util.testing is deprecated. Use the functions in the public API at pandas.testing instead.\n",
            "  import pandas.util.testing as tm\n"
          ],
          "name": "stderr"
        }
      ]
    },
    {
      "cell_type": "markdown",
      "metadata": {
        "id": "oTYjFSrFLY2Q"
      },
      "source": [
        "statsmodel oferują funkcje do dodawania wyrazu stałego z któej powiinśmy skorzystać"
      ]
    },
    {
      "cell_type": "code",
      "metadata": {
        "id": "kKCQMOROLrpa"
      },
      "source": [
        "X = sm.add_constant(boston_X)"
      ],
      "execution_count": null,
      "outputs": []
    },
    {
      "cell_type": "code",
      "metadata": {
        "colab": {
          "base_uri": "https://localhost:8080/",
          "height": 406
        },
        "id": "g9OsZ7FIE2dk",
        "outputId": "439b6d7e-592b-466d-e754-00e5233492cd"
      },
      "source": [
        "X"
      ],
      "execution_count": null,
      "outputs": [
        {
          "output_type": "execute_result",
          "data": {
            "text/html": [
              "<div>\n",
              "<style scoped>\n",
              "    .dataframe tbody tr th:only-of-type {\n",
              "        vertical-align: middle;\n",
              "    }\n",
              "\n",
              "    .dataframe tbody tr th {\n",
              "        vertical-align: top;\n",
              "    }\n",
              "\n",
              "    .dataframe thead th {\n",
              "        text-align: right;\n",
              "    }\n",
              "</style>\n",
              "<table border=\"1\" class=\"dataframe\">\n",
              "  <thead>\n",
              "    <tr style=\"text-align: right;\">\n",
              "      <th></th>\n",
              "      <th>const</th>\n",
              "      <th>CRIM</th>\n",
              "      <th>ZN</th>\n",
              "      <th>INDUS</th>\n",
              "      <th>CHAS</th>\n",
              "      <th>NOX</th>\n",
              "      <th>RM</th>\n",
              "      <th>AGE</th>\n",
              "      <th>DIS</th>\n",
              "      <th>RAD</th>\n",
              "      <th>TAX</th>\n",
              "      <th>PTRATIO</th>\n",
              "      <th>B</th>\n",
              "      <th>LSTAT</th>\n",
              "    </tr>\n",
              "  </thead>\n",
              "  <tbody>\n",
              "    <tr>\n",
              "      <th>0</th>\n",
              "      <td>1.0</td>\n",
              "      <td>0.00632</td>\n",
              "      <td>18.0</td>\n",
              "      <td>2.31</td>\n",
              "      <td>0.0</td>\n",
              "      <td>0.538</td>\n",
              "      <td>6.575</td>\n",
              "      <td>65.2</td>\n",
              "      <td>4.0900</td>\n",
              "      <td>1.0</td>\n",
              "      <td>296.0</td>\n",
              "      <td>15.3</td>\n",
              "      <td>396.90</td>\n",
              "      <td>4.98</td>\n",
              "    </tr>\n",
              "    <tr>\n",
              "      <th>1</th>\n",
              "      <td>1.0</td>\n",
              "      <td>0.02731</td>\n",
              "      <td>0.0</td>\n",
              "      <td>7.07</td>\n",
              "      <td>0.0</td>\n",
              "      <td>0.469</td>\n",
              "      <td>6.421</td>\n",
              "      <td>78.9</td>\n",
              "      <td>4.9671</td>\n",
              "      <td>2.0</td>\n",
              "      <td>242.0</td>\n",
              "      <td>17.8</td>\n",
              "      <td>396.90</td>\n",
              "      <td>9.14</td>\n",
              "    </tr>\n",
              "    <tr>\n",
              "      <th>2</th>\n",
              "      <td>1.0</td>\n",
              "      <td>0.02729</td>\n",
              "      <td>0.0</td>\n",
              "      <td>7.07</td>\n",
              "      <td>0.0</td>\n",
              "      <td>0.469</td>\n",
              "      <td>7.185</td>\n",
              "      <td>61.1</td>\n",
              "      <td>4.9671</td>\n",
              "      <td>2.0</td>\n",
              "      <td>242.0</td>\n",
              "      <td>17.8</td>\n",
              "      <td>392.83</td>\n",
              "      <td>4.03</td>\n",
              "    </tr>\n",
              "    <tr>\n",
              "      <th>3</th>\n",
              "      <td>1.0</td>\n",
              "      <td>0.03237</td>\n",
              "      <td>0.0</td>\n",
              "      <td>2.18</td>\n",
              "      <td>0.0</td>\n",
              "      <td>0.458</td>\n",
              "      <td>6.998</td>\n",
              "      <td>45.8</td>\n",
              "      <td>6.0622</td>\n",
              "      <td>3.0</td>\n",
              "      <td>222.0</td>\n",
              "      <td>18.7</td>\n",
              "      <td>394.63</td>\n",
              "      <td>2.94</td>\n",
              "    </tr>\n",
              "    <tr>\n",
              "      <th>4</th>\n",
              "      <td>1.0</td>\n",
              "      <td>0.06905</td>\n",
              "      <td>0.0</td>\n",
              "      <td>2.18</td>\n",
              "      <td>0.0</td>\n",
              "      <td>0.458</td>\n",
              "      <td>7.147</td>\n",
              "      <td>54.2</td>\n",
              "      <td>6.0622</td>\n",
              "      <td>3.0</td>\n",
              "      <td>222.0</td>\n",
              "      <td>18.7</td>\n",
              "      <td>396.90</td>\n",
              "      <td>5.33</td>\n",
              "    </tr>\n",
              "    <tr>\n",
              "      <th>...</th>\n",
              "      <td>...</td>\n",
              "      <td>...</td>\n",
              "      <td>...</td>\n",
              "      <td>...</td>\n",
              "      <td>...</td>\n",
              "      <td>...</td>\n",
              "      <td>...</td>\n",
              "      <td>...</td>\n",
              "      <td>...</td>\n",
              "      <td>...</td>\n",
              "      <td>...</td>\n",
              "      <td>...</td>\n",
              "      <td>...</td>\n",
              "      <td>...</td>\n",
              "    </tr>\n",
              "    <tr>\n",
              "      <th>501</th>\n",
              "      <td>1.0</td>\n",
              "      <td>0.06263</td>\n",
              "      <td>0.0</td>\n",
              "      <td>11.93</td>\n",
              "      <td>0.0</td>\n",
              "      <td>0.573</td>\n",
              "      <td>6.593</td>\n",
              "      <td>69.1</td>\n",
              "      <td>2.4786</td>\n",
              "      <td>1.0</td>\n",
              "      <td>273.0</td>\n",
              "      <td>21.0</td>\n",
              "      <td>391.99</td>\n",
              "      <td>9.67</td>\n",
              "    </tr>\n",
              "    <tr>\n",
              "      <th>502</th>\n",
              "      <td>1.0</td>\n",
              "      <td>0.04527</td>\n",
              "      <td>0.0</td>\n",
              "      <td>11.93</td>\n",
              "      <td>0.0</td>\n",
              "      <td>0.573</td>\n",
              "      <td>6.120</td>\n",
              "      <td>76.7</td>\n",
              "      <td>2.2875</td>\n",
              "      <td>1.0</td>\n",
              "      <td>273.0</td>\n",
              "      <td>21.0</td>\n",
              "      <td>396.90</td>\n",
              "      <td>9.08</td>\n",
              "    </tr>\n",
              "    <tr>\n",
              "      <th>503</th>\n",
              "      <td>1.0</td>\n",
              "      <td>0.06076</td>\n",
              "      <td>0.0</td>\n",
              "      <td>11.93</td>\n",
              "      <td>0.0</td>\n",
              "      <td>0.573</td>\n",
              "      <td>6.976</td>\n",
              "      <td>91.0</td>\n",
              "      <td>2.1675</td>\n",
              "      <td>1.0</td>\n",
              "      <td>273.0</td>\n",
              "      <td>21.0</td>\n",
              "      <td>396.90</td>\n",
              "      <td>5.64</td>\n",
              "    </tr>\n",
              "    <tr>\n",
              "      <th>504</th>\n",
              "      <td>1.0</td>\n",
              "      <td>0.10959</td>\n",
              "      <td>0.0</td>\n",
              "      <td>11.93</td>\n",
              "      <td>0.0</td>\n",
              "      <td>0.573</td>\n",
              "      <td>6.794</td>\n",
              "      <td>89.3</td>\n",
              "      <td>2.3889</td>\n",
              "      <td>1.0</td>\n",
              "      <td>273.0</td>\n",
              "      <td>21.0</td>\n",
              "      <td>393.45</td>\n",
              "      <td>6.48</td>\n",
              "    </tr>\n",
              "    <tr>\n",
              "      <th>505</th>\n",
              "      <td>1.0</td>\n",
              "      <td>0.04741</td>\n",
              "      <td>0.0</td>\n",
              "      <td>11.93</td>\n",
              "      <td>0.0</td>\n",
              "      <td>0.573</td>\n",
              "      <td>6.030</td>\n",
              "      <td>80.8</td>\n",
              "      <td>2.5050</td>\n",
              "      <td>1.0</td>\n",
              "      <td>273.0</td>\n",
              "      <td>21.0</td>\n",
              "      <td>396.90</td>\n",
              "      <td>7.88</td>\n",
              "    </tr>\n",
              "  </tbody>\n",
              "</table>\n",
              "<p>506 rows × 14 columns</p>\n",
              "</div>"
            ],
            "text/plain": [
              "     const     CRIM    ZN  INDUS  CHAS  ...  RAD    TAX  PTRATIO       B  LSTAT\n",
              "0      1.0  0.00632  18.0   2.31   0.0  ...  1.0  296.0     15.3  396.90   4.98\n",
              "1      1.0  0.02731   0.0   7.07   0.0  ...  2.0  242.0     17.8  396.90   9.14\n",
              "2      1.0  0.02729   0.0   7.07   0.0  ...  2.0  242.0     17.8  392.83   4.03\n",
              "3      1.0  0.03237   0.0   2.18   0.0  ...  3.0  222.0     18.7  394.63   2.94\n",
              "4      1.0  0.06905   0.0   2.18   0.0  ...  3.0  222.0     18.7  396.90   5.33\n",
              "..     ...      ...   ...    ...   ...  ...  ...    ...      ...     ...    ...\n",
              "501    1.0  0.06263   0.0  11.93   0.0  ...  1.0  273.0     21.0  391.99   9.67\n",
              "502    1.0  0.04527   0.0  11.93   0.0  ...  1.0  273.0     21.0  396.90   9.08\n",
              "503    1.0  0.06076   0.0  11.93   0.0  ...  1.0  273.0     21.0  396.90   5.64\n",
              "504    1.0  0.10959   0.0  11.93   0.0  ...  1.0  273.0     21.0  393.45   6.48\n",
              "505    1.0  0.04741   0.0  11.93   0.0  ...  1.0  273.0     21.0  396.90   7.88\n",
              "\n",
              "[506 rows x 14 columns]"
            ]
          },
          "metadata": {
            "tags": []
          },
          "execution_count": 12
        }
      ]
    },
    {
      "cell_type": "code",
      "metadata": {
        "colab": {
          "base_uri": "https://localhost:8080/"
        },
        "id": "4780iutrGe_R",
        "outputId": "42945908-ab91-45ac-e93f-543f91956ca3"
      },
      "source": [
        "print(boston_data['DESCR'])"
      ],
      "execution_count": null,
      "outputs": [
        {
          "output_type": "stream",
          "text": [
            ".. _boston_dataset:\n",
            "\n",
            "Boston house prices dataset\n",
            "---------------------------\n",
            "\n",
            "**Data Set Characteristics:**  \n",
            "\n",
            "    :Number of Instances: 506 \n",
            "\n",
            "    :Number of Attributes: 13 numeric/categorical predictive. Median Value (attribute 14) is usually the target.\n",
            "\n",
            "    :Attribute Information (in order):\n",
            "        - CRIM     per capita crime rate by town\n",
            "        - ZN       proportion of residential land zoned for lots over 25,000 sq.ft.\n",
            "        - INDUS    proportion of non-retail business acres per town\n",
            "        - CHAS     Charles River dummy variable (= 1 if tract bounds river; 0 otherwise)\n",
            "        - NOX      nitric oxides concentration (parts per 10 million)\n",
            "        - RM       average number of rooms per dwelling\n",
            "        - AGE      proportion of owner-occupied units built prior to 1940\n",
            "        - DIS      weighted distances to five Boston employment centres\n",
            "        - RAD      index of accessibility to radial highways\n",
            "        - TAX      full-value property-tax rate per $10,000\n",
            "        - PTRATIO  pupil-teacher ratio by town\n",
            "        - B        1000(Bk - 0.63)^2 where Bk is the proportion of blacks by town\n",
            "        - LSTAT    % lower status of the population\n",
            "        - MEDV     Median value of owner-occupied homes in $1000's\n",
            "\n",
            "    :Missing Attribute Values: None\n",
            "\n",
            "    :Creator: Harrison, D. and Rubinfeld, D.L.\n",
            "\n",
            "This is a copy of UCI ML housing dataset.\n",
            "https://archive.ics.uci.edu/ml/machine-learning-databases/housing/\n",
            "\n",
            "\n",
            "This dataset was taken from the StatLib library which is maintained at Carnegie Mellon University.\n",
            "\n",
            "The Boston house-price data of Harrison, D. and Rubinfeld, D.L. 'Hedonic\n",
            "prices and the demand for clean air', J. Environ. Economics & Management,\n",
            "vol.5, 81-102, 1978.   Used in Belsley, Kuh & Welsch, 'Regression diagnostics\n",
            "...', Wiley, 1980.   N.B. Various transformations are used in the table on\n",
            "pages 244-261 of the latter.\n",
            "\n",
            "The Boston house-price data has been used in many machine learning papers that address regression\n",
            "problems.   \n",
            "     \n",
            ".. topic:: References\n",
            "\n",
            "   - Belsley, Kuh & Welsch, 'Regression diagnostics: Identifying Influential Data and Sources of Collinearity', Wiley, 1980. 244-261.\n",
            "   - Quinlan,R. (1993). Combining Instance-Based and Model-Based Learning. In Proceedings on the Tenth International Conference of Machine Learning, 236-243, University of Massachusetts, Amherst. Morgan Kaufmann.\n",
            "\n"
          ],
          "name": "stdout"
        }
      ]
    },
    {
      "cell_type": "code",
      "metadata": {
        "colab": {
          "base_uri": "https://localhost:8080/"
        },
        "id": "sfhX4vcKLw3V",
        "outputId": "4501e8d2-6af5-4143-90c4-e75c115a90ca"
      },
      "source": [
        "model = sm.OLS(y, X)\n",
        "results = model.fit()\n",
        "print(results.summary())"
      ],
      "execution_count": null,
      "outputs": [
        {
          "output_type": "stream",
          "text": [
            "                            OLS Regression Results                            \n",
            "==============================================================================\n",
            "Dep. Variable:                      y   R-squared:                       0.741\n",
            "Model:                            OLS   Adj. R-squared:                  0.734\n",
            "Method:                 Least Squares   F-statistic:                     108.1\n",
            "Date:                Sun, 25 Apr 2021   Prob (F-statistic):          6.72e-135\n",
            "Time:                        08:53:13   Log-Likelihood:                -1498.8\n",
            "No. Observations:                 506   AIC:                             3026.\n",
            "Df Residuals:                     492   BIC:                             3085.\n",
            "Df Model:                          13                                         \n",
            "Covariance Type:            nonrobust                                         \n",
            "==============================================================================\n",
            "                 coef    std err          t      P>|t|      [0.025      0.975]\n",
            "------------------------------------------------------------------------------\n",
            "const         36.4595      5.103      7.144      0.000      26.432      46.487\n",
            "CRIM          -0.1080      0.033     -3.287      0.001      -0.173      -0.043\n",
            "ZN             0.0464      0.014      3.382      0.001       0.019       0.073\n",
            "INDUS          0.0206      0.061      0.334      0.738      -0.100       0.141\n",
            "CHAS           2.6867      0.862      3.118      0.002       0.994       4.380\n",
            "NOX          -17.7666      3.820     -4.651      0.000     -25.272     -10.262\n",
            "RM             3.8099      0.418      9.116      0.000       2.989       4.631\n",
            "AGE            0.0007      0.013      0.052      0.958      -0.025       0.027\n",
            "DIS           -1.4756      0.199     -7.398      0.000      -1.867      -1.084\n",
            "RAD            0.3060      0.066      4.613      0.000       0.176       0.436\n",
            "TAX           -0.0123      0.004     -3.280      0.001      -0.020      -0.005\n",
            "PTRATIO       -0.9527      0.131     -7.283      0.000      -1.210      -0.696\n",
            "B              0.0093      0.003      3.467      0.001       0.004       0.015\n",
            "LSTAT         -0.5248      0.051    -10.347      0.000      -0.624      -0.425\n",
            "==============================================================================\n",
            "Omnibus:                      178.041   Durbin-Watson:                   1.078\n",
            "Prob(Omnibus):                  0.000   Jarque-Bera (JB):              783.126\n",
            "Skew:                           1.521   Prob(JB):                    8.84e-171\n",
            "Kurtosis:                       8.281   Cond. No.                     1.51e+04\n",
            "==============================================================================\n",
            "\n",
            "Warnings:\n",
            "[1] Standard Errors assume that the covariance matrix of the errors is correctly specified.\n",
            "[2] The condition number is large, 1.51e+04. This might indicate that there are\n",
            "strong multicollinearity or other numerical problems.\n"
          ],
          "name": "stdout"
        }
      ]
    },
    {
      "cell_type": "code",
      "metadata": {
        "colab": {
          "base_uri": "https://localhost:8080/"
        },
        "id": "qvmPVJWCNQH8",
        "outputId": "485d1888-b1f6-41af-b418-5c4cbcda548f"
      },
      "source": [
        "model = sm.OLS(y, X.drop([\"AGE\", \"INDUS\", \"RAD\"], axis=1))\n",
        "results = model.fit()\n",
        "print(results.summary())"
      ],
      "execution_count": null,
      "outputs": [
        {
          "output_type": "stream",
          "text": [
            "                            OLS Regression Results                            \n",
            "==============================================================================\n",
            "Dep. Variable:                      y   R-squared:                       0.729\n",
            "Model:                            OLS   Adj. R-squared:                  0.723\n",
            "Method:                 Least Squares   F-statistic:                     133.1\n",
            "Date:                Sun, 25 Apr 2021   Prob (F-statistic):          2.41e-133\n",
            "Time:                        13:41:34   Log-Likelihood:                -1510.0\n",
            "No. Observations:                 506   AIC:                             3042.\n",
            "Df Residuals:                     495   BIC:                             3089.\n",
            "Df Model:                          10                                         \n",
            "Covariance Type:            nonrobust                                         \n",
            "==============================================================================\n",
            "                 coef    std err          t      P>|t|      [0.025      0.975]\n",
            "------------------------------------------------------------------------------\n",
            "const         29.7398      4.975      5.978      0.000      19.965      39.515\n",
            "CRIM          -0.0636      0.032     -1.984      0.048      -0.127      -0.001\n",
            "ZN             0.0413      0.014      2.999      0.003       0.014       0.068\n",
            "CHAS           3.0373      0.870      3.492      0.001       1.328       4.746\n",
            "NOX          -16.4640      3.605     -4.567      0.000     -23.547      -9.381\n",
            "RM             4.1473      0.408     10.160      0.000       3.345       4.949\n",
            "DIS           -1.4287      0.189     -7.552      0.000      -1.800      -1.057\n",
            "TAX            0.0005      0.002      0.236      0.813      -0.004       0.005\n",
            "PTRATIO       -0.8519      0.130     -6.542      0.000      -1.108      -0.596\n",
            "B              0.0084      0.003      3.081      0.002       0.003       0.014\n",
            "LSTAT         -0.5254      0.048    -10.849      0.000      -0.621      -0.430\n",
            "==============================================================================\n",
            "Omnibus:                      188.385   Durbin-Watson:                   1.060\n",
            "Prob(Omnibus):                  0.000   Jarque-Bera (JB):              894.060\n",
            "Skew:                           1.591   Prob(JB):                    7.20e-195\n",
            "Kurtosis:                       8.681   Cond. No.                     1.43e+04\n",
            "==============================================================================\n",
            "\n",
            "Warnings:\n",
            "[1] Standard Errors assume that the covariance matrix of the errors is correctly specified.\n",
            "[2] The condition number is large, 1.43e+04. This might indicate that there are\n",
            "strong multicollinearity or other numerical problems.\n"
          ],
          "name": "stdout"
        }
      ]
    },
    {
      "cell_type": "code",
      "metadata": {
        "colab": {
          "base_uri": "https://localhost:8080/",
          "height": 353
        },
        "id": "ETT1pV9-aeNu",
        "outputId": "71be8168-6769-4c9a-bf1f-27485584dc2f"
      },
      "source": [
        "plt.hist(y-results.predict(X.drop([\"AGE\", \"INDUS\"], axis=1)))"
      ],
      "execution_count": null,
      "outputs": [
        {
          "output_type": "execute_result",
          "data": {
            "text/plain": [
              "(array([  1.,   5., 107., 251.,  92.,  29.,  14.,   4.,   0.,   3.]),\n",
              " array([-15.59835033, -11.41478536,  -7.23122039,  -3.04765542,\n",
              "          1.13590955,   5.31947453,   9.5030395 ,  13.68660447,\n",
              "         17.87016944,  22.05373441,  26.23729938]),\n",
              " <a list of 10 Patch objects>)"
            ]
          },
          "metadata": {
            "tags": []
          },
          "execution_count": 16
        },
        {
          "output_type": "display_data",
          "data": {
            "image/png": "[encoded data removed]",
            "text/plain": [
              "<Figure size 432x288 with 1 Axes>"
            ]
          },
          "metadata": {
            "tags": [],
            "needs_background": "light"
          }
        }
      ]
    },
    {
      "cell_type": "markdown",
      "metadata": {
        "id": "uK1O2zXd1Y_n"
      },
      "source": [
        "# Najczęstsze wyzwania związane z prostą regresją"
      ]
    },
    {
      "cell_type": "markdown",
      "metadata": {
        "id": "VgoA5dwX2dg3"
      },
      "source": [
        "Gdy spełniony jest szereg założeń regresja teoretycznie jest najbardziej efktywnym modelem. W praktyce rzadko spotykamy się z danymi, dla których są one w mocy. Mimo to regresja wciąż może być wtedy pomocnym narzędziem w analizie danych."
      ]
    },
    {
      "cell_type": "markdown",
      "metadata": {
        "id": "yNTpNY6Q1eSM"
      },
      "source": [
        "Stosowanie regresji może okazać się utrudnione w wypadku, gdy:\n",
        " - zależności nie są liniowe\n",
        " - mamy silnie skorelowane ze sobą zmienne\n",
        " - mamy dużą liczbę zmiennych (i mało danych)\n",
        " - w zbiorze występują outliery"
      ]
    },
    {
      "cell_type": "markdown",
      "metadata": {
        "id": "laQr_l6T7X8a"
      },
      "source": [
        "## Nieliniowość"
      ]
    },
    {
      "cell_type": "markdown",
      "metadata": {
        "id": "YTozey7o7aIO"
      },
      "source": [
        "Z nieliniowością zależności można probówać \"walczyć\" przekształcając zmienne, czy to zależne, czy niezależne."
      ]
    },
    {
      "cell_type": "code",
      "metadata": {
        "colab": {
          "base_uri": "https://localhost:8080/",
          "height": 322
        },
        "id": "QogP4rhe7n2F",
        "outputId": "2e9241bf-848a-4493-d44a-7d3cad5e9da4"
      },
      "source": [
        "x = X[\"LSTAT\"]\n",
        "\n",
        "x_domain = np.linspace(np.min(x), np.max(x), 1000)\n",
        "\n",
        "# data points\n",
        "plt.scatter(x, y, c='red', label='Data points')\n",
        "\n",
        "plt.title('Prosta regresja \\n', size=20)\n",
        "plt.xlabel('LSTAT')\n",
        "plt.ylabel('Cena domów')\n",
        "plt.legend()\n",
        "plt.show()"
      ],
      "execution_count": null,
      "outputs": [
        {
          "output_type": "display_data",
          "data": {
            "image/png": "[encoded data removed]",
            "text/plain": [
              "<Figure size 432x288 with 1 Axes>"
            ]
          },
          "metadata": {
            "tags": [],
            "needs_background": "light"
          }
        }
      ]
    },
    {
      "cell_type": "code",
      "metadata": {
        "colab": {
          "base_uri": "https://localhost:8080/"
        },
        "id": "3DYlhUXUPn1g",
        "outputId": "8c7cdc31-23d3-4146-9a0f-b6682fab7fe1"
      },
      "source": [
        "model = sm.OLS(y, X[[\"const\", \"LSTAT\"]])\n",
        "results = model.fit()\n",
        "print(results.summary())"
      ],
      "execution_count": null,
      "outputs": [
        {
          "output_type": "stream",
          "text": [
            "                            OLS Regression Results                            \n",
            "==============================================================================\n",
            "Dep. Variable:                      y   R-squared:                       0.544\n",
            "Model:                            OLS   Adj. R-squared:                  0.543\n",
            "Method:                 Least Squares   F-statistic:                     601.6\n",
            "Date:                Sun, 25 Apr 2021   Prob (F-statistic):           5.08e-88\n",
            "Time:                        13:32:35   Log-Likelihood:                -1641.5\n",
            "No. Observations:                 506   AIC:                             3287.\n",
            "Df Residuals:                     504   BIC:                             3295.\n",
            "Df Model:                           1                                         \n",
            "Covariance Type:            nonrobust                                         \n",
            "==============================================================================\n",
            "                 coef    std err          t      P>|t|      [0.025      0.975]\n",
            "------------------------------------------------------------------------------\n",
            "const         34.5538      0.563     61.415      0.000      33.448      35.659\n",
            "LSTAT         -0.9500      0.039    -24.528      0.000      -1.026      -0.874\n",
            "==============================================================================\n",
            "Omnibus:                      137.043   Durbin-Watson:                   0.892\n",
            "Prob(Omnibus):                  0.000   Jarque-Bera (JB):              291.373\n",
            "Skew:                           1.453   Prob(JB):                     5.36e-64\n",
            "Kurtosis:                       5.319   Cond. No.                         29.7\n",
            "==============================================================================\n",
            "\n",
            "Warnings:\n",
            "[1] Standard Errors assume that the covariance matrix of the errors is correctly specified.\n"
          ],
          "name": "stdout"
        }
      ]
    },
    {
      "cell_type": "code",
      "metadata": {
        "colab": {
          "base_uri": "https://localhost:8080/",
          "height": 353
        },
        "id": "JunEmYOWQWxG",
        "outputId": "77b77a77-4660-43ca-ccf8-c2b291a8e175"
      },
      "source": [
        "plt.hist(y-results.predict(X[[\"const\", \"LSTAT\"]]))"
      ],
      "execution_count": null,
      "outputs": [
        {
          "output_type": "execute_result",
          "data": {
            "text/plain": [
              "(array([  1.,  21., 143., 177.,  75.,  43.,  18.,   8.,  17.,   3.]),\n",
              " array([-15.16745197, -11.20069383,  -7.23393569,  -3.26717754,\n",
              "          0.6995806 ,   4.66633875,   8.63309689,  12.59985503,\n",
              "         16.56661318,  20.53337132,  24.50012946]),\n",
              " <a list of 10 Patch objects>)"
            ]
          },
          "metadata": {
            "tags": []
          },
          "execution_count": 21
        },
        {
          "output_type": "display_data",
          "data": {
            "image/png": "[encoded data removed]",
            "text/plain": [
              "<Figure size 432x288 with 1 Axes>"
            ]
          },
          "metadata": {
            "tags": [],
            "needs_background": "light"
          }
        }
      ]
    },
    {
      "cell_type": "code",
      "metadata": {
        "colab": {
          "base_uri": "https://localhost:8080/",
          "height": 322
        },
        "id": "G2ftzkMu8OWV",
        "outputId": "decc419b-13e4-4df4-c871-317161843af4"
      },
      "source": [
        "x_domain = np.linspace(np.min(x), np.max(x), 1000)\n",
        "\n",
        "# data points\n",
        "plt.scatter(x, 1/y, c='red', label='Data points')\n",
        "\n",
        "plt.title('Prosta regresja \\n', size=20)\n",
        "plt.xlabel('LSTAT')\n",
        "plt.ylabel('Cena domów')\n",
        "plt.legend()\n",
        "plt.show()"
      ],
      "execution_count": null,
      "outputs": [
        {
          "output_type": "display_data",
          "data": {
            "image/png": "[encoded data removed]",
            "text/plain": [
              "<Figure size 432x288 with 1 Axes>"
            ]
          },
          "metadata": {
            "tags": [],
            "needs_background": "light"
          }
        }
      ]
    },
    {
      "cell_type": "code",
      "metadata": {
        "colab": {
          "base_uri": "https://localhost:8080/"
        },
        "id": "sMt4ZguDQ7gX",
        "outputId": "61af2882-2617-4bde-cb91-a169ad8b92dd"
      },
      "source": [
        "model = sm.OLS(1/y, X[[\"const\", \"LSTAT\"]])\n",
        "results = model.fit()\n",
        "print(results.summary())"
      ],
      "execution_count": null,
      "outputs": [
        {
          "output_type": "stream",
          "text": [
            "                            OLS Regression Results                            \n",
            "==============================================================================\n",
            "Dep. Variable:                      y   R-squared:                       0.590\n",
            "Model:                            OLS   Adj. R-squared:                  0.589\n",
            "Method:                 Least Squares   F-statistic:                     724.5\n",
            "Date:                Sun, 25 Apr 2021   Prob (F-statistic):           1.42e-99\n",
            "Time:                        13:37:41   Log-Likelihood:                 1378.1\n",
            "No. Observations:                 506   AIC:                            -2752.\n",
            "Df Residuals:                     504   BIC:                            -2744.\n",
            "Df Model:                           1                                         \n",
            "Covariance Type:            nonrobust                                         \n",
            "==============================================================================\n",
            "                 coef    std err          t      P>|t|      [0.025      0.975]\n",
            "------------------------------------------------------------------------------\n",
            "const          0.0187      0.001     13.014      0.000       0.016       0.022\n",
            "LSTAT          0.0027   9.92e-05     26.917      0.000       0.002       0.003\n",
            "==============================================================================\n",
            "Omnibus:                      265.867   Durbin-Watson:                   0.910\n",
            "Prob(Omnibus):                  0.000   Jarque-Bera (JB):             3648.223\n",
            "Skew:                           1.954   Prob(JB):                         0.00\n",
            "Kurtosis:                      15.561   Cond. No.                         29.7\n",
            "==============================================================================\n",
            "\n",
            "Warnings:\n",
            "[1] Standard Errors assume that the covariance matrix of the errors is correctly specified.\n"
          ],
          "name": "stdout"
        }
      ]
    },
    {
      "cell_type": "code",
      "metadata": {
        "colab": {
          "base_uri": "https://localhost:8080/",
          "height": 353
        },
        "id": "0XpPhp2AREvm",
        "outputId": "44e1469e-e3fd-4f37-80b1-8d474a602f57"
      },
      "source": [
        "plt.hist(y-1/results.predict(X[[\"const\", \"LSTAT\"]]))"
      ],
      "execution_count": null,
      "outputs": [
        {
          "output_type": "execute_result",
          "data": {
            "text/plain": [
              "(array([  3.,  37., 147., 181.,  84.,  26.,  20.,   4.,   1.,   3.]),\n",
              " array([-13.23594925,  -9.17539524,  -5.11484122,  -1.0542872 ,\n",
              "          3.00626682,   7.06682084,  11.12737486,  15.18792888,\n",
              "         19.2484829 ,  23.30903692,  27.36959093]),\n",
              " <a list of 10 Patch objects>)"
            ]
          },
          "metadata": {
            "tags": []
          },
          "execution_count": 26
        },
        {
          "output_type": "display_data",
          "data": {
            "image/png": "[encoded data removed]",
            "text/plain": [
              "<Figure size 432x288 with 1 Axes>"
            ]
          },
          "metadata": {
            "tags": [],
            "needs_background": "light"
          }
        }
      ]
    },
    {
      "cell_type": "markdown",
      "metadata": {
        "id": "MuaLeNGT75XX"
      },
      "source": [
        "Spróbujmy dopasować model z takim przekształceniem.\n"
      ]
    },
    {
      "cell_type": "code",
      "metadata": {
        "colab": {
          "base_uri": "https://localhost:8080/"
        },
        "id": "8njaGd1-3sQ0",
        "outputId": "6c902d3f-7955-455c-e56c-f540504952f5"
      },
      "source": [
        "regr.fit(X[[\"LSTAT\", \"const\"]], 1/y)"
      ],
      "execution_count": null,
      "outputs": [
        {
          "output_type": "execute_result",
          "data": {
            "text/plain": [
              "LinearRegression(copy_X=True, fit_intercept=True, n_jobs=None, normalize=False)"
            ]
          },
          "metadata": {
            "tags": []
          },
          "execution_count": 29
        }
      ]
    },
    {
      "cell_type": "code",
      "metadata": {
        "colab": {
          "base_uri": "https://localhost:8080/"
        },
        "id": "FCGKQiys3vHT",
        "outputId": "8a0083bd-60b2-4437-da3a-00fb160e6ce4"
      },
      "source": [
        "print(r2_score(y, 1/regr.predict(X[[\"LSTAT\", \"const\"]])))"
      ],
      "execution_count": null,
      "outputs": [
        {
          "output_type": "stream",
          "text": [
            "0.5441462975864797\n"
          ],
          "name": "stdout"
        }
      ]
    },
    {
      "cell_type": "markdown",
      "metadata": {
        "id": "eELZmx5GOQV4"
      },
      "source": [
        "## Współlinowość"
      ]
    },
    {
      "cell_type": "markdown",
      "metadata": {
        "id": "ET72KAzvQelS"
      },
      "source": [
        "Współinowośc cech może poważnie zaburzyć wyniki modelu. Analizować problemy z nią związane możemy wykorzystując proste korelacje między zmiennymi lub m.in. wskaźnik Variance Infaltion Ratio."
      ]
    },
    {
      "cell_type": "code",
      "metadata": {
        "colab": {
          "base_uri": "https://localhost:8080/",
          "height": 399
        },
        "id": "ssr18w085pQn",
        "outputId": "357dac6c-3bed-4673-ea27-6c84096a3db4"
      },
      "source": [
        "corr = boston_X.corr()\n",
        "corr.style.background_gradient(cmap='coolwarm')"
      ],
      "execution_count": null,
      "outputs": [
        {
          "output_type": "stream",
          "text": [
            "/usr/local/lib/python3.6/dist-packages/pandas/io/formats/style.py:1126: RuntimeWarning: All-NaN slice encountered\n",
            "  smin = np.nanmin(s.to_numpy()) if vmin is None else vmin\n",
            "/usr/local/lib/python3.6/dist-packages/pandas/io/formats/style.py:1127: RuntimeWarning: All-NaN slice encountered\n",
            "  smax = np.nanmax(s.to_numpy()) if vmax is None else vmax\n"
          ],
          "name": "stderr"
        },
        {
          "output_type": "execute_result",
          "data": {
            "text/html": [
              "<style  type=\"text/css\" >\n",
              "#T_88a15016_2cab_11eb_b473_0242ac1c0002row0_col0,#T_88a15016_2cab_11eb_b473_0242ac1c0002row1_col1,#T_88a15016_2cab_11eb_b473_0242ac1c0002row2_col2,#T_88a15016_2cab_11eb_b473_0242ac1c0002row3_col3,#T_88a15016_2cab_11eb_b473_0242ac1c0002row4_col4,#T_88a15016_2cab_11eb_b473_0242ac1c0002row5_col5,#T_88a15016_2cab_11eb_b473_0242ac1c0002row6_col6,#T_88a15016_2cab_11eb_b473_0242ac1c0002row7_col7,#T_88a15016_2cab_11eb_b473_0242ac1c0002row8_col8,#T_88a15016_2cab_11eb_b473_0242ac1c0002row9_col9,#T_88a15016_2cab_11eb_b473_0242ac1c0002row10_col10,#T_88a15016_2cab_11eb_b473_0242ac1c0002row11_col11,#T_88a15016_2cab_11eb_b473_0242ac1c0002row12_col12{\n",
              "            background-color:  #b40426;\n",
              "            color:  #f1f1f1;\n",
              "        }#T_88a15016_2cab_11eb_b473_0242ac1c0002row0_col1,#T_88a15016_2cab_11eb_b473_0242ac1c0002row3_col0{\n",
              "            background-color:  #88abfd;\n",
              "            color:  #000000;\n",
              "        }#T_88a15016_2cab_11eb_b473_0242ac1c0002row0_col2{\n",
              "            background-color:  #f7bca1;\n",
              "            color:  #000000;\n",
              "        }#T_88a15016_2cab_11eb_b473_0242ac1c0002row0_col3{\n",
              "            background-color:  #4b64d5;\n",
              "            color:  #f1f1f1;\n",
              "        }#T_88a15016_2cab_11eb_b473_0242ac1c0002row0_col4{\n",
              "            background-color:  #f7b599;\n",
              "            color:  #000000;\n",
              "        }#T_88a15016_2cab_11eb_b473_0242ac1c0002row0_col5{\n",
              "            background-color:  #8badfd;\n",
              "            color:  #000000;\n",
              "        }#T_88a15016_2cab_11eb_b473_0242ac1c0002row0_col6{\n",
              "            background-color:  #f5c2aa;\n",
              "            color:  #000000;\n",
              "        }#T_88a15016_2cab_11eb_b473_0242ac1c0002row0_col7,#T_88a15016_2cab_11eb_b473_0242ac1c0002row11_col4{\n",
              "            background-color:  #82a6fb;\n",
              "            color:  #000000;\n",
              "        }#T_88a15016_2cab_11eb_b473_0242ac1c0002row0_col8,#T_88a15016_2cab_11eb_b473_0242ac1c0002row4_col12{\n",
              "            background-color:  #f49a7b;\n",
              "            color:  #000000;\n",
              "        }#T_88a15016_2cab_11eb_b473_0242ac1c0002row0_col9,#T_88a15016_2cab_11eb_b473_0242ac1c0002row2_col8,#T_88a15016_2cab_11eb_b473_0242ac1c0002row8_col0{\n",
              "            background-color:  #f6a283;\n",
              "            color:  #000000;\n",
              "        }#T_88a15016_2cab_11eb_b473_0242ac1c0002row0_col10{\n",
              "            background-color:  #dadce0;\n",
              "            color:  #000000;\n",
              "        }#T_88a15016_2cab_11eb_b473_0242ac1c0002row0_col11{\n",
              "            background-color:  #465ecf;\n",
              "            color:  #f1f1f1;\n",
              "        }#T_88a15016_2cab_11eb_b473_0242ac1c0002row0_col12{\n",
              "            background-color:  #f7b99e;\n",
              "            color:  #000000;\n",
              "        }#T_88a15016_2cab_11eb_b473_0242ac1c0002row0_col13,#T_88a15016_2cab_11eb_b473_0242ac1c0002row1_col13,#T_88a15016_2cab_11eb_b473_0242ac1c0002row2_col13,#T_88a15016_2cab_11eb_b473_0242ac1c0002row3_col13,#T_88a15016_2cab_11eb_b473_0242ac1c0002row4_col13,#T_88a15016_2cab_11eb_b473_0242ac1c0002row5_col13,#T_88a15016_2cab_11eb_b473_0242ac1c0002row6_col13,#T_88a15016_2cab_11eb_b473_0242ac1c0002row7_col13,#T_88a15016_2cab_11eb_b473_0242ac1c0002row8_col13,#T_88a15016_2cab_11eb_b473_0242ac1c0002row9_col13,#T_88a15016_2cab_11eb_b473_0242ac1c0002row10_col13,#T_88a15016_2cab_11eb_b473_0242ac1c0002row11_col13,#T_88a15016_2cab_11eb_b473_0242ac1c0002row12_col13,#T_88a15016_2cab_11eb_b473_0242ac1c0002row13_col0,#T_88a15016_2cab_11eb_b473_0242ac1c0002row13_col1,#T_88a15016_2cab_11eb_b473_0242ac1c0002row13_col2,#T_88a15016_2cab_11eb_b473_0242ac1c0002row13_col3,#T_88a15016_2cab_11eb_b473_0242ac1c0002row13_col4,#T_88a15016_2cab_11eb_b473_0242ac1c0002row13_col5,#T_88a15016_2cab_11eb_b473_0242ac1c0002row13_col6,#T_88a15016_2cab_11eb_b473_0242ac1c0002row13_col7,#T_88a15016_2cab_11eb_b473_0242ac1c0002row13_col8,#T_88a15016_2cab_11eb_b473_0242ac1c0002row13_col9,#T_88a15016_2cab_11eb_b473_0242ac1c0002row13_col10,#T_88a15016_2cab_11eb_b473_0242ac1c0002row13_col11,#T_88a15016_2cab_11eb_b473_0242ac1c0002row13_col12,#T_88a15016_2cab_11eb_b473_0242ac1c0002row13_col13{\n",
              "            background-color:  #000000;\n",
              "            color:  #f1f1f1;\n",
              "        }#T_88a15016_2cab_11eb_b473_0242ac1c0002row1_col0{\n",
              "            background-color:  #6485ec;\n",
              "            color:  #000000;\n",
              "        }#T_88a15016_2cab_11eb_b473_0242ac1c0002row1_col2,#T_88a15016_2cab_11eb_b473_0242ac1c0002row1_col6,#T_88a15016_2cab_11eb_b473_0242ac1c0002row8_col3{\n",
              "            background-color:  #5a78e4;\n",
              "            color:  #000000;\n",
              "        }#T_88a15016_2cab_11eb_b473_0242ac1c0002row1_col3{\n",
              "            background-color:  #4f69d9;\n",
              "            color:  #000000;\n",
              "        }#T_88a15016_2cab_11eb_b473_0242ac1c0002row1_col4,#T_88a15016_2cab_11eb_b473_0242ac1c0002row1_col9{\n",
              "            background-color:  #6788ee;\n",
              "            color:  #000000;\n",
              "        }#T_88a15016_2cab_11eb_b473_0242ac1c0002row1_col5,#T_88a15016_2cab_11eb_b473_0242ac1c0002row2_col0{\n",
              "            background-color:  #edd1c2;\n",
              "            color:  #000000;\n",
              "        }#T_88a15016_2cab_11eb_b473_0242ac1c0002row1_col7,#T_88a15016_2cab_11eb_b473_0242ac1c0002row9_col4{\n",
              "            background-color:  #ec7f63;\n",
              "            color:  #000000;\n",
              "        }#T_88a15016_2cab_11eb_b473_0242ac1c0002row1_col8,#T_88a15016_2cab_11eb_b473_0242ac1c0002row1_col12{\n",
              "            background-color:  #6180e9;\n",
              "            color:  #000000;\n",
              "        }#T_88a15016_2cab_11eb_b473_0242ac1c0002row1_col10,#T_88a15016_2cab_11eb_b473_0242ac1c0002row4_col7,#T_88a15016_2cab_11eb_b473_0242ac1c0002row5_col12,#T_88a15016_2cab_11eb_b473_0242ac1c0002row6_col1,#T_88a15016_2cab_11eb_b473_0242ac1c0002row7_col0,#T_88a15016_2cab_11eb_b473_0242ac1c0002row7_col2,#T_88a15016_2cab_11eb_b473_0242ac1c0002row7_col4,#T_88a15016_2cab_11eb_b473_0242ac1c0002row7_col6,#T_88a15016_2cab_11eb_b473_0242ac1c0002row7_col8,#T_88a15016_2cab_11eb_b473_0242ac1c0002row7_col9,#T_88a15016_2cab_11eb_b473_0242ac1c0002row8_col11,#T_88a15016_2cab_11eb_b473_0242ac1c0002row9_col11,#T_88a15016_2cab_11eb_b473_0242ac1c0002row10_col3,#T_88a15016_2cab_11eb_b473_0242ac1c0002row11_col0,#T_88a15016_2cab_11eb_b473_0242ac1c0002row12_col5{\n",
              "            background-color:  #3b4cc0;\n",
              "            color:  #f1f1f1;\n",
              "        }#T_88a15016_2cab_11eb_b473_0242ac1c0002row1_col11{\n",
              "            background-color:  #c9d7f0;\n",
              "            color:  #000000;\n",
              "        }#T_88a15016_2cab_11eb_b473_0242ac1c0002row2_col1,#T_88a15016_2cab_11eb_b473_0242ac1c0002row7_col3{\n",
              "            background-color:  #4055c8;\n",
              "            color:  #f1f1f1;\n",
              "        }#T_88a15016_2cab_11eb_b473_0242ac1c0002row2_col3,#T_88a15016_2cab_11eb_b473_0242ac1c0002row8_col1{\n",
              "            background-color:  #6f92f3;\n",
              "            color:  #000000;\n",
              "        }#T_88a15016_2cab_11eb_b473_0242ac1c0002row2_col4{\n",
              "            background-color:  #e0654f;\n",
              "            color:  #000000;\n",
              "        }#T_88a15016_2cab_11eb_b473_0242ac1c0002row2_col5{\n",
              "            background-color:  #6687ed;\n",
              "            color:  #000000;\n",
              "        }#T_88a15016_2cab_11eb_b473_0242ac1c0002row2_col6{\n",
              "            background-color:  #ee8669;\n",
              "            color:  #000000;\n",
              "        }#T_88a15016_2cab_11eb_b473_0242ac1c0002row2_col7,#T_88a15016_2cab_11eb_b473_0242ac1c0002row4_col1,#T_88a15016_2cab_11eb_b473_0242ac1c0002row11_col8{\n",
              "            background-color:  #445acc;\n",
              "            color:  #f1f1f1;\n",
              "        }#T_88a15016_2cab_11eb_b473_0242ac1c0002row2_col9{\n",
              "            background-color:  #ea7b60;\n",
              "            color:  #000000;\n",
              "        }#T_88a15016_2cab_11eb_b473_0242ac1c0002row2_col10{\n",
              "            background-color:  #ead4c8;\n",
              "            color:  #000000;\n",
              "        }#T_88a15016_2cab_11eb_b473_0242ac1c0002row2_col11,#T_88a15016_2cab_11eb_b473_0242ac1c0002row11_col9,#T_88a15016_2cab_11eb_b473_0242ac1c0002row12_col3{\n",
              "            background-color:  #4c66d6;\n",
              "            color:  #000000;\n",
              "        }#T_88a15016_2cab_11eb_b473_0242ac1c0002row2_col12{\n",
              "            background-color:  #f39778;\n",
              "            color:  #000000;\n",
              "        }#T_88a15016_2cab_11eb_b473_0242ac1c0002row3_col1{\n",
              "            background-color:  #aac7fd;\n",
              "            color:  #000000;\n",
              "        }#T_88a15016_2cab_11eb_b473_0242ac1c0002row3_col2{\n",
              "            background-color:  #cfdaea;\n",
              "            color:  #000000;\n",
              "        }#T_88a15016_2cab_11eb_b473_0242ac1c0002row3_col4,#T_88a15016_2cab_11eb_b473_0242ac1c0002row10_col0{\n",
              "            background-color:  #d9dce1;\n",
              "            color:  #000000;\n",
              "        }#T_88a15016_2cab_11eb_b473_0242ac1c0002row3_col5{\n",
              "            background-color:  #cbd8ee;\n",
              "            color:  #000000;\n",
              "        }#T_88a15016_2cab_11eb_b473_0242ac1c0002row3_col6{\n",
              "            background-color:  #d7dce3;\n",
              "            color:  #000000;\n",
              "        }#T_88a15016_2cab_11eb_b473_0242ac1c0002row3_col7{\n",
              "            background-color:  #b9d0f9;\n",
              "            color:  #000000;\n",
              "        }#T_88a15016_2cab_11eb_b473_0242ac1c0002row3_col8,#T_88a15016_2cab_11eb_b473_0242ac1c0002row3_col9{\n",
              "            background-color:  #a7c5fe;\n",
              "            color:  #000000;\n",
              "        }#T_88a15016_2cab_11eb_b473_0242ac1c0002row3_col10,#T_88a15016_2cab_11eb_b473_0242ac1c0002row4_col5{\n",
              "            background-color:  #799cf8;\n",
              "            color:  #000000;\n",
              "        }#T_88a15016_2cab_11eb_b473_0242ac1c0002row3_col11{\n",
              "            background-color:  #adc9fd;\n",
              "            color:  #000000;\n",
              "        }#T_88a15016_2cab_11eb_b473_0242ac1c0002row3_col12{\n",
              "            background-color:  #aec9fc;\n",
              "            color:  #000000;\n",
              "        }#T_88a15016_2cab_11eb_b473_0242ac1c0002row4_col0{\n",
              "            background-color:  #efcfbf;\n",
              "            color:  #000000;\n",
              "        }#T_88a15016_2cab_11eb_b473_0242ac1c0002row4_col2{\n",
              "            background-color:  #e16751;\n",
              "            color:  #000000;\n",
              "        }#T_88a15016_2cab_11eb_b473_0242ac1c0002row4_col3,#T_88a15016_2cab_11eb_b473_0242ac1c0002row5_col3,#T_88a15016_2cab_11eb_b473_0242ac1c0002row5_col8{\n",
              "            background-color:  #779af7;\n",
              "            color:  #000000;\n",
              "        }#T_88a15016_2cab_11eb_b473_0242ac1c0002row4_col6{\n",
              "            background-color:  #e46e56;\n",
              "            color:  #000000;\n",
              "        }#T_88a15016_2cab_11eb_b473_0242ac1c0002row4_col8{\n",
              "            background-color:  #f59d7e;\n",
              "            color:  #000000;\n",
              "        }#T_88a15016_2cab_11eb_b473_0242ac1c0002row4_col9{\n",
              "            background-color:  #f08b6e;\n",
              "            color:  #000000;\n",
              "        }#T_88a15016_2cab_11eb_b473_0242ac1c0002row4_col10{\n",
              "            background-color:  #c5d6f2;\n",
              "            color:  #000000;\n",
              "        }#T_88a15016_2cab_11eb_b473_0242ac1c0002row4_col11{\n",
              "            background-color:  #485fd1;\n",
              "            color:  #f1f1f1;\n",
              "        }#T_88a15016_2cab_11eb_b473_0242ac1c0002row5_col0,#T_88a15016_2cab_11eb_b473_0242ac1c0002row6_col11{\n",
              "            background-color:  #5f7fe8;\n",
              "            color:  #000000;\n",
              "        }#T_88a15016_2cab_11eb_b473_0242ac1c0002row5_col1{\n",
              "            background-color:  #ebd3c6;\n",
              "            color:  #000000;\n",
              "        }#T_88a15016_2cab_11eb_b473_0242ac1c0002row5_col2,#T_88a15016_2cab_11eb_b473_0242ac1c0002row6_col3,#T_88a15016_2cab_11eb_b473_0242ac1c0002row10_col11{\n",
              "            background-color:  #7699f6;\n",
              "            color:  #000000;\n",
              "        }#T_88a15016_2cab_11eb_b473_0242ac1c0002row5_col4{\n",
              "            background-color:  #92b4fe;\n",
              "            color:  #000000;\n",
              "        }#T_88a15016_2cab_11eb_b473_0242ac1c0002row5_col6{\n",
              "            background-color:  #9bbcff;\n",
              "            color:  #000000;\n",
              "        }#T_88a15016_2cab_11eb_b473_0242ac1c0002row5_col7{\n",
              "            background-color:  #ead5c9;\n",
              "            color:  #000000;\n",
              "        }#T_88a15016_2cab_11eb_b473_0242ac1c0002row5_col9,#T_88a15016_2cab_11eb_b473_0242ac1c0002row10_col5{\n",
              "            background-color:  #6c8ff1;\n",
              "            color:  #000000;\n",
              "        }#T_88a15016_2cab_11eb_b473_0242ac1c0002row5_col10{\n",
              "            background-color:  #4257c9;\n",
              "            color:  #f1f1f1;\n",
              "        }#T_88a15016_2cab_11eb_b473_0242ac1c0002row5_col11{\n",
              "            background-color:  #bfd3f6;\n",
              "            color:  #000000;\n",
              "        }#T_88a15016_2cab_11eb_b473_0242ac1c0002row6_col0{\n",
              "            background-color:  #e5d8d1;\n",
              "            color:  #000000;\n",
              "        }#T_88a15016_2cab_11eb_b473_0242ac1c0002row6_col2{\n",
              "            background-color:  #ef886b;\n",
              "            color:  #000000;\n",
              "        }#T_88a15016_2cab_11eb_b473_0242ac1c0002row6_col4{\n",
              "            background-color:  #e36c55;\n",
              "            color:  #000000;\n",
              "        }#T_88a15016_2cab_11eb_b473_0242ac1c0002row6_col5{\n",
              "            background-color:  #86a9fc;\n",
              "            color:  #000000;\n",
              "        }#T_88a15016_2cab_11eb_b473_0242ac1c0002row6_col7{\n",
              "            background-color:  #3e51c5;\n",
              "            color:  #f1f1f1;\n",
              "        }#T_88a15016_2cab_11eb_b473_0242ac1c0002row6_col8{\n",
              "            background-color:  #f5c1a9;\n",
              "            color:  #000000;\n",
              "        }#T_88a15016_2cab_11eb_b473_0242ac1c0002row6_col9{\n",
              "            background-color:  #f7b497;\n",
              "            color:  #000000;\n",
              "        }#T_88a15016_2cab_11eb_b473_0242ac1c0002row6_col10{\n",
              "            background-color:  #d5dbe5;\n",
              "            color:  #000000;\n",
              "        }#T_88a15016_2cab_11eb_b473_0242ac1c0002row6_col12{\n",
              "            background-color:  #f4987a;\n",
              "            color:  #000000;\n",
              "        }#T_88a15016_2cab_11eb_b473_0242ac1c0002row7_col1{\n",
              "            background-color:  #f08a6c;\n",
              "            color:  #000000;\n",
              "        }#T_88a15016_2cab_11eb_b473_0242ac1c0002row7_col5{\n",
              "            background-color:  #dedcdb;\n",
              "            color:  #000000;\n",
              "        }#T_88a15016_2cab_11eb_b473_0242ac1c0002row7_col10,#T_88a15016_2cab_11eb_b473_0242ac1c0002row10_col1{\n",
              "            background-color:  #5e7de7;\n",
              "            color:  #000000;\n",
              "        }#T_88a15016_2cab_11eb_b473_0242ac1c0002row7_col11{\n",
              "            background-color:  #dfdbd9;\n",
              "            color:  #000000;\n",
              "        }#T_88a15016_2cab_11eb_b473_0242ac1c0002row7_col12{\n",
              "            background-color:  #506bda;\n",
              "            color:  #000000;\n",
              "        }#T_88a15016_2cab_11eb_b473_0242ac1c0002row8_col2{\n",
              "            background-color:  #f39475;\n",
              "            color:  #000000;\n",
              "        }#T_88a15016_2cab_11eb_b473_0242ac1c0002row8_col4{\n",
              "            background-color:  #f18d6f;\n",
              "            color:  #000000;\n",
              "        }#T_88a15016_2cab_11eb_b473_0242ac1c0002row8_col5{\n",
              "            background-color:  #8db0fe;\n",
              "            color:  #000000;\n",
              "        }#T_88a15016_2cab_11eb_b473_0242ac1c0002row8_col6{\n",
              "            background-color:  #f7b093;\n",
              "            color:  #000000;\n",
              "        }#T_88a15016_2cab_11eb_b473_0242ac1c0002row8_col7,#T_88a15016_2cab_11eb_b473_0242ac1c0002row11_col10,#T_88a15016_2cab_11eb_b473_0242ac1c0002row11_col12,#T_88a15016_2cab_11eb_b473_0242ac1c0002row12_col7{\n",
              "            background-color:  #6b8df0;\n",
              "            color:  #000000;\n",
              "        }#T_88a15016_2cab_11eb_b473_0242ac1c0002row8_col9{\n",
              "            background-color:  #c83836;\n",
              "            color:  #f1f1f1;\n",
              "        }#T_88a15016_2cab_11eb_b473_0242ac1c0002row8_col10{\n",
              "            background-color:  #f3c7b1;\n",
              "            color:  #000000;\n",
              "        }#T_88a15016_2cab_11eb_b473_0242ac1c0002row8_col12{\n",
              "            background-color:  #f7b396;\n",
              "            color:  #000000;\n",
              "        }#T_88a15016_2cab_11eb_b473_0242ac1c0002row9_col0{\n",
              "            background-color:  #f7ad90;\n",
              "            color:  #000000;\n",
              "        }#T_88a15016_2cab_11eb_b473_0242ac1c0002row9_col1{\n",
              "            background-color:  #6e90f2;\n",
              "            color:  #000000;\n",
              "        }#T_88a15016_2cab_11eb_b473_0242ac1c0002row9_col2{\n",
              "            background-color:  #e67259;\n",
              "            color:  #000000;\n",
              "        }#T_88a15016_2cab_11eb_b473_0242ac1c0002row9_col3{\n",
              "            background-color:  #516ddb;\n",
              "            color:  #000000;\n",
              "        }#T_88a15016_2cab_11eb_b473_0242ac1c0002row9_col5{\n",
              "            background-color:  #7b9ff9;\n",
              "            color:  #000000;\n",
              "        }#T_88a15016_2cab_11eb_b473_0242ac1c0002row9_col6,#T_88a15016_2cab_11eb_b473_0242ac1c0002row9_col12{\n",
              "            background-color:  #f7a688;\n",
              "            color:  #000000;\n",
              "        }#T_88a15016_2cab_11eb_b473_0242ac1c0002row9_col7{\n",
              "            background-color:  #6384eb;\n",
              "            color:  #000000;\n",
              "        }#T_88a15016_2cab_11eb_b473_0242ac1c0002row9_col8{\n",
              "            background-color:  #ca3b37;\n",
              "            color:  #f1f1f1;\n",
              "        }#T_88a15016_2cab_11eb_b473_0242ac1c0002row9_col10,#T_88a15016_2cab_11eb_b473_0242ac1c0002row10_col12{\n",
              "            background-color:  #f3c8b2;\n",
              "            color:  #000000;\n",
              "        }#T_88a15016_2cab_11eb_b473_0242ac1c0002row10_col2{\n",
              "            background-color:  #f5c0a7;\n",
              "            color:  #000000;\n",
              "        }#T_88a15016_2cab_11eb_b473_0242ac1c0002row10_col4{\n",
              "            background-color:  #e7d7ce;\n",
              "            color:  #000000;\n",
              "        }#T_88a15016_2cab_11eb_b473_0242ac1c0002row10_col6{\n",
              "            background-color:  #eed0c0;\n",
              "            color:  #000000;\n",
              "        }#T_88a15016_2cab_11eb_b473_0242ac1c0002row10_col7{\n",
              "            background-color:  #9fbfff;\n",
              "            color:  #000000;\n",
              "        }#T_88a15016_2cab_11eb_b473_0242ac1c0002row10_col8{\n",
              "            background-color:  #f6bfa6;\n",
              "            color:  #000000;\n",
              "        }#T_88a15016_2cab_11eb_b473_0242ac1c0002row10_col9{\n",
              "            background-color:  #f6bda2;\n",
              "            color:  #000000;\n",
              "        }#T_88a15016_2cab_11eb_b473_0242ac1c0002row11_col1{\n",
              "            background-color:  #d6dce4;\n",
              "            color:  #000000;\n",
              "        }#T_88a15016_2cab_11eb_b473_0242ac1c0002row11_col2{\n",
              "            background-color:  #7da0f9;\n",
              "            color:  #000000;\n",
              "        }#T_88a15016_2cab_11eb_b473_0242ac1c0002row11_col3{\n",
              "            background-color:  #6a8bef;\n",
              "            color:  #000000;\n",
              "        }#T_88a15016_2cab_11eb_b473_0242ac1c0002row11_col5{\n",
              "            background-color:  #d2dbe8;\n",
              "            color:  #000000;\n",
              "        }#T_88a15016_2cab_11eb_b473_0242ac1c0002row11_col6{\n",
              "            background-color:  #94b6ff;\n",
              "            color:  #000000;\n",
              "        }#T_88a15016_2cab_11eb_b473_0242ac1c0002row11_col7{\n",
              "            background-color:  #f2cbb7;\n",
              "            color:  #000000;\n",
              "        }#T_88a15016_2cab_11eb_b473_0242ac1c0002row12_col0{\n",
              "            background-color:  #f2c9b4;\n",
              "            color:  #000000;\n",
              "        }#T_88a15016_2cab_11eb_b473_0242ac1c0002row12_col1{\n",
              "            background-color:  #5977e3;\n",
              "            color:  #000000;\n",
              "        }#T_88a15016_2cab_11eb_b473_0242ac1c0002row12_col2,#T_88a15016_2cab_11eb_b473_0242ac1c0002row12_col4{\n",
              "            background-color:  #f29274;\n",
              "            color:  #000000;\n",
              "        }#T_88a15016_2cab_11eb_b473_0242ac1c0002row12_col6{\n",
              "            background-color:  #f29072;\n",
              "            color:  #000000;\n",
              "        }#T_88a15016_2cab_11eb_b473_0242ac1c0002row12_col8{\n",
              "            background-color:  #f7ba9f;\n",
              "            color:  #000000;\n",
              "        }#T_88a15016_2cab_11eb_b473_0242ac1c0002row12_col9{\n",
              "            background-color:  #f7ac8e;\n",
              "            color:  #000000;\n",
              "        }#T_88a15016_2cab_11eb_b473_0242ac1c0002row12_col10{\n",
              "            background-color:  #e9d5cb;\n",
              "            color:  #000000;\n",
              "        }#T_88a15016_2cab_11eb_b473_0242ac1c0002row12_col11{\n",
              "            background-color:  #4a63d3;\n",
              "            color:  #f1f1f1;\n",
              "        }</style><table id=\"T_88a15016_2cab_11eb_b473_0242ac1c0002\" ><thead>    <tr>        <th class=\"blank level0\" ></th>        <th class=\"col_heading level0 col0\" >CRIM</th>        <th class=\"col_heading level0 col1\" >ZN</th>        <th class=\"col_heading level0 col2\" >INDUS</th>        <th class=\"col_heading level0 col3\" >CHAS</th>        <th class=\"col_heading level0 col4\" >NOX</th>        <th class=\"col_heading level0 col5\" >RM</th>        <th class=\"col_heading level0 col6\" >AGE</th>        <th class=\"col_heading level0 col7\" >DIS</th>        <th class=\"col_heading level0 col8\" >RAD</th>        <th class=\"col_heading level0 col9\" >TAX</th>        <th class=\"col_heading level0 col10\" >PTRATIO</th>        <th class=\"col_heading level0 col11\" >B</th>        <th class=\"col_heading level0 col12\" >LSTAT</th>        <th class=\"col_heading level0 col13\" >b0</th>    </tr></thead><tbody>\n",
              "                <tr>\n",
              "                        <th id=\"T_88a15016_2cab_11eb_b473_0242ac1c0002level0_row0\" class=\"row_heading level0 row0\" >CRIM</th>\n",
              "                        <td id=\"T_88a15016_2cab_11eb_b473_0242ac1c0002row0_col0\" class=\"data row0 col0\" >1.000000</td>\n",
              "                        <td id=\"T_88a15016_2cab_11eb_b473_0242ac1c0002row0_col1\" class=\"data row0 col1\" >-0.200469</td>\n",
              "                        <td id=\"T_88a15016_2cab_11eb_b473_0242ac1c0002row0_col2\" class=\"data row0 col2\" >0.406583</td>\n",
              "                        <td id=\"T_88a15016_2cab_11eb_b473_0242ac1c0002row0_col3\" class=\"data row0 col3\" >-0.055892</td>\n",
              "                        <td id=\"T_88a15016_2cab_11eb_b473_0242ac1c0002row0_col4\" class=\"data row0 col4\" >0.420972</td>\n",
              "                        <td id=\"T_88a15016_2cab_11eb_b473_0242ac1c0002row0_col5\" class=\"data row0 col5\" >-0.219247</td>\n",
              "                        <td id=\"T_88a15016_2cab_11eb_b473_0242ac1c0002row0_col6\" class=\"data row0 col6\" >0.352734</td>\n",
              "                        <td id=\"T_88a15016_2cab_11eb_b473_0242ac1c0002row0_col7\" class=\"data row0 col7\" >-0.379670</td>\n",
              "                        <td id=\"T_88a15016_2cab_11eb_b473_0242ac1c0002row0_col8\" class=\"data row0 col8\" >0.625505</td>\n",
              "                        <td id=\"T_88a15016_2cab_11eb_b473_0242ac1c0002row0_col9\" class=\"data row0 col9\" >0.582764</td>\n",
              "                        <td id=\"T_88a15016_2cab_11eb_b473_0242ac1c0002row0_col10\" class=\"data row0 col10\" >0.289946</td>\n",
              "                        <td id=\"T_88a15016_2cab_11eb_b473_0242ac1c0002row0_col11\" class=\"data row0 col11\" >-0.385064</td>\n",
              "                        <td id=\"T_88a15016_2cab_11eb_b473_0242ac1c0002row0_col12\" class=\"data row0 col12\" >0.455621</td>\n",
              "                        <td id=\"T_88a15016_2cab_11eb_b473_0242ac1c0002row0_col13\" class=\"data row0 col13\" >nan</td>\n",
              "            </tr>\n",
              "            <tr>\n",
              "                        <th id=\"T_88a15016_2cab_11eb_b473_0242ac1c0002level0_row1\" class=\"row_heading level0 row1\" >ZN</th>\n",
              "                        <td id=\"T_88a15016_2cab_11eb_b473_0242ac1c0002row1_col0\" class=\"data row1 col0\" >-0.200469</td>\n",
              "                        <td id=\"T_88a15016_2cab_11eb_b473_0242ac1c0002row1_col1\" class=\"data row1 col1\" >1.000000</td>\n",
              "                        <td id=\"T_88a15016_2cab_11eb_b473_0242ac1c0002row1_col2\" class=\"data row1 col2\" >-0.533828</td>\n",
              "                        <td id=\"T_88a15016_2cab_11eb_b473_0242ac1c0002row1_col3\" class=\"data row1 col3\" >-0.042697</td>\n",
              "                        <td id=\"T_88a15016_2cab_11eb_b473_0242ac1c0002row1_col4\" class=\"data row1 col4\" >-0.516604</td>\n",
              "                        <td id=\"T_88a15016_2cab_11eb_b473_0242ac1c0002row1_col5\" class=\"data row1 col5\" >0.311991</td>\n",
              "                        <td id=\"T_88a15016_2cab_11eb_b473_0242ac1c0002row1_col6\" class=\"data row1 col6\" >-0.569537</td>\n",
              "                        <td id=\"T_88a15016_2cab_11eb_b473_0242ac1c0002row1_col7\" class=\"data row1 col7\" >0.664408</td>\n",
              "                        <td id=\"T_88a15016_2cab_11eb_b473_0242ac1c0002row1_col8\" class=\"data row1 col8\" >-0.311948</td>\n",
              "                        <td id=\"T_88a15016_2cab_11eb_b473_0242ac1c0002row1_col9\" class=\"data row1 col9\" >-0.314563</td>\n",
              "                        <td id=\"T_88a15016_2cab_11eb_b473_0242ac1c0002row1_col10\" class=\"data row1 col10\" >-0.391679</td>\n",
              "                        <td id=\"T_88a15016_2cab_11eb_b473_0242ac1c0002row1_col11\" class=\"data row1 col11\" >0.175520</td>\n",
              "                        <td id=\"T_88a15016_2cab_11eb_b473_0242ac1c0002row1_col12\" class=\"data row1 col12\" >-0.412995</td>\n",
              "                        <td id=\"T_88a15016_2cab_11eb_b473_0242ac1c0002row1_col13\" class=\"data row1 col13\" >nan</td>\n",
              "            </tr>\n",
              "            <tr>\n",
              "                        <th id=\"T_88a15016_2cab_11eb_b473_0242ac1c0002level0_row2\" class=\"row_heading level0 row2\" >INDUS</th>\n",
              "                        <td id=\"T_88a15016_2cab_11eb_b473_0242ac1c0002row2_col0\" class=\"data row2 col0\" >0.406583</td>\n",
              "                        <td id=\"T_88a15016_2cab_11eb_b473_0242ac1c0002row2_col1\" class=\"data row2 col1\" >-0.533828</td>\n",
              "                        <td id=\"T_88a15016_2cab_11eb_b473_0242ac1c0002row2_col2\" class=\"data row2 col2\" >1.000000</td>\n",
              "                        <td id=\"T_88a15016_2cab_11eb_b473_0242ac1c0002row2_col3\" class=\"data row2 col3\" >0.062938</td>\n",
              "                        <td id=\"T_88a15016_2cab_11eb_b473_0242ac1c0002row2_col4\" class=\"data row2 col4\" >0.763651</td>\n",
              "                        <td id=\"T_88a15016_2cab_11eb_b473_0242ac1c0002row2_col5\" class=\"data row2 col5\" >-0.391676</td>\n",
              "                        <td id=\"T_88a15016_2cab_11eb_b473_0242ac1c0002row2_col6\" class=\"data row2 col6\" >0.644779</td>\n",
              "                        <td id=\"T_88a15016_2cab_11eb_b473_0242ac1c0002row2_col7\" class=\"data row2 col7\" >-0.708027</td>\n",
              "                        <td id=\"T_88a15016_2cab_11eb_b473_0242ac1c0002row2_col8\" class=\"data row2 col8\" >0.595129</td>\n",
              "                        <td id=\"T_88a15016_2cab_11eb_b473_0242ac1c0002row2_col9\" class=\"data row2 col9\" >0.720760</td>\n",
              "                        <td id=\"T_88a15016_2cab_11eb_b473_0242ac1c0002row2_col10\" class=\"data row2 col10\" >0.383248</td>\n",
              "                        <td id=\"T_88a15016_2cab_11eb_b473_0242ac1c0002row2_col11\" class=\"data row2 col11\" >-0.356977</td>\n",
              "                        <td id=\"T_88a15016_2cab_11eb_b473_0242ac1c0002row2_col12\" class=\"data row2 col12\" >0.603800</td>\n",
              "                        <td id=\"T_88a15016_2cab_11eb_b473_0242ac1c0002row2_col13\" class=\"data row2 col13\" >nan</td>\n",
              "            </tr>\n",
              "            <tr>\n",
              "                        <th id=\"T_88a15016_2cab_11eb_b473_0242ac1c0002level0_row3\" class=\"row_heading level0 row3\" >CHAS</th>\n",
              "                        <td id=\"T_88a15016_2cab_11eb_b473_0242ac1c0002row3_col0\" class=\"data row3 col0\" >-0.055892</td>\n",
              "                        <td id=\"T_88a15016_2cab_11eb_b473_0242ac1c0002row3_col1\" class=\"data row3 col1\" >-0.042697</td>\n",
              "                        <td id=\"T_88a15016_2cab_11eb_b473_0242ac1c0002row3_col2\" class=\"data row3 col2\" >0.062938</td>\n",
              "                        <td id=\"T_88a15016_2cab_11eb_b473_0242ac1c0002row3_col3\" class=\"data row3 col3\" >1.000000</td>\n",
              "                        <td id=\"T_88a15016_2cab_11eb_b473_0242ac1c0002row3_col4\" class=\"data row3 col4\" >0.091203</td>\n",
              "                        <td id=\"T_88a15016_2cab_11eb_b473_0242ac1c0002row3_col5\" class=\"data row3 col5\" >0.091251</td>\n",
              "                        <td id=\"T_88a15016_2cab_11eb_b473_0242ac1c0002row3_col6\" class=\"data row3 col6\" >0.086518</td>\n",
              "                        <td id=\"T_88a15016_2cab_11eb_b473_0242ac1c0002row3_col7\" class=\"data row3 col7\" >-0.099176</td>\n",
              "                        <td id=\"T_88a15016_2cab_11eb_b473_0242ac1c0002row3_col8\" class=\"data row3 col8\" >-0.007368</td>\n",
              "                        <td id=\"T_88a15016_2cab_11eb_b473_0242ac1c0002row3_col9\" class=\"data row3 col9\" >-0.035587</td>\n",
              "                        <td id=\"T_88a15016_2cab_11eb_b473_0242ac1c0002row3_col10\" class=\"data row3 col10\" >-0.121515</td>\n",
              "                        <td id=\"T_88a15016_2cab_11eb_b473_0242ac1c0002row3_col11\" class=\"data row3 col11\" >0.048788</td>\n",
              "                        <td id=\"T_88a15016_2cab_11eb_b473_0242ac1c0002row3_col12\" class=\"data row3 col12\" >-0.053929</td>\n",
              "                        <td id=\"T_88a15016_2cab_11eb_b473_0242ac1c0002row3_col13\" class=\"data row3 col13\" >nan</td>\n",
              "            </tr>\n",
              "            <tr>\n",
              "                        <th id=\"T_88a15016_2cab_11eb_b473_0242ac1c0002level0_row4\" class=\"row_heading level0 row4\" >NOX</th>\n",
              "                        <td id=\"T_88a15016_2cab_11eb_b473_0242ac1c0002row4_col0\" class=\"data row4 col0\" >0.420972</td>\n",
              "                        <td id=\"T_88a15016_2cab_11eb_b473_0242ac1c0002row4_col1\" class=\"data row4 col1\" >-0.516604</td>\n",
              "                        <td id=\"T_88a15016_2cab_11eb_b473_0242ac1c0002row4_col2\" class=\"data row4 col2\" >0.763651</td>\n",
              "                        <td id=\"T_88a15016_2cab_11eb_b473_0242ac1c0002row4_col3\" class=\"data row4 col3\" >0.091203</td>\n",
              "                        <td id=\"T_88a15016_2cab_11eb_b473_0242ac1c0002row4_col4\" class=\"data row4 col4\" >1.000000</td>\n",
              "                        <td id=\"T_88a15016_2cab_11eb_b473_0242ac1c0002row4_col5\" class=\"data row4 col5\" >-0.302188</td>\n",
              "                        <td id=\"T_88a15016_2cab_11eb_b473_0242ac1c0002row4_col6\" class=\"data row4 col6\" >0.731470</td>\n",
              "                        <td id=\"T_88a15016_2cab_11eb_b473_0242ac1c0002row4_col7\" class=\"data row4 col7\" >-0.769230</td>\n",
              "                        <td id=\"T_88a15016_2cab_11eb_b473_0242ac1c0002row4_col8\" class=\"data row4 col8\" >0.611441</td>\n",
              "                        <td id=\"T_88a15016_2cab_11eb_b473_0242ac1c0002row4_col9\" class=\"data row4 col9\" >0.668023</td>\n",
              "                        <td id=\"T_88a15016_2cab_11eb_b473_0242ac1c0002row4_col10\" class=\"data row4 col10\" >0.188933</td>\n",
              "                        <td id=\"T_88a15016_2cab_11eb_b473_0242ac1c0002row4_col11\" class=\"data row4 col11\" >-0.380051</td>\n",
              "                        <td id=\"T_88a15016_2cab_11eb_b473_0242ac1c0002row4_col12\" class=\"data row4 col12\" >0.590879</td>\n",
              "                        <td id=\"T_88a15016_2cab_11eb_b473_0242ac1c0002row4_col13\" class=\"data row4 col13\" >nan</td>\n",
              "            </tr>\n",
              "            <tr>\n",
              "                        <th id=\"T_88a15016_2cab_11eb_b473_0242ac1c0002level0_row5\" class=\"row_heading level0 row5\" >RM</th>\n",
              "                        <td id=\"T_88a15016_2cab_11eb_b473_0242ac1c0002row5_col0\" class=\"data row5 col0\" >-0.219247</td>\n",
              "                        <td id=\"T_88a15016_2cab_11eb_b473_0242ac1c0002row5_col1\" class=\"data row5 col1\" >0.311991</td>\n",
              "                        <td id=\"T_88a15016_2cab_11eb_b473_0242ac1c0002row5_col2\" class=\"data row5 col2\" >-0.391676</td>\n",
              "                        <td id=\"T_88a15016_2cab_11eb_b473_0242ac1c0002row5_col3\" class=\"data row5 col3\" >0.091251</td>\n",
              "                        <td id=\"T_88a15016_2cab_11eb_b473_0242ac1c0002row5_col4\" class=\"data row5 col4\" >-0.302188</td>\n",
              "                        <td id=\"T_88a15016_2cab_11eb_b473_0242ac1c0002row5_col5\" class=\"data row5 col5\" >1.000000</td>\n",
              "                        <td id=\"T_88a15016_2cab_11eb_b473_0242ac1c0002row5_col6\" class=\"data row5 col6\" >-0.240265</td>\n",
              "                        <td id=\"T_88a15016_2cab_11eb_b473_0242ac1c0002row5_col7\" class=\"data row5 col7\" >0.205246</td>\n",
              "                        <td id=\"T_88a15016_2cab_11eb_b473_0242ac1c0002row5_col8\" class=\"data row5 col8\" >-0.209847</td>\n",
              "                        <td id=\"T_88a15016_2cab_11eb_b473_0242ac1c0002row5_col9\" class=\"data row5 col9\" >-0.292048</td>\n",
              "                        <td id=\"T_88a15016_2cab_11eb_b473_0242ac1c0002row5_col10\" class=\"data row5 col10\" >-0.355501</td>\n",
              "                        <td id=\"T_88a15016_2cab_11eb_b473_0242ac1c0002row5_col11\" class=\"data row5 col11\" >0.128069</td>\n",
              "                        <td id=\"T_88a15016_2cab_11eb_b473_0242ac1c0002row5_col12\" class=\"data row5 col12\" >-0.613808</td>\n",
              "                        <td id=\"T_88a15016_2cab_11eb_b473_0242ac1c0002row5_col13\" class=\"data row5 col13\" >nan</td>\n",
              "            </tr>\n",
              "            <tr>\n",
              "                        <th id=\"T_88a15016_2cab_11eb_b473_0242ac1c0002level0_row6\" class=\"row_heading level0 row6\" >AGE</th>\n",
              "                        <td id=\"T_88a15016_2cab_11eb_b473_0242ac1c0002row6_col0\" class=\"data row6 col0\" >0.352734</td>\n",
              "                        <td id=\"T_88a15016_2cab_11eb_b473_0242ac1c0002row6_col1\" class=\"data row6 col1\" >-0.569537</td>\n",
              "                        <td id=\"T_88a15016_2cab_11eb_b473_0242ac1c0002row6_col2\" class=\"data row6 col2\" >0.644779</td>\n",
              "                        <td id=\"T_88a15016_2cab_11eb_b473_0242ac1c0002row6_col3\" class=\"data row6 col3\" >0.086518</td>\n",
              "                        <td id=\"T_88a15016_2cab_11eb_b473_0242ac1c0002row6_col4\" class=\"data row6 col4\" >0.731470</td>\n",
              "                        <td id=\"T_88a15016_2cab_11eb_b473_0242ac1c0002row6_col5\" class=\"data row6 col5\" >-0.240265</td>\n",
              "                        <td id=\"T_88a15016_2cab_11eb_b473_0242ac1c0002row6_col6\" class=\"data row6 col6\" >1.000000</td>\n",
              "                        <td id=\"T_88a15016_2cab_11eb_b473_0242ac1c0002row6_col7\" class=\"data row6 col7\" >-0.747881</td>\n",
              "                        <td id=\"T_88a15016_2cab_11eb_b473_0242ac1c0002row6_col8\" class=\"data row6 col8\" >0.456022</td>\n",
              "                        <td id=\"T_88a15016_2cab_11eb_b473_0242ac1c0002row6_col9\" class=\"data row6 col9\" >0.506456</td>\n",
              "                        <td id=\"T_88a15016_2cab_11eb_b473_0242ac1c0002row6_col10\" class=\"data row6 col10\" >0.261515</td>\n",
              "                        <td id=\"T_88a15016_2cab_11eb_b473_0242ac1c0002row6_col11\" class=\"data row6 col11\" >-0.273534</td>\n",
              "                        <td id=\"T_88a15016_2cab_11eb_b473_0242ac1c0002row6_col12\" class=\"data row6 col12\" >0.602339</td>\n",
              "                        <td id=\"T_88a15016_2cab_11eb_b473_0242ac1c0002row6_col13\" class=\"data row6 col13\" >nan</td>\n",
              "            </tr>\n",
              "            <tr>\n",
              "                        <th id=\"T_88a15016_2cab_11eb_b473_0242ac1c0002level0_row7\" class=\"row_heading level0 row7\" >DIS</th>\n",
              "                        <td id=\"T_88a15016_2cab_11eb_b473_0242ac1c0002row7_col0\" class=\"data row7 col0\" >-0.379670</td>\n",
              "                        <td id=\"T_88a15016_2cab_11eb_b473_0242ac1c0002row7_col1\" class=\"data row7 col1\" >0.664408</td>\n",
              "                        <td id=\"T_88a15016_2cab_11eb_b473_0242ac1c0002row7_col2\" class=\"data row7 col2\" >-0.708027</td>\n",
              "                        <td id=\"T_88a15016_2cab_11eb_b473_0242ac1c0002row7_col3\" class=\"data row7 col3\" >-0.099176</td>\n",
              "                        <td id=\"T_88a15016_2cab_11eb_b473_0242ac1c0002row7_col4\" class=\"data row7 col4\" >-0.769230</td>\n",
              "                        <td id=\"T_88a15016_2cab_11eb_b473_0242ac1c0002row7_col5\" class=\"data row7 col5\" >0.205246</td>\n",
              "                        <td id=\"T_88a15016_2cab_11eb_b473_0242ac1c0002row7_col6\" class=\"data row7 col6\" >-0.747881</td>\n",
              "                        <td id=\"T_88a15016_2cab_11eb_b473_0242ac1c0002row7_col7\" class=\"data row7 col7\" >1.000000</td>\n",
              "                        <td id=\"T_88a15016_2cab_11eb_b473_0242ac1c0002row7_col8\" class=\"data row7 col8\" >-0.494588</td>\n",
              "                        <td id=\"T_88a15016_2cab_11eb_b473_0242ac1c0002row7_col9\" class=\"data row7 col9\" >-0.534432</td>\n",
              "                        <td id=\"T_88a15016_2cab_11eb_b473_0242ac1c0002row7_col10\" class=\"data row7 col10\" >-0.232471</td>\n",
              "                        <td id=\"T_88a15016_2cab_11eb_b473_0242ac1c0002row7_col11\" class=\"data row7 col11\" >0.291512</td>\n",
              "                        <td id=\"T_88a15016_2cab_11eb_b473_0242ac1c0002row7_col12\" class=\"data row7 col12\" >-0.496996</td>\n",
              "                        <td id=\"T_88a15016_2cab_11eb_b473_0242ac1c0002row7_col13\" class=\"data row7 col13\" >nan</td>\n",
              "            </tr>\n",
              "            <tr>\n",
              "                        <th id=\"T_88a15016_2cab_11eb_b473_0242ac1c0002level0_row8\" class=\"row_heading level0 row8\" >RAD</th>\n",
              "                        <td id=\"T_88a15016_2cab_11eb_b473_0242ac1c0002row8_col0\" class=\"data row8 col0\" >0.625505</td>\n",
              "                        <td id=\"T_88a15016_2cab_11eb_b473_0242ac1c0002row8_col1\" class=\"data row8 col1\" >-0.311948</td>\n",
              "                        <td id=\"T_88a15016_2cab_11eb_b473_0242ac1c0002row8_col2\" class=\"data row8 col2\" >0.595129</td>\n",
              "                        <td id=\"T_88a15016_2cab_11eb_b473_0242ac1c0002row8_col3\" class=\"data row8 col3\" >-0.007368</td>\n",
              "                        <td id=\"T_88a15016_2cab_11eb_b473_0242ac1c0002row8_col4\" class=\"data row8 col4\" >0.611441</td>\n",
              "                        <td id=\"T_88a15016_2cab_11eb_b473_0242ac1c0002row8_col5\" class=\"data row8 col5\" >-0.209847</td>\n",
              "                        <td id=\"T_88a15016_2cab_11eb_b473_0242ac1c0002row8_col6\" class=\"data row8 col6\" >0.456022</td>\n",
              "                        <td id=\"T_88a15016_2cab_11eb_b473_0242ac1c0002row8_col7\" class=\"data row8 col7\" >-0.494588</td>\n",
              "                        <td id=\"T_88a15016_2cab_11eb_b473_0242ac1c0002row8_col8\" class=\"data row8 col8\" >1.000000</td>\n",
              "                        <td id=\"T_88a15016_2cab_11eb_b473_0242ac1c0002row8_col9\" class=\"data row8 col9\" >0.910228</td>\n",
              "                        <td id=\"T_88a15016_2cab_11eb_b473_0242ac1c0002row8_col10\" class=\"data row8 col10\" >0.464741</td>\n",
              "                        <td id=\"T_88a15016_2cab_11eb_b473_0242ac1c0002row8_col11\" class=\"data row8 col11\" >-0.444413</td>\n",
              "                        <td id=\"T_88a15016_2cab_11eb_b473_0242ac1c0002row8_col12\" class=\"data row8 col12\" >0.488676</td>\n",
              "                        <td id=\"T_88a15016_2cab_11eb_b473_0242ac1c0002row8_col13\" class=\"data row8 col13\" >nan</td>\n",
              "            </tr>\n",
              "            <tr>\n",
              "                        <th id=\"T_88a15016_2cab_11eb_b473_0242ac1c0002level0_row9\" class=\"row_heading level0 row9\" >TAX</th>\n",
              "                        <td id=\"T_88a15016_2cab_11eb_b473_0242ac1c0002row9_col0\" class=\"data row9 col0\" >0.582764</td>\n",
              "                        <td id=\"T_88a15016_2cab_11eb_b473_0242ac1c0002row9_col1\" class=\"data row9 col1\" >-0.314563</td>\n",
              "                        <td id=\"T_88a15016_2cab_11eb_b473_0242ac1c0002row9_col2\" class=\"data row9 col2\" >0.720760</td>\n",
              "                        <td id=\"T_88a15016_2cab_11eb_b473_0242ac1c0002row9_col3\" class=\"data row9 col3\" >-0.035587</td>\n",
              "                        <td id=\"T_88a15016_2cab_11eb_b473_0242ac1c0002row9_col4\" class=\"data row9 col4\" >0.668023</td>\n",
              "                        <td id=\"T_88a15016_2cab_11eb_b473_0242ac1c0002row9_col5\" class=\"data row9 col5\" >-0.292048</td>\n",
              "                        <td id=\"T_88a15016_2cab_11eb_b473_0242ac1c0002row9_col6\" class=\"data row9 col6\" >0.506456</td>\n",
              "                        <td id=\"T_88a15016_2cab_11eb_b473_0242ac1c0002row9_col7\" class=\"data row9 col7\" >-0.534432</td>\n",
              "                        <td id=\"T_88a15016_2cab_11eb_b473_0242ac1c0002row9_col8\" class=\"data row9 col8\" >0.910228</td>\n",
              "                        <td id=\"T_88a15016_2cab_11eb_b473_0242ac1c0002row9_col9\" class=\"data row9 col9\" >1.000000</td>\n",
              "                        <td id=\"T_88a15016_2cab_11eb_b473_0242ac1c0002row9_col10\" class=\"data row9 col10\" >0.460853</td>\n",
              "                        <td id=\"T_88a15016_2cab_11eb_b473_0242ac1c0002row9_col11\" class=\"data row9 col11\" >-0.441808</td>\n",
              "                        <td id=\"T_88a15016_2cab_11eb_b473_0242ac1c0002row9_col12\" class=\"data row9 col12\" >0.543993</td>\n",
              "                        <td id=\"T_88a15016_2cab_11eb_b473_0242ac1c0002row9_col13\" class=\"data row9 col13\" >nan</td>\n",
              "            </tr>\n",
              "            <tr>\n",
              "                        <th id=\"T_88a15016_2cab_11eb_b473_0242ac1c0002level0_row10\" class=\"row_heading level0 row10\" >PTRATIO</th>\n",
              "                        <td id=\"T_88a15016_2cab_11eb_b473_0242ac1c0002row10_col0\" class=\"data row10 col0\" >0.289946</td>\n",
              "                        <td id=\"T_88a15016_2cab_11eb_b473_0242ac1c0002row10_col1\" class=\"data row10 col1\" >-0.391679</td>\n",
              "                        <td id=\"T_88a15016_2cab_11eb_b473_0242ac1c0002row10_col2\" class=\"data row10 col2\" >0.383248</td>\n",
              "                        <td id=\"T_88a15016_2cab_11eb_b473_0242ac1c0002row10_col3\" class=\"data row10 col3\" >-0.121515</td>\n",
              "                        <td id=\"T_88a15016_2cab_11eb_b473_0242ac1c0002row10_col4\" class=\"data row10 col4\" >0.188933</td>\n",
              "                        <td id=\"T_88a15016_2cab_11eb_b473_0242ac1c0002row10_col5\" class=\"data row10 col5\" >-0.355501</td>\n",
              "                        <td id=\"T_88a15016_2cab_11eb_b473_0242ac1c0002row10_col6\" class=\"data row10 col6\" >0.261515</td>\n",
              "                        <td id=\"T_88a15016_2cab_11eb_b473_0242ac1c0002row10_col7\" class=\"data row10 col7\" >-0.232471</td>\n",
              "                        <td id=\"T_88a15016_2cab_11eb_b473_0242ac1c0002row10_col8\" class=\"data row10 col8\" >0.464741</td>\n",
              "                        <td id=\"T_88a15016_2cab_11eb_b473_0242ac1c0002row10_col9\" class=\"data row10 col9\" >0.460853</td>\n",
              "                        <td id=\"T_88a15016_2cab_11eb_b473_0242ac1c0002row10_col10\" class=\"data row10 col10\" >1.000000</td>\n",
              "                        <td id=\"T_88a15016_2cab_11eb_b473_0242ac1c0002row10_col11\" class=\"data row10 col11\" >-0.177383</td>\n",
              "                        <td id=\"T_88a15016_2cab_11eb_b473_0242ac1c0002row10_col12\" class=\"data row10 col12\" >0.374044</td>\n",
              "                        <td id=\"T_88a15016_2cab_11eb_b473_0242ac1c0002row10_col13\" class=\"data row10 col13\" >nan</td>\n",
              "            </tr>\n",
              "            <tr>\n",
              "                        <th id=\"T_88a15016_2cab_11eb_b473_0242ac1c0002level0_row11\" class=\"row_heading level0 row11\" >B</th>\n",
              "                        <td id=\"T_88a15016_2cab_11eb_b473_0242ac1c0002row11_col0\" class=\"data row11 col0\" >-0.385064</td>\n",
              "                        <td id=\"T_88a15016_2cab_11eb_b473_0242ac1c0002row11_col1\" class=\"data row11 col1\" >0.175520</td>\n",
              "                        <td id=\"T_88a15016_2cab_11eb_b473_0242ac1c0002row11_col2\" class=\"data row11 col2\" >-0.356977</td>\n",
              "                        <td id=\"T_88a15016_2cab_11eb_b473_0242ac1c0002row11_col3\" class=\"data row11 col3\" >0.048788</td>\n",
              "                        <td id=\"T_88a15016_2cab_11eb_b473_0242ac1c0002row11_col4\" class=\"data row11 col4\" >-0.380051</td>\n",
              "                        <td id=\"T_88a15016_2cab_11eb_b473_0242ac1c0002row11_col5\" class=\"data row11 col5\" >0.128069</td>\n",
              "                        <td id=\"T_88a15016_2cab_11eb_b473_0242ac1c0002row11_col6\" class=\"data row11 col6\" >-0.273534</td>\n",
              "                        <td id=\"T_88a15016_2cab_11eb_b473_0242ac1c0002row11_col7\" class=\"data row11 col7\" >0.291512</td>\n",
              "                        <td id=\"T_88a15016_2cab_11eb_b473_0242ac1c0002row11_col8\" class=\"data row11 col8\" >-0.444413</td>\n",
              "                        <td id=\"T_88a15016_2cab_11eb_b473_0242ac1c0002row11_col9\" class=\"data row11 col9\" >-0.441808</td>\n",
              "                        <td id=\"T_88a15016_2cab_11eb_b473_0242ac1c0002row11_col10\" class=\"data row11 col10\" >-0.177383</td>\n",
              "                        <td id=\"T_88a15016_2cab_11eb_b473_0242ac1c0002row11_col11\" class=\"data row11 col11\" >1.000000</td>\n",
              "                        <td id=\"T_88a15016_2cab_11eb_b473_0242ac1c0002row11_col12\" class=\"data row11 col12\" >-0.366087</td>\n",
              "                        <td id=\"T_88a15016_2cab_11eb_b473_0242ac1c0002row11_col13\" class=\"data row11 col13\" >nan</td>\n",
              "            </tr>\n",
              "            <tr>\n",
              "                        <th id=\"T_88a15016_2cab_11eb_b473_0242ac1c0002level0_row12\" class=\"row_heading level0 row12\" >LSTAT</th>\n",
              "                        <td id=\"T_88a15016_2cab_11eb_b473_0242ac1c0002row12_col0\" class=\"data row12 col0\" >0.455621</td>\n",
              "                        <td id=\"T_88a15016_2cab_11eb_b473_0242ac1c0002row12_col1\" class=\"data row12 col1\" >-0.412995</td>\n",
              "                        <td id=\"T_88a15016_2cab_11eb_b473_0242ac1c0002row12_col2\" class=\"data row12 col2\" >0.603800</td>\n",
              "                        <td id=\"T_88a15016_2cab_11eb_b473_0242ac1c0002row12_col3\" class=\"data row12 col3\" >-0.053929</td>\n",
              "                        <td id=\"T_88a15016_2cab_11eb_b473_0242ac1c0002row12_col4\" class=\"data row12 col4\" >0.590879</td>\n",
              "                        <td id=\"T_88a15016_2cab_11eb_b473_0242ac1c0002row12_col5\" class=\"data row12 col5\" >-0.613808</td>\n",
              "                        <td id=\"T_88a15016_2cab_11eb_b473_0242ac1c0002row12_col6\" class=\"data row12 col6\" >0.602339</td>\n",
              "                        <td id=\"T_88a15016_2cab_11eb_b473_0242ac1c0002row12_col7\" class=\"data row12 col7\" >-0.496996</td>\n",
              "                        <td id=\"T_88a15016_2cab_11eb_b473_0242ac1c0002row12_col8\" class=\"data row12 col8\" >0.488676</td>\n",
              "                        <td id=\"T_88a15016_2cab_11eb_b473_0242ac1c0002row12_col9\" class=\"data row12 col9\" >0.543993</td>\n",
              "                        <td id=\"T_88a15016_2cab_11eb_b473_0242ac1c0002row12_col10\" class=\"data row12 col10\" >0.374044</td>\n",
              "                        <td id=\"T_88a15016_2cab_11eb_b473_0242ac1c0002row12_col11\" class=\"data row12 col11\" >-0.366087</td>\n",
              "                        <td id=\"T_88a15016_2cab_11eb_b473_0242ac1c0002row12_col12\" class=\"data row12 col12\" >1.000000</td>\n",
              "                        <td id=\"T_88a15016_2cab_11eb_b473_0242ac1c0002row12_col13\" class=\"data row12 col13\" >nan</td>\n",
              "            </tr>\n",
              "            <tr>\n",
              "                        <th id=\"T_88a15016_2cab_11eb_b473_0242ac1c0002level0_row13\" class=\"row_heading level0 row13\" >b0</th>\n",
              "                        <td id=\"T_88a15016_2cab_11eb_b473_0242ac1c0002row13_col0\" class=\"data row13 col0\" >nan</td>\n",
              "                        <td id=\"T_88a15016_2cab_11eb_b473_0242ac1c0002row13_col1\" class=\"data row13 col1\" >nan</td>\n",
              "                        <td id=\"T_88a15016_2cab_11eb_b473_0242ac1c0002row13_col2\" class=\"data row13 col2\" >nan</td>\n",
              "                        <td id=\"T_88a15016_2cab_11eb_b473_0242ac1c0002row13_col3\" class=\"data row13 col3\" >nan</td>\n",
              "                        <td id=\"T_88a15016_2cab_11eb_b473_0242ac1c0002row13_col4\" class=\"data row13 col4\" >nan</td>\n",
              "                        <td id=\"T_88a15016_2cab_11eb_b473_0242ac1c0002row13_col5\" class=\"data row13 col5\" >nan</td>\n",
              "                        <td id=\"T_88a15016_2cab_11eb_b473_0242ac1c0002row13_col6\" class=\"data row13 col6\" >nan</td>\n",
              "                        <td id=\"T_88a15016_2cab_11eb_b473_0242ac1c0002row13_col7\" class=\"data row13 col7\" >nan</td>\n",
              "                        <td id=\"T_88a15016_2cab_11eb_b473_0242ac1c0002row13_col8\" class=\"data row13 col8\" >nan</td>\n",
              "                        <td id=\"T_88a15016_2cab_11eb_b473_0242ac1c0002row13_col9\" class=\"data row13 col9\" >nan</td>\n",
              "                        <td id=\"T_88a15016_2cab_11eb_b473_0242ac1c0002row13_col10\" class=\"data row13 col10\" >nan</td>\n",
              "                        <td id=\"T_88a15016_2cab_11eb_b473_0242ac1c0002row13_col11\" class=\"data row13 col11\" >nan</td>\n",
              "                        <td id=\"T_88a15016_2cab_11eb_b473_0242ac1c0002row13_col12\" class=\"data row13 col12\" >nan</td>\n",
              "                        <td id=\"T_88a15016_2cab_11eb_b473_0242ac1c0002row13_col13\" class=\"data row13 col13\" >nan</td>\n",
              "            </tr>\n",
              "    </tbody></table>"
            ],
            "text/plain": [
              "<pandas.io.formats.style.Styler at 0x7f47b1655a90>"
            ]
          },
          "metadata": {
            "tags": []
          },
          "execution_count": 52
        }
      ]
    },
    {
      "cell_type": "code",
      "metadata": {
        "id": "GBCkbnjm7nB2"
      },
      "source": [
        "from statsmodels.stats.outliers_influence import variance_inflation_factor "
      ],
      "execution_count": null,
      "outputs": []
    },
    {
      "cell_type": "code",
      "metadata": {
        "colab": {
          "base_uri": "https://localhost:8080/"
        },
        "id": "Cgk_2fu9QBHk",
        "outputId": "def948f8-6684-4a68-980c-7874631ac2af"
      },
      "source": [
        "vif_data = pd.DataFrame() \n",
        "vif_data[\"feature\"] = X.drop(\"const\", axis=1).columns \n",
        "\n",
        "vif_data[\"VIF\"] = [variance_inflation_factor(X.drop(\"const\", axis=1).values, i) \n",
        "                          for i in range(len(X.drop(\"const\", axis=1).columns))] \n",
        "  \n",
        "print(vif_data)\n",
        "#reguła kciuka stwierdza że VIF powyżej 5 uważany jest za wysoki"
      ],
      "execution_count": null,
      "outputs": [
        {
          "output_type": "stream",
          "text": [
            "    feature        VIF\n",
            "0      CRIM   2.100373\n",
            "1        ZN   2.844013\n",
            "2     INDUS  14.485758\n",
            "3      CHAS   1.152952\n",
            "4       NOX  73.894947\n",
            "5        RM  77.948283\n",
            "6       AGE  21.386850\n",
            "7       DIS  14.699652\n",
            "8       RAD  15.167725\n",
            "9       TAX  61.227274\n",
            "10  PTRATIO  85.029547\n",
            "11        B  20.104943\n",
            "12    LSTAT  11.102025\n"
          ],
          "name": "stdout"
        }
      ]
    },
    {
      "cell_type": "code",
      "metadata": {
        "colab": {
          "base_uri": "https://localhost:8080/"
        },
        "id": "8wYYFtrKfEQt",
        "outputId": "e3a0ce8b-4ba9-4a6f-b7bc-d42d5801882e"
      },
      "source": [
        "model = sm.OLS(y, X.drop([\"AGE\", \"INDUS\", \"PTRATIO\"], axis=1))\n",
        "results = model.fit()\n",
        "print(results.summary())"
      ],
      "execution_count": null,
      "outputs": [
        {
          "output_type": "stream",
          "text": [
            "                            OLS Regression Results                            \n",
            "==============================================================================\n",
            "Dep. Variable:                      y   R-squared:                       0.712\n",
            "Model:                            OLS   Adj. R-squared:                  0.707\n",
            "Method:                 Least Squares   F-statistic:                     122.6\n",
            "Date:                Sun, 25 Apr 2021   Prob (F-statistic):          4.99e-127\n",
            "Time:                        13:43:58   Log-Likelihood:                -1525.0\n",
            "No. Observations:                 506   AIC:                             3072.\n",
            "Df Residuals:                     495   BIC:                             3119.\n",
            "Df Model:                          10                                         \n",
            "Covariance Type:            nonrobust                                         \n",
            "==============================================================================\n",
            "                 coef    std err          t      P>|t|      [0.025      0.975]\n",
            "------------------------------------------------------------------------------\n",
            "const         14.1995      4.281      3.317      0.001       5.788      22.611\n",
            "CRIM          -0.1022      0.034     -2.965      0.003      -0.170      -0.034\n",
            "ZN             0.0798      0.013      5.975      0.000       0.054       0.106\n",
            "CHAS           3.2055      0.896      3.578      0.000       1.445       4.966\n",
            "NOX           -9.6106      3.548     -2.709      0.007     -16.582      -2.639\n",
            "RM             4.2820      0.422     10.151      0.000       3.453       5.111\n",
            "DIS           -1.5567      0.195     -7.976      0.000      -1.940      -1.173\n",
            "RAD            0.2275      0.066      3.453      0.001       0.098       0.357\n",
            "TAX           -0.0155      0.004     -4.429      0.000      -0.022      -0.009\n",
            "B              0.0086      0.003      3.063      0.002       0.003       0.014\n",
            "LSTAT         -0.5534      0.050    -11.136      0.000      -0.651      -0.456\n",
            "==============================================================================\n",
            "Omnibus:                      157.569   Durbin-Watson:                   0.988\n",
            "Prob(Omnibus):                  0.000   Jarque-Bera (JB):              590.139\n",
            "Skew:                           1.387   Prob(JB):                    7.13e-129\n",
            "Kurtosis:                       7.505   Cond. No.                     1.21e+04\n",
            "==============================================================================\n",
            "\n",
            "Warnings:\n",
            "[1] Standard Errors assume that the covariance matrix of the errors is correctly specified.\n",
            "[2] The condition number is large, 1.21e+04. This might indicate that there are\n",
            "strong multicollinearity or other numerical problems.\n"
          ],
          "name": "stdout"
        }
      ]
    },
    {
      "cell_type": "markdown",
      "metadata": {
        "id": "VQluC4-4RG3o"
      },
      "source": [
        "## Duża liczba zmiennych"
      ]
    },
    {
      "cell_type": "markdown",
      "metadata": {
        "id": "MfmDXoJ8RI7i"
      },
      "source": [
        "Zbyt duża liczba zmiennych często prowadzi do problemów opisanych już w innych miejscach. Dodatkowo może sprzyjać overfittingowi. "
      ]
    },
    {
      "cell_type": "markdown",
      "metadata": {
        "id": "SMhbiBGjRW3S"
      },
      "source": [
        "W praktyce selekcję zmiennych przperowadza się ręcznie (wykorzystując opmówione już wcześniej metody), backward albo forward selection, lub obecnie najczęściej podejścia rozbudowujące prostą regresję jak regresja lasso, ridge albo elastic net."
      ]
    },
    {
      "cell_type": "markdown",
      "metadata": {
        "id": "OOW4MdCUSQG0"
      },
      "source": [
        "Przykład implementacji algorytmu foreward selection (na bazie https://planspace.org/20150423-forward_selection_with_statsmodels/): "
      ]
    },
    {
      "cell_type": "code",
      "metadata": {
        "id": "2zaRr-_wSW8s"
      },
      "source": [
        "import statsmodels.formula.api as smf\n",
        "\n",
        "def forward_selected(data, response):\n",
        "    \"\"\"Linear model designed by forward selection.\n",
        "\n",
        "    Parameters:\n",
        "    -----------\n",
        "    data : pandas DataFrame with all possible predictors and response\n",
        "\n",
        "    response: string, name of response column in data\n",
        "\n",
        "    Returns:\n",
        "    --------\n",
        "    model: an \"optimal\" fitted statsmodels linear model\n",
        "           with an intercept\n",
        "           selected by forward selection\n",
        "           evaluated by adjusted R-squared\n",
        "    \"\"\"\n",
        "    remaining = set(data.columns)\n",
        "    remaining.remove(response)\n",
        "    selected = []\n",
        "    current_score, best_new_score = 0.0, 0.0\n",
        "    while remaining and current_score == best_new_score:\n",
        "        scores_with_candidates = []\n",
        "        for candidate in remaining:\n",
        "            formula = \"{} ~ {} + 1\".format(response,\n",
        "                                           ' + '.join(selected + [candidate]))\n",
        "            score = smf.ols(formula, data).fit().rsquared_adj\n",
        "            scores_with_candidates.append((score, candidate))\n",
        "        scores_with_candidates.sort()\n",
        "        best_new_score, best_candidate = scores_with_candidates.pop()\n",
        "        if current_score < best_new_score:\n",
        "            remaining.remove(best_candidate)\n",
        "            selected.append(best_candidate)\n",
        "            current_score = best_new_score\n",
        "    formula = \"{} ~ {} + 1\".format(response,\n",
        "                                   ' + '.join(selected))\n",
        "    model = smf.ols(formula, data).fit()\n",
        "    return model"
      ],
      "execution_count": null,
      "outputs": []
    },
    {
      "cell_type": "code",
      "metadata": {
        "colab": {
          "base_uri": "https://localhost:8080/",
          "height": 406
        },
        "id": "b3Y4MUjyTPi7",
        "outputId": "ed61b374-8045-4dd4-c014-0231ae6b5354"
      },
      "source": [
        "boston_X"
      ],
      "execution_count": null,
      "outputs": [
        {
          "output_type": "execute_result",
          "data": {
            "text/html": [
              "<div>\n",
              "<style scoped>\n",
              "    .dataframe tbody tr th:only-of-type {\n",
              "        vertical-align: middle;\n",
              "    }\n",
              "\n",
              "    .dataframe tbody tr th {\n",
              "        vertical-align: top;\n",
              "    }\n",
              "\n",
              "    .dataframe thead th {\n",
              "        text-align: right;\n",
              "    }\n",
              "</style>\n",
              "<table border=\"1\" class=\"dataframe\">\n",
              "  <thead>\n",
              "    <tr style=\"text-align: right;\">\n",
              "      <th></th>\n",
              "      <th>CRIM</th>\n",
              "      <th>ZN</th>\n",
              "      <th>INDUS</th>\n",
              "      <th>CHAS</th>\n",
              "      <th>NOX</th>\n",
              "      <th>RM</th>\n",
              "      <th>AGE</th>\n",
              "      <th>DIS</th>\n",
              "      <th>RAD</th>\n",
              "      <th>TAX</th>\n",
              "      <th>PTRATIO</th>\n",
              "      <th>B</th>\n",
              "      <th>LSTAT</th>\n",
              "    </tr>\n",
              "  </thead>\n",
              "  <tbody>\n",
              "    <tr>\n",
              "      <th>0</th>\n",
              "      <td>0.00632</td>\n",
              "      <td>18.0</td>\n",
              "      <td>2.31</td>\n",
              "      <td>0.0</td>\n",
              "      <td>0.538</td>\n",
              "      <td>6.575</td>\n",
              "      <td>65.2</td>\n",
              "      <td>4.0900</td>\n",
              "      <td>1.0</td>\n",
              "      <td>296.0</td>\n",
              "      <td>15.3</td>\n",
              "      <td>396.90</td>\n",
              "      <td>4.98</td>\n",
              "    </tr>\n",
              "    <tr>\n",
              "      <th>1</th>\n",
              "      <td>0.02731</td>\n",
              "      <td>0.0</td>\n",
              "      <td>7.07</td>\n",
              "      <td>0.0</td>\n",
              "      <td>0.469</td>\n",
              "      <td>6.421</td>\n",
              "      <td>78.9</td>\n",
              "      <td>4.9671</td>\n",
              "      <td>2.0</td>\n",
              "      <td>242.0</td>\n",
              "      <td>17.8</td>\n",
              "      <td>396.90</td>\n",
              "      <td>9.14</td>\n",
              "    </tr>\n",
              "    <tr>\n",
              "      <th>2</th>\n",
              "      <td>0.02729</td>\n",
              "      <td>0.0</td>\n",
              "      <td>7.07</td>\n",
              "      <td>0.0</td>\n",
              "      <td>0.469</td>\n",
              "      <td>7.185</td>\n",
              "      <td>61.1</td>\n",
              "      <td>4.9671</td>\n",
              "      <td>2.0</td>\n",
              "      <td>242.0</td>\n",
              "      <td>17.8</td>\n",
              "      <td>392.83</td>\n",
              "      <td>4.03</td>\n",
              "    </tr>\n",
              "    <tr>\n",
              "      <th>3</th>\n",
              "      <td>0.03237</td>\n",
              "      <td>0.0</td>\n",
              "      <td>2.18</td>\n",
              "      <td>0.0</td>\n",
              "      <td>0.458</td>\n",
              "      <td>6.998</td>\n",
              "      <td>45.8</td>\n",
              "      <td>6.0622</td>\n",
              "      <td>3.0</td>\n",
              "      <td>222.0</td>\n",
              "      <td>18.7</td>\n",
              "      <td>394.63</td>\n",
              "      <td>2.94</td>\n",
              "    </tr>\n",
              "    <tr>\n",
              "      <th>4</th>\n",
              "      <td>0.06905</td>\n",
              "      <td>0.0</td>\n",
              "      <td>2.18</td>\n",
              "      <td>0.0</td>\n",
              "      <td>0.458</td>\n",
              "      <td>7.147</td>\n",
              "      <td>54.2</td>\n",
              "      <td>6.0622</td>\n",
              "      <td>3.0</td>\n",
              "      <td>222.0</td>\n",
              "      <td>18.7</td>\n",
              "      <td>396.90</td>\n",
              "      <td>5.33</td>\n",
              "    </tr>\n",
              "    <tr>\n",
              "      <th>...</th>\n",
              "      <td>...</td>\n",
              "      <td>...</td>\n",
              "      <td>...</td>\n",
              "      <td>...</td>\n",
              "      <td>...</td>\n",
              "      <td>...</td>\n",
              "      <td>...</td>\n",
              "      <td>...</td>\n",
              "      <td>...</td>\n",
              "      <td>...</td>\n",
              "      <td>...</td>\n",
              "      <td>...</td>\n",
              "      <td>...</td>\n",
              "    </tr>\n",
              "    <tr>\n",
              "      <th>501</th>\n",
              "      <td>0.06263</td>\n",
              "      <td>0.0</td>\n",
              "      <td>11.93</td>\n",
              "      <td>0.0</td>\n",
              "      <td>0.573</td>\n",
              "      <td>6.593</td>\n",
              "      <td>69.1</td>\n",
              "      <td>2.4786</td>\n",
              "      <td>1.0</td>\n",
              "      <td>273.0</td>\n",
              "      <td>21.0</td>\n",
              "      <td>391.99</td>\n",
              "      <td>9.67</td>\n",
              "    </tr>\n",
              "    <tr>\n",
              "      <th>502</th>\n",
              "      <td>0.04527</td>\n",
              "      <td>0.0</td>\n",
              "      <td>11.93</td>\n",
              "      <td>0.0</td>\n",
              "      <td>0.573</td>\n",
              "      <td>6.120</td>\n",
              "      <td>76.7</td>\n",
              "      <td>2.2875</td>\n",
              "      <td>1.0</td>\n",
              "      <td>273.0</td>\n",
              "      <td>21.0</td>\n",
              "      <td>396.90</td>\n",
              "      <td>9.08</td>\n",
              "    </tr>\n",
              "    <tr>\n",
              "      <th>503</th>\n",
              "      <td>0.06076</td>\n",
              "      <td>0.0</td>\n",
              "      <td>11.93</td>\n",
              "      <td>0.0</td>\n",
              "      <td>0.573</td>\n",
              "      <td>6.976</td>\n",
              "      <td>91.0</td>\n",
              "      <td>2.1675</td>\n",
              "      <td>1.0</td>\n",
              "      <td>273.0</td>\n",
              "      <td>21.0</td>\n",
              "      <td>396.90</td>\n",
              "      <td>5.64</td>\n",
              "    </tr>\n",
              "    <tr>\n",
              "      <th>504</th>\n",
              "      <td>0.10959</td>\n",
              "      <td>0.0</td>\n",
              "      <td>11.93</td>\n",
              "      <td>0.0</td>\n",
              "      <td>0.573</td>\n",
              "      <td>6.794</td>\n",
              "      <td>89.3</td>\n",
              "      <td>2.3889</td>\n",
              "      <td>1.0</td>\n",
              "      <td>273.0</td>\n",
              "      <td>21.0</td>\n",
              "      <td>393.45</td>\n",
              "      <td>6.48</td>\n",
              "    </tr>\n",
              "    <tr>\n",
              "      <th>505</th>\n",
              "      <td>0.04741</td>\n",
              "      <td>0.0</td>\n",
              "      <td>11.93</td>\n",
              "      <td>0.0</td>\n",
              "      <td>0.573</td>\n",
              "      <td>6.030</td>\n",
              "      <td>80.8</td>\n",
              "      <td>2.5050</td>\n",
              "      <td>1.0</td>\n",
              "      <td>273.0</td>\n",
              "      <td>21.0</td>\n",
              "      <td>396.90</td>\n",
              "      <td>7.88</td>\n",
              "    </tr>\n",
              "  </tbody>\n",
              "</table>\n",
              "<p>506 rows × 13 columns</p>\n",
              "</div>"
            ],
            "text/plain": [
              "        CRIM    ZN  INDUS  CHAS    NOX  ...  RAD    TAX  PTRATIO       B  LSTAT\n",
              "0    0.00632  18.0   2.31   0.0  0.538  ...  1.0  296.0     15.3  396.90   4.98\n",
              "1    0.02731   0.0   7.07   0.0  0.469  ...  2.0  242.0     17.8  396.90   9.14\n",
              "2    0.02729   0.0   7.07   0.0  0.469  ...  2.0  242.0     17.8  392.83   4.03\n",
              "3    0.03237   0.0   2.18   0.0  0.458  ...  3.0  222.0     18.7  394.63   2.94\n",
              "4    0.06905   0.0   2.18   0.0  0.458  ...  3.0  222.0     18.7  396.90   5.33\n",
              "..       ...   ...    ...   ...    ...  ...  ...    ...      ...     ...    ...\n",
              "501  0.06263   0.0  11.93   0.0  0.573  ...  1.0  273.0     21.0  391.99   9.67\n",
              "502  0.04527   0.0  11.93   0.0  0.573  ...  1.0  273.0     21.0  396.90   9.08\n",
              "503  0.06076   0.0  11.93   0.0  0.573  ...  1.0  273.0     21.0  396.90   5.64\n",
              "504  0.10959   0.0  11.93   0.0  0.573  ...  1.0  273.0     21.0  393.45   6.48\n",
              "505  0.04741   0.0  11.93   0.0  0.573  ...  1.0  273.0     21.0  396.90   7.88\n",
              "\n",
              "[506 rows x 13 columns]"
            ]
          },
          "metadata": {
            "tags": []
          },
          "execution_count": 33
        }
      ]
    },
    {
      "cell_type": "code",
      "metadata": {
        "id": "aoWRkVWaSikx"
      },
      "source": [
        "dt = pd.concat([boston_X.reset_index(drop=True), pd.DataFrame(y, columns = [\"target\"]).reset_index(drop=True)], axis=1)\n",
        "model = forward_selected(dt, 'target')"
      ],
      "execution_count": null,
      "outputs": []
    },
    {
      "cell_type": "code",
      "metadata": {
        "colab": {
          "base_uri": "https://localhost:8080/"
        },
        "id": "O1D1ugZDUj4x",
        "outputId": "edf8e635-74c9-4ec9-f4b6-93218fb326e7"
      },
      "source": [
        "print(model.summary())"
      ],
      "execution_count": null,
      "outputs": [
        {
          "output_type": "stream",
          "text": [
            "                            OLS Regression Results                            \n",
            "==============================================================================\n",
            "Dep. Variable:                 target   R-squared:                       0.741\n",
            "Model:                            OLS   Adj. R-squared:                  0.735\n",
            "Method:                 Least Squares   F-statistic:                     128.2\n",
            "Date:                Sun, 22 Nov 2020   Prob (F-statistic):          5.54e-137\n",
            "Time:                        10:43:27   Log-Likelihood:                -1498.9\n",
            "No. Observations:                 506   AIC:                             3022.\n",
            "Df Residuals:                     494   BIC:                             3072.\n",
            "Df Model:                          11                                         \n",
            "Covariance Type:            nonrobust                                         \n",
            "==============================================================================\n",
            "                 coef    std err          t      P>|t|      [0.025      0.975]\n",
            "------------------------------------------------------------------------------\n",
            "Intercept     36.3411      5.067      7.171      0.000      26.385      46.298\n",
            "LSTAT         -0.5226      0.047    -11.019      0.000      -0.616      -0.429\n",
            "RM             3.8016      0.406      9.356      0.000       3.003       4.600\n",
            "PTRATIO       -0.9465      0.129     -7.334      0.000      -1.200      -0.693\n",
            "DIS           -1.4927      0.186     -8.037      0.000      -1.858      -1.128\n",
            "NOX          -17.3760      3.535     -4.915      0.000     -24.322     -10.430\n",
            "CHAS           2.7187      0.854      3.183      0.002       1.040       4.397\n",
            "B              0.0093      0.003      3.475      0.001       0.004       0.015\n",
            "ZN             0.0458      0.014      3.390      0.001       0.019       0.072\n",
            "CRIM          -0.1084      0.033     -3.307      0.001      -0.173      -0.044\n",
            "RAD            0.2996      0.063      4.726      0.000       0.175       0.424\n",
            "TAX           -0.0118      0.003     -3.493      0.001      -0.018      -0.005\n",
            "==============================================================================\n",
            "Omnibus:                      178.430   Durbin-Watson:                   1.078\n",
            "Prob(Omnibus):                  0.000   Jarque-Bera (JB):              787.785\n",
            "Skew:                           1.523   Prob(JB):                    8.60e-172\n",
            "Kurtosis:                       8.300   Cond. No.                     1.47e+04\n",
            "==============================================================================\n",
            "\n",
            "Warnings:\n",
            "[1] Standard Errors assume that the covariance matrix of the errors is correctly specified.\n",
            "[2] The condition number is large, 1.47e+04. This might indicate that there are\n",
            "strong multicollinearity or other numerical problems.\n"
          ],
          "name": "stdout"
        }
      ]
    },
    {
      "cell_type": "markdown",
      "metadata": {
        "id": "5oTxiHIrVdaz"
      },
      "source": [
        "## Outliery"
      ]
    },
    {
      "cell_type": "markdown",
      "metadata": {
        "id": "_0PFl3OzVgsX"
      },
      "source": [
        "Outliery mogą poważnie zaburzyć wyniki regresji (bardziej niż w większości innych metod). Powinny być zidentyfikowe w czasie EDA. "
      ]
    }
  ]
}